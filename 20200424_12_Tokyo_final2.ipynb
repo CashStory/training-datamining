{
  "nbformat": 4,
  "nbformat_minor": 0,
  "metadata": {
    "colab": {
      "name": "20200424_12_Tokyo_final2.ipynb",
      "provenance": [],
      "collapsed_sections": [],
      "include_colab_link": true
    },
    "kernelspec": {
      "name": "python3",
      "display_name": "Python 3"
    }
  },
  "cells": [
    {
      "cell_type": "markdown",
      "metadata": {
        "id": "view-in-github",
        "colab_type": "text"
      },
      "source": [
        "<a href=\"https://colab.research.google.com/github/estebanlecalvez/training-datamining-mds/blob/master/20200424_12_Tokyo_final2.ipynb\" target=\"_parent\"><img src=\"https://colab.research.google.com/assets/colab-badge.svg\" alt=\"Open In Colab\"/></a>"
      ]
    },
    {
      "cell_type": "markdown",
      "metadata": {
        "id": "SCltjZiCM9HI",
        "colab_type": "text"
      },
      "source": [
        "**Objectifs**\n",
        "\n",
        "*   Faire un graphique du top 10 des pays les plus grand\n",
        "*   Puis un top 10 des pays avec le plus d'habitant au mètre carré\n"
      ]
    },
    {
      "cell_type": "markdown",
      "metadata": {
        "id": "ISIpHAcLIAqV",
        "colab_type": "text"
      },
      "source": [
        "**Import**"
      ]
    },
    {
      "cell_type": "code",
      "metadata": {
        "id": "U4f84VWLB7q7",
        "colab_type": "code",
        "colab": {}
      },
      "source": [
        "import pandas as pd\n",
        "from pydrive.auth import GoogleAuth\n",
        "from pydrive.drive import GoogleDrive\n",
        "from google.colab import auth\n",
        "from oauth2client.client import GoogleCredentials\n",
        "import plotly.graph_objects as go\n",
        "import plotly.express as px\n",
        "import plotly.io as pio\n",
        "import plotly.offline as ofli\n",
        "from IPython.display import display\n",
        "import ipywidgets as widgets"
      ],
      "execution_count": 0,
      "outputs": []
    },
    {
      "cell_type": "markdown",
      "metadata": {
        "id": "CCHX76PQMHxD",
        "colab_type": "text"
      },
      "source": [
        "**Authentification**"
      ]
    },
    {
      "cell_type": "markdown",
      "metadata": {
        "id": "2UVGasHdB6l8",
        "colab_type": "text"
      },
      "source": [
        "**Source : Kaggle =>** https://www.kaggle.com/sudalairajkumar/undata-country-profiles/data#country_profile_variables.csv\n",
        "\n",
        "From SRK, last updated in 2018"
      ]
    },
    {
      "cell_type": "code",
      "metadata": {
        "id": "7uvM7sKXIGNK",
        "colab_type": "code",
        "colab": {}
      },
      "source": [
        "auth.authenticate_user()\n",
        "gauth = GoogleAuth()\n",
        "gauth.credentials = GoogleCredentials.get_application_default()\n",
        "drive = GoogleDrive(gauth)\n",
        "downloaded = drive.CreateFile({'id':\"1f-yl7fIkJYyTwJRRqeza5kWompmClYNE\"})\n",
        "downloaded.GetContentFile('country_profile_variables.csv')"
      ],
      "execution_count": 0,
      "outputs": []
    },
    {
      "cell_type": "code",
      "metadata": {
        "id": "kXV350jRNLAV",
        "colab_type": "code",
        "colab": {}
      },
      "source": [
        "data = pd.read_csv(\"country_profile_variables.csv\")\n",
        "data"
      ],
      "execution_count": 0,
      "outputs": []
    },
    {
      "cell_type": "markdown",
      "metadata": {
        "id": "aBgOtEpJINXi",
        "colab_type": "text"
      },
      "source": [
        "**Filtrage des données**"
      ]
    },
    {
      "cell_type": "code",
      "metadata": {
        "id": "7QEJH1h0C7nh",
        "colab_type": "code",
        "colab": {}
      },
      "source": [
        "data = pd.read_csv(\"country_profile_variables.csv\", usecols=[\"country\", \"Surface area (km2)\", \"Population density (per km2, 2017)\"])\n",
        "# for index, row in data.iterrows():\n",
        "#   print(row[\"Surface area (km2)\"])\n",
        "\n",
        "# Suppression de la ligne Holy see inutile\n",
        "data = data.loc[data['country'] != 'Holy See']\n",
        "\n",
        "# Tri de la surface des pays\n",
        "data['Surface area (km2)'] = pd.to_numeric(data['Surface area (km2)'])\n",
        "data['Population density (per km2, 2017)'] = pd.to_numeric(data['Population density (per km2, 2017)'])\n",
        "data.rename(columns = {'Surface area (km2)':'SURFACE', 'Population density (per km2, 2017)':'DENSITY', \n",
        "                              'country':'COUNTRY'}, inplace = True) \n",
        "\n",
        "# Suppression de tout sauf les 10 pays ayant le plus de surface\n",
        "data"
      ],
      "execution_count": 0,
      "outputs": []
    },
    {
      "cell_type": "markdown",
      "metadata": {
        "id": "A76YaR5WISaa",
        "colab_type": "text"
      },
      "source": [
        "**Affichage graphique** : Séparation de data en deux tableaux (un densité et un surface)"
      ]
    },
    {
      "cell_type": "code",
      "metadata": {
        "id": "UXaPmHrH5iEV",
        "colab_type": "code",
        "colab": {}
      },
      "source": [
        "#Tri de deux tableaux (surface / densite au km²)\n",
        "limit = 10\n",
        "ordered_densite = data\n",
        "ordered_densite = ordered_densite.sort_values(by=\"DENSITY\",ascending=True)\n",
        "ordered_densite = ordered_densite.tail(limit)\n",
        "ordered_surface = data\n",
        "ordered_surface = ordered_surface.sort_values(by=\"SURFACE\",ascending=True)\n",
        "ordered_surface = ordered_surface.tail(limit)\n",
        "ordered_surface"
      ],
      "execution_count": 0,
      "outputs": []
    },
    {
      "cell_type": "markdown",
      "metadata": {
        "id": "n8CpkWcRQmBf",
        "colab_type": "text"
      },
      "source": [
        "**Affichage graphique :** On crée 2 nouveaux tableaux pour les titres qui seront affichés sur les barres"
      ]
    },
    {
      "cell_type": "code",
      "metadata": {
        "id": "8Miq083BH7f2",
        "colab_type": "code",
        "colab": {}
      },
      "source": [
        "ordered_surface_titles = []\n",
        "ordered_densite_titles = []\n",
        "# Afin d'afficher un joli titre, on est recrée un tableau de chaines de caractères\n",
        "# dans avec les nombres avec des espaces + km²\n",
        "for surface in ordered_surface.iterrows():\n",
        "  adding_commas=format(surface[1][1], \"8,d\")\n",
        "  replacing_with_spaces=adding_commas.replace(\",\", \" \")\n",
        "  ordered_surface_titles.append(replacing_with_spaces+\" km²\")\n",
        "\n",
        "# On fait pareil pour la densité\n",
        "for density in ordered_densite.iterrows():\n",
        "  adding_commas=format(int(density[1][2]), \"8,d\")\n",
        "  replacing_with_spaces=adding_commas.replace(\",\", \" \")\n",
        "  ordered_densite_titles.append(replacing_with_spaces+\" h/km²\")\n",
        "\n",
        "bars=[\n",
        "  go.Bar(text=ordered_surface_titles,\n",
        "         textposition='auto',\n",
        "         name=\"Surface\", \n",
        "         showlegend=True,\n",
        "         y=ordered_surface[\"COUNTRY\"]+\"  \", \n",
        "         x=ordered_surface[\"SURFACE\"],\n",
        "         orientation='h', \n",
        "         marker_color='rgb(25, 84, 5)',\n",
        "         marker_line_color='rgb(50, 84, 50)'\n",
        "        ),\n",
        "  go.Bar(text=ordered_densite_titles,\n",
        "            textposition='auto',\n",
        "         name=\"Densité\", \n",
        "         showlegend=True,\n",
        "         y=ordered_densite[\"COUNTRY\"]+\"  \",\n",
        "         x=ordered_densite[\"DENSITY\"],\n",
        "         orientation='h',\n",
        "         visible=False, \n",
        "         marker_color='rgb(255, 195, 118)',\n",
        "         marker_line_color='rgb(170, 68, 1)'\n",
        "         ),\n",
        "]\n",
        "layout = go.Layout(\n",
        "    plot_bgcolor='rgb(255, 255, 255)',\n",
        "  title='Top '+str(limit)+' biggest Countries',\n",
        "  updatemenus=list([\n",
        "    dict(\n",
        "         showactive=True, \n",
        "         direction = \"left\",\n",
        "         type=\"buttons\", \n",
        "         active=0, \n",
        "         buttons=[\n",
        "          {'label': 'Surface', 'method': 'update', 'args': [{'visible': [True, False]}]},\n",
        "          {'label': 'Densite', 'method': 'update', 'args': [{'visible': [False, True]}]},\n",
        "        ],\n",
        "        pad={\"r\": 10, \"t\": 10},\n",
        "        x=0.987,\n",
        "        xanchor=\"left\",\n",
        "        y=1.2,\n",
        "        yanchor=\"top\"\n",
        "    )\n",
        "  ]),\n",
        "  annotations=[dict(\n",
        "    text = 'Updated in 2018 from The World Bank',\n",
        "    showarrow = False,\n",
        "    xref = 'paper', x = 0.95,\n",
        "    yref = 'paper', y = -0.15),]\n",
        ")\n",
        "\n",
        "\n",
        "fig =go.Figure(bars, layout)\n",
        "fig.update_layout(height=limit*60)\n",
        "fig.show()\n",
        "\n"
      ],
      "execution_count": 0,
      "outputs": []
    },
    {
      "cell_type": "markdown",
      "metadata": {
        "id": "yJOHM1jhQTed",
        "colab_type": "text"
      },
      "source": [
        "**Bouton de téléchargement**"
      ]
    },
    {
      "cell_type": "code",
      "metadata": {
        "id": "AA3BQX8SP9T9",
        "colab_type": "code",
        "colab": {}
      },
      "source": [
        "def clicked(arg):\n",
        "  ofli.iplot(fig,image='png',image_width=1920, image_height=limit*60, filename='Top '+str(limit)+' biggest Countries')\n",
        "\n",
        "button_download = widgets.Button(description = 'Export Graph as png')\n",
        "button_download.on_click(clicked)\n",
        "display(button_download)"
      ],
      "execution_count": 0,
      "outputs": []
    }
  ]
}