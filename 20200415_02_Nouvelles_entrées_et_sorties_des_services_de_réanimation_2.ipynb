{
  "nbformat": 4,
  "nbformat_minor": 0,
  "metadata": {
    "colab": {
      "name": "20200415-02 Nouvelles entrées et sorties des services de réanimation ",
      "provenance": [],
      "collapsed_sections": [],
      "include_colab_link": true
    },
    "kernelspec": {
      "name": "python3",
      "display_name": "Python 3"
    }
  },
  "cells": [
    {
      "cell_type": "markdown",
      "metadata": {
        "id": "view-in-github",
        "colab_type": "text"
      },
      "source": [
        "<a href=\"https://colab.research.google.com/github/AntoineLgx/training-datamining-mds/blob/master/20200415_02_Nouvelles_entr%C3%A9es_et_sorties_des_services_de_r%C3%A9animation.ipynb\" target=\"_parent\"><img src=\"https://colab.research.google.com/assets/colab-badge.svg\" alt=\"Open In Colab\"/></a>"
      ]
    },
    {
      "cell_type": "markdown",
      "metadata": {
        "id": "52pde5EhVGqT",
        "colab_type": "text"
      },
      "source": [
        "Issue suivie : https://github.com/CashStory/training-datamining-mds/issues/2\n",
        "\n"
      ]
    },
    {
      "cell_type": "markdown",
      "metadata": {
        "id": "7FA-8pmOVjKO",
        "colab_type": "text"
      },
      "source": [
        "*** Imports :**"
      ]
    },
    {
      "cell_type": "code",
      "metadata": {
        "id": "jagZiGoqVn1o",
        "colab_type": "code",
        "colab": {}
      },
      "source": [
        "import requests\n",
        "import pandas as pd\n",
        "from datetime import datetime, timedelta"
      ],
      "execution_count": 0,
      "outputs": []
    },
    {
      "cell_type": "markdown",
      "metadata": {
        "id": "JzlBOp_MVrlA",
        "colab_type": "text"
      },
      "source": [
        "*** Variables :**"
      ]
    },
    {
      "cell_type": "code",
      "metadata": {
        "id": "w7sZu-QjV8QU",
        "colab_type": "code",
        "colab": {}
      },
      "source": [
        ""
      ],
      "execution_count": 0,
      "outputs": []
    },
    {
      "cell_type": "code",
      "metadata": {
        "id": "EZRSZeNdCr4F",
        "colab_type": "code",
        "colab": {}
      },
      "source": [
        "# Imports\n",
        "import requests\n",
        "import pandas as pd\n",
        "from datetime import datetime, timedelta\n",
        "\n",
        "# URLs\n",
        "base_url_entree = 'https://geodes.santepubliquefrance.fr/GC_indic.php?lang=fr&prodhash=3c0e7522&indic=incid_rea&dataset=covid_hospit_incid&view=map2&filters=jour='\n",
        "base_url_total =' https://geodes.santepubliquefrance.fr/GC_indic.php?lang=fr&prodhash=3c0e7522&indic=rea&dataset=covid_hospit&view=map2&filters=sexe=0,jour='\n",
        "# Nombre de jours\n",
        "lissage_jours = 7\n",
        "# Pour contenir les x derniers jours, x étant la variable \"lissage_jours\"\n",
        "DATES = []\n",
        "# Liste des départements\n",
        "DEPARTMENTS = ['Ain', 'Aisne', 'Allier', 'Alpes-de-Haute-Provence', 'Hautes-Alpes', 'Alpes-Maritimes', 'Ardèche', 'Ardennes', 'Ariège', 'Aube', 'Aude', 'Aveyron', 'Bouches-du-Rhône', 'Calvados', 'Cantal', 'Charente',\n",
        "              'Charente-Maritime', 'Cher', 'Corrèze', 'Côte-d\\'Or', 'Côtes-d\\'Armor', 'Creuse', 'Dordogne', 'Doubs', 'Drôme', 'Eure', 'Eure-et-Loir', 'Finistère', 'Corse-du-Sud', 'Haute-Corse', 'Gard','Haute-Garonne','Gers','Gironde','Hérault','Ille-et-Vilaine','Indre','Indre-et-Loire','Isère','Jura','Landes','Loir-et-Cher','Loire','Haute-Loire','Loire-Atlantique','Loiret','Lot','Lot-et-Garonne','Lozère','Maine-et-Loire','Manche','Marne','Haute-Marne','Mayenne','Meurthe-et-Moselle','Meuse','Morbihan','Moselle','Nièvre','Nord','Oise','Orne','Pas-de-Calais','Puy-de-Dôme','Pyrénées-Atlantiques','Hautes-Pyrénées','Pyrénées-Orientales','Bas-Rhin','Haut-Rhin','Rhône','Haute-Saône','Saône-et-Loire','Sarthe','Savoie','Haute-Savoie','Paris','Seine-Maritime','Seine-et-Marne','Yvelines','Deux-Sèvres','Somme','Tarn','Tarn-et-Garonne','Var','Vaucluse','Vendée','Vienne','Haute-Vienne','Vosges','Yonne','Territoire de Belfort','Essonne','Hauts-de-Seine','Seine-Saint-Denis','Val-de-Marne','Val-d\\'Oise','Guadeloupe','Martinique','Guyane','La Réunion','Mayotte']\n",
        "# Les indices contiennent x tableaux ordonnés en fonction de \"DATES\" contenant les données des départements ordonné comme \"DEPARTEMENTS\"\n",
        "INDICES_ENTREES = []\n",
        "INDICES_COURANT = []\n",
        "\n",
        "for i in range(lissage_jours + 1):\n",
        "  # Génération des dates\n",
        "  day = (datetime.today() - timedelta(days = (lissage_jours - i))).isoformat().split(\"T\")[0]\n",
        "  DATES.append(day)\n",
        "\n",
        "  # Récupération des entrées en réanimation\n",
        "  url = (base_url_entree + day)\n",
        "  response = requests.get(url)\n",
        "  json = response.json()\n",
        "  INDICES_ENTREES.append(json['content']['distribution']['values'])\n",
        "\n",
        "  # Récupération des personnes en réanimation\n",
        "  url = (base_url_total + day)\n",
        "  response = requests.get(url)\n",
        "  json = response.json()\n",
        "  INDICES_COURANT.append(json['content']['distribution']['values'])"
      ],
      "execution_count": 0,
      "outputs": []
    },
    {
      "cell_type": "code",
      "metadata": {
        "id": "JCCa9mosEEFp",
        "colab_type": "code",
        "colab": {}
      },
      "source": [
        "DEPARTMENT = ['Ain', 'Aisne', 'Allier', 'Alpes-de-Haute-Provence', 'Hautes-Alpes', 'Alpes-Maritimes', 'Ardèche', 'Ardennes', 'Ariège', 'Aube', 'Aude', 'Aveyron', 'Bouches-du-Rhône', 'Calvados', 'Cantal', 'Charente',\n",
        "              'Charente-Maritime', 'Cher', 'Corrèze', 'Côte-d\\'Or', 'Côtes-d\\'Armor', 'Creuse', 'Dordogne', 'Doubs', 'Drôme', 'Eure', 'Eure-et-Loir', 'Finistère', 'Corse-du-Sud', 'Haute-Corse', 'Gard','Haute-Garonne','Gers','Gironde','Hérault','Ille-et-Vilaine','Indre','Indre-et-Loire','Isère','Jura','Landes','Loir-et-Cher','Loire','Haute-Loire','Loire-Atlantique','Loiret','Lot','Lot-et-Garonne','Lozère','Maine-et-Loire','Manche','Marne','Haute-Marne','Mayenne','Meurthe-et-Moselle','Meuse','Morbihan','Moselle','Nièvre','Nord','Oise','Orne','Pas-de-Calais','Puy-de-Dôme','Pyrénées-Atlantiques','Hautes-Pyrénées','Pyrénées-Orientales','Bas-Rhin','Haut-Rhin','Rhône','Haute-Saône','Saône-et-Loire','Sarthe','Savoie','Haute-Savoie','Paris','Seine-Maritime','Seine-et-Marne','Yvelines','Deux-Sèvres','Somme','Tarn','Tarn-et-Garonne','Var','Vaucluse','Vendée','Vienne','Haute-Vienne','Vosges','Yonne','Territoire de Belfort','Essonne','Hauts-de-Seine','Seine-Saint-Denis','Val-de-Marne','Val-d\\'Oise','Guadeloupe','Martinique','Guyane','La Réunion','Mayotte']\n",
        "\n"
      ],
      "execution_count": 0,
      "outputs": []
    }
  ]
}
