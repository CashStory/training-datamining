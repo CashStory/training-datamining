{
  "nbformat": 4,
  "nbformat_minor": 0,
  "metadata": {
    "colab": {
      "name": "20200420-10 .ipynb",
      "provenance": [],
      "collapsed_sections": [],
      "include_colab_link": true
    },
    "kernelspec": {
      "name": "python3",
      "display_name": "Python 3"
    }
  },
  "cells": [
    {
      "cell_type": "markdown",
      "metadata": {
        "id": "view-in-github",
        "colab_type": "text"
      },
      "source": [
        "<a href=\"https://colab.research.google.com/github/estebanlecalvez/training-datamining-mds/blob/master/20200420_10_.ipynb\" target=\"_parent\"><img src=\"https://colab.research.google.com/assets/colab-badge.svg\" alt=\"Open In Colab\"/></a>"
      ]
    },
    {
      "cell_type": "markdown",
      "metadata": {
        "id": "L2nNeWrpvvW6",
        "colab_type": "text"
      },
      "source": [
        "**Notebook d'exemle pour classer les pays les plus peuplés**"
      ]
    },
    {
      "cell_type": "markdown",
      "metadata": {
        "id": "3E-4ZDAlv69j",
        "colab_type": "text"
      },
      "source": [
        "**Step 1: import library**"
      ]
    },
    {
      "cell_type": "code",
      "metadata": {
        "id": "6h-r2CaVv5hj",
        "colab_type": "code",
        "outputId": "d34a1e69-fcc9-488e-d141-01b808536630",
        "colab": {
          "base_uri": "https://localhost:8080/",
          "height": 71
        }
      },
      "source": [
        "import pandas as pd\n",
        "import matplotlib.pyplot as plt\n",
        "%matplotlib inline\n",
        "import requests\n",
        "import io\n",
        "import numpy as np\n",
        "from cif import cif\n"
      ],
      "execution_count": 0,
      "outputs": [
        {
          "output_type": "stream",
          "text": [
            "/usr/local/lib/python3.6/dist-packages/statsmodels/tools/_testing.py:19: FutureWarning: pandas.util.testing is deprecated. Use the functions in the public API at pandas.testing instead.\n",
            "  import pandas.util.testing as tm\n"
          ],
          "name": "stderr"
        }
      ]
    },
    {
      "cell_type": "markdown",
      "metadata": {
        "id": "SZQhkFAdwJQ_",
        "colab_type": "text"
      },
      "source": [
        "**Step 2: Collect & read Data**"
      ]
    },
    {
      "cell_type": "code",
      "metadata": {
        "id": "nhjZnvkNGUc6",
        "colab_type": "code",
        "colab": {}
      },
      "source": [
        "response = requests.get('https://datahub.io/JohnSnowLabs/population-figures-by-country/r/population-figures-by-country-csv.csv')\n",
        "\n",
        "file_object = io.StringIO(response.content.decode('utf-8'))\n",
        "\n",
        "data = pd.read_csv(file_object, usecols=[\"Country\", \"Year_1960\", \"Year_2016\"])\n"
      ],
      "execution_count": 0,
      "outputs": []
    },
    {
      "cell_type": "markdown",
      "metadata": {
        "id": "mRXdKMQ_SxRY",
        "colab_type": "text"
      },
      "source": [
        "**Step 3: Limit data to asked constraints**"
      ]
    },
    {
      "cell_type": "code",
      "metadata": {
        "id": "GSbNRPj-M2xJ",
        "colab_type": "code",
        "outputId": "1188464b-e072-451a-9d51-26cb594728cf",
        "colab": {
          "base_uri": "https://localhost:8080/",
          "height": 359
        }
      },
      "source": [
        "data = data.sort_values(by='Year_2016', ascending=False)\n",
        "data = data.head(10)\n",
        "data"
      ],
      "execution_count": 0,
      "outputs": [
        {
          "output_type": "execute_result",
          "data": {
            "text/html": [
              "<div>\n",
              "<style scoped>\n",
              "    .dataframe tbody tr th:only-of-type {\n",
              "        vertical-align: middle;\n",
              "    }\n",
              "\n",
              "    .dataframe tbody tr th {\n",
              "        vertical-align: top;\n",
              "    }\n",
              "\n",
              "    .dataframe thead th {\n",
              "        text-align: right;\n",
              "    }\n",
              "</style>\n",
              "<table border=\"1\" class=\"dataframe\">\n",
              "  <thead>\n",
              "    <tr style=\"text-align: right;\">\n",
              "      <th></th>\n",
              "      <th>Country</th>\n",
              "      <th>Year_1960</th>\n",
              "      <th>Year_2016</th>\n",
              "    </tr>\n",
              "  </thead>\n",
              "  <tbody>\n",
              "    <tr>\n",
              "      <th>256</th>\n",
              "      <td>World</td>\n",
              "      <td>3.034193e+09</td>\n",
              "      <td>7.442136e+09</td>\n",
              "    </tr>\n",
              "    <tr>\n",
              "      <th>101</th>\n",
              "      <td>IDA &amp; IBRD total</td>\n",
              "      <td>2.301898e+09</td>\n",
              "      <td>6.271593e+09</td>\n",
              "    </tr>\n",
              "    <tr>\n",
              "      <th>137</th>\n",
              "      <td>Low &amp; middle income</td>\n",
              "      <td>2.275439e+09</td>\n",
              "      <td>6.247923e+09</td>\n",
              "    </tr>\n",
              "    <tr>\n",
              "      <th>153</th>\n",
              "      <td>Middle income</td>\n",
              "      <td>2.124914e+09</td>\n",
              "      <td>5.592833e+09</td>\n",
              "    </tr>\n",
              "    <tr>\n",
              "      <th>100</th>\n",
              "      <td>IBRD only</td>\n",
              "      <td>1.919408e+09</td>\n",
              "      <td>4.697247e+09</td>\n",
              "    </tr>\n",
              "    <tr>\n",
              "      <th>60</th>\n",
              "      <td>Early-demographic dividend</td>\n",
              "      <td>9.792269e+08</td>\n",
              "      <td>3.170542e+09</td>\n",
              "    </tr>\n",
              "    <tr>\n",
              "      <th>136</th>\n",
              "      <td>Lower middle income</td>\n",
              "      <td>9.555304e+08</td>\n",
              "      <td>3.012924e+09</td>\n",
              "    </tr>\n",
              "    <tr>\n",
              "      <th>246</th>\n",
              "      <td>Upper middle income</td>\n",
              "      <td>1.169383e+09</td>\n",
              "      <td>2.579910e+09</td>\n",
              "    </tr>\n",
              "    <tr>\n",
              "      <th>61</th>\n",
              "      <td>East Asia &amp; Pacific</td>\n",
              "      <td>1.042017e+09</td>\n",
              "      <td>2.296786e+09</td>\n",
              "    </tr>\n",
              "    <tr>\n",
              "      <th>139</th>\n",
              "      <td>Late-demographic dividend</td>\n",
              "      <td>1.099314e+09</td>\n",
              "      <td>2.262710e+09</td>\n",
              "    </tr>\n",
              "  </tbody>\n",
              "</table>\n",
              "</div>"
            ],
            "text/plain": [
              "                        Country     Year_1960     Year_2016\n",
              "256                       World  3.034193e+09  7.442136e+09\n",
              "101            IDA & IBRD total  2.301898e+09  6.271593e+09\n",
              "137         Low & middle income  2.275439e+09  6.247923e+09\n",
              "153               Middle income  2.124914e+09  5.592833e+09\n",
              "100                   IBRD only  1.919408e+09  4.697247e+09\n",
              "60   Early-demographic dividend  9.792269e+08  3.170542e+09\n",
              "136         Lower middle income  9.555304e+08  3.012924e+09\n",
              "246         Upper middle income  1.169383e+09  2.579910e+09\n",
              "61          East Asia & Pacific  1.042017e+09  2.296786e+09\n",
              "139   Late-demographic dividend  1.099314e+09  2.262710e+09"
            ]
          },
          "metadata": {
            "tags": []
          },
          "execution_count": 166
        }
      ]
    },
    {
      "cell_type": "markdown",
      "metadata": {
        "id": "v93FBianS2UB",
        "colab_type": "text"
      },
      "source": [
        "**Step 4 : Make the bar horizontal barchart !**"
      ]
    },
    {
      "cell_type": "code",
      "metadata": {
        "id": "wjh-DjSCG2Fr",
        "colab_type": "code",
        "outputId": "7bc1e6c3-b1af-4286-deee-fe2fedf547cb",
        "colab": {
          "base_uri": "https://localhost:8080/",
          "height": 295
        }
      },
      "source": [
        "index = np.arange(len(data))\n",
        "\n",
        "plt.barh(index,width=data['Year_2016']/1000000,data=data,color=\"#FF7733\")\n",
        "plt.yticks(index,data['Country'],fontsize=5,rotation=30)\n",
        "plt.barh(index,width=data['Year_1960']/1000000,data=data,height=0.3)\n",
        "plt.ylabel('Nom')\n",
        "plt.xlabel('Population en millions')\n",
        "plt.yticks(index,data['Country'],fontsize=5,rotation=30)\n",
        "plt.title('Population annee 1960(blue) - 2016')\n",
        "plt.show()\n",
        "\n"
      ],
      "execution_count": 0,
      "outputs": [
        {
          "output_type": "display_data",
          "data": {
            "image/png": "[encoded data removed]",
            "text/plain": [
              "<Figure size 432x288 with 1 Axes>"
            ]
          },
          "metadata": {
            "tags": [],
            "needs_background": "light"
          }
        }
      ]
    },
    {
      "cell_type": "markdown",
      "metadata": {
        "id": "vN0m1NsJpTX2",
        "colab_type": "text"
      },
      "source": [
        "_____________________________________________________________"
      ]
    },
    {
      "cell_type": "markdown",
      "metadata": {
        "id": "azl_iPcbogG5",
        "colab_type": "text"
      },
      "source": [
        "**Second Try**"
      ]
    },
    {
      "cell_type": "code",
      "metadata": {
        "id": "36x8J9u-oxbA",
        "colab_type": "code",
        "colab": {}
      },
      "source": [
        "import pandas as pd\n",
        "import matplotlib.pyplot as plt\n",
        "%matplotlib inline\n",
        "import requests\n",
        "import io\n",
        "import numpy as np\n",
        "import plotly.graph_objects as go\n",
        "import plotly.express as px\n",
        "from pydrive.auth import GoogleAuth\n",
        "from pydrive.drive import GoogleDrive\n",
        "from google.colab import auth\n",
        "from oauth2client.client import GoogleCredentials\n",
        "from pandas import DataFrame\n",
        "import plotly.graph_objects as go"
      ],
      "execution_count": 0,
      "outputs": []
    },
    {
      "cell_type": "markdown",
      "metadata": {
        "id": "JiTKZISzpVsF",
        "colab_type": "text"
      },
      "source": [
        ""
      ]
    },
    {
      "cell_type": "markdown",
      "metadata": {
        "id": "jV59hEGsoyDW",
        "colab_type": "text"
      },
      "source": [
        "**On va chercher le fichier depuis GDrive**"
      ]
    },
    {
      "cell_type": "code",
      "metadata": {
        "id": "z8v7HtRlo1Oj",
        "colab_type": "code",
        "colab": {}
      },
      "source": [
        "auth.authenticate_user()\n",
        "gauth = GoogleAuth()\n",
        "gauth.credentials = GoogleCredentials.get_application_default()\n",
        "drive = GoogleDrive(gauth)\n",
        "downloaded = drive.CreateFile({'id':\"1FjX4NTIq1z3zS9vCdAdpddtj9mKa0wIW\"})   # replace the id with id of file you want to access\n",
        "downloaded.GetContentFile('POP_PROJ_20042020112713800.csv')"
      ],
      "execution_count": 0,
      "outputs": []
    },
    {
      "cell_type": "markdown",
      "metadata": {
        "id": "UGz4KBl5o28h",
        "colab_type": "text"
      },
      "source": [
        "**On stock la data dans une variable**"
      ]
    },
    {
      "cell_type": "code",
      "metadata": {
        "id": "VDQ-_3hlo6M-",
        "colab_type": "code",
        "colab": {}
      },
      "source": [
        "data = pd.read_csv(\"POP_PROJ_20042020112713800.csv\", usecols=[\"Country\", \"Time\", \"Value\"])"
      ],
      "execution_count": 0,
      "outputs": []
    },
    {
      "cell_type": "markdown",
      "metadata": {
        "id": "0X1lLH4Po8Vi",
        "colab_type": "text"
      },
      "source": [
        "**On fait la tambouille**"
      ]
    },
    {
      "cell_type": "code",
      "metadata": {
        "id": "QZv6333yo-de",
        "colab_type": "code",
        "colab": {
          "base_uri": "https://localhost:8080/",
          "height": 347
        },
        "outputId": "e8430d7c-1075-4b3b-f405-abaa215d9258"
      },
      "source": [
        "# Utilisation de Plotly, c'est bo!\n",
        "firstOccur = []\n",
        "secondOccur = []\n",
        "firstYear = 2000\n",
        "secondYear = 2030\n",
        "def tambouille_first(number1):\n",
        "  first = []\n",
        "  for index, row in data.iterrows():\n",
        "    if(row[\"Time\"] == number1):\n",
        "      first.append(row)\n",
        "\n",
        "  first = DataFrame(first)\n",
        "  first = first.sort_values(by =\"Value\",ascending=True)\n",
        "  first = first.tail(10)\n",
        "  return first\n",
        "\n",
        "def tambouille_second(number2):\n",
        "  second = []\n",
        "  for index, row in data.iterrows():\n",
        "    if(row[\"Time\"] == number2):\n",
        "      second.append(row)\n",
        "\n",
        "  second = DataFrame(second)\n",
        "  second =second.sort_values(by =\"Value\",ascending=True)\n",
        "  second = second.tail(10)\n",
        "  return second\n",
        "\n",
        "firstOccur = tambouille_first(firstYear)\n",
        "secondOccur = tambouille_second(secondYear)\n",
        "\n",
        "firstOccur\n"
      ],
      "execution_count": 59,
      "outputs": [
        {
          "output_type": "execute_result",
          "data": {
            "text/html": [
              "<div>\n",
              "<style scoped>\n",
              "    .dataframe tbody tr th:only-of-type {\n",
              "        vertical-align: middle;\n",
              "    }\n",
              "\n",
              "    .dataframe tbody tr th {\n",
              "        vertical-align: top;\n",
              "    }\n",
              "\n",
              "    .dataframe thead th {\n",
              "        text-align: right;\n",
              "    }\n",
              "</style>\n",
              "<table border=\"1\" class=\"dataframe\">\n",
              "  <thead>\n",
              "    <tr style=\"text-align: right;\">\n",
              "      <th></th>\n",
              "      <th>Country</th>\n",
              "      <th>Time</th>\n",
              "      <th>Value</th>\n",
              "    </tr>\n",
              "  </thead>\n",
              "  <tbody>\n",
              "    <tr>\n",
              "      <th>2837</th>\n",
              "      <td>Turkey</td>\n",
              "      <td>2000</td>\n",
              "      <td>64268.75</td>\n",
              "    </tr>\n",
              "    <tr>\n",
              "      <th>887</th>\n",
              "      <td>Germany</td>\n",
              "      <td>2000</td>\n",
              "      <td>82211.51</td>\n",
              "    </tr>\n",
              "    <tr>\n",
              "      <th>1816</th>\n",
              "      <td>Mexico</td>\n",
              "      <td>2000</td>\n",
              "      <td>100895.80</td>\n",
              "    </tr>\n",
              "    <tr>\n",
              "      <th>1503</th>\n",
              "      <td>Japan</td>\n",
              "      <td>2000</td>\n",
              "      <td>126927.00</td>\n",
              "    </tr>\n",
              "    <tr>\n",
              "      <th>4483</th>\n",
              "      <td>Russia</td>\n",
              "      <td>2000</td>\n",
              "      <td>146597.00</td>\n",
              "    </tr>\n",
              "    <tr>\n",
              "      <th>3150</th>\n",
              "      <td>Brazil</td>\n",
              "      <td>2000</td>\n",
              "      <td>171279.90</td>\n",
              "    </tr>\n",
              "    <tr>\n",
              "      <th>3877</th>\n",
              "      <td>Indonesia</td>\n",
              "      <td>2000</td>\n",
              "      <td>208938.70</td>\n",
              "    </tr>\n",
              "    <tr>\n",
              "      <th>3039</th>\n",
              "      <td>United States</td>\n",
              "      <td>2000</td>\n",
              "      <td>282162.40</td>\n",
              "    </tr>\n",
              "    <tr>\n",
              "      <th>3766</th>\n",
              "      <td>India</td>\n",
              "      <td>2000</td>\n",
              "      <td>1042262.00</td>\n",
              "    </tr>\n",
              "    <tr>\n",
              "      <th>3453</th>\n",
              "      <td>China (People's Republic of)</td>\n",
              "      <td>2000</td>\n",
              "      <td>1280429.00</td>\n",
              "    </tr>\n",
              "  </tbody>\n",
              "</table>\n",
              "</div>"
            ],
            "text/plain": [
              "                           Country  Time       Value\n",
              "2837                        Turkey  2000    64268.75\n",
              "887                        Germany  2000    82211.51\n",
              "1816                        Mexico  2000   100895.80\n",
              "1503                         Japan  2000   126927.00\n",
              "4483                        Russia  2000   146597.00\n",
              "3150                        Brazil  2000   171279.90\n",
              "3877                     Indonesia  2000   208938.70\n",
              "3039                 United States  2000   282162.40\n",
              "3766                         India  2000  1042262.00\n",
              "3453  China (People's Republic of)  2000  1280429.00"
            ]
          },
          "metadata": {
            "tags": []
          },
          "execution_count": 59
        }
      ]
    },
    {
      "cell_type": "markdown",
      "metadata": {
        "id": "tm3z-gveo_3-",
        "colab_type": "text"
      },
      "source": [
        "**On crée le schema**"
      ]
    },
    {
      "cell_type": "code",
      "metadata": {
        "id": "pzEvYhKCpCRD",
        "colab_type": "code",
        "outputId": "0de77036-d21b-4f88-e715-066b00fde1af",
        "colab": {
          "base_uri": "https://localhost:8080/",
          "height": 542
        }
      },
      "source": [
        "\n",
        "fig = go.Figure(data=[\n",
        "  go.Bar(name=str(firstYear), y=firstOccur[\"Country\"], x=firstOccur[\"Value\"],orientation='h'),\n",
        "  go.Bar(name=str(secondYear), y=secondOccur[\"Country\"], x=secondOccur[\"Value\"],orientation='h'),\n",
        "])\n",
        "\n",
        "# years_dropdown=list([\n",
        "#                 dict(\n",
        "#                     args=[\"Time\", 1960],\n",
        "#                     label=\"1960\",\n",
        "#                     method=\"update\",\n",
        "                     \n",
        "#                 ),\n",
        "#               dict(\n",
        "#                     args=[firstYear, 1965],\n",
        "#                     label=\"1965\",\n",
        "#                     method=\"update\"\n",
        "#                 ),\n",
        "#                  dict(\n",
        "#                     args=[firstYear, 1970],\n",
        "#                     label=\"1970\",\n",
        "#                     method=\"update\"\n",
        "#                 ),\n",
        "#                  dict(\n",
        "#                     args=[firstYear, 1975],\n",
        "#                     label=\"1975\",\n",
        "#                     method=\"update\"\n",
        "#                 ),\n",
        "#                  dict(\n",
        "#                     args=[firstYear, 1980],\n",
        "#                     label=\"1980\",\n",
        "#                     method=\"update\"\n",
        "#                 ),\n",
        "#                  dict(\n",
        "#                     args=[firstYear,1985],\n",
        "#                     label=\"1985\",\n",
        "#                     method=\"update\"\n",
        "#                 ),\n",
        "#                  dict(\n",
        "#                     args=[firstYear, 1990],\n",
        "#                     label=\"1990\",\n",
        "#                     method=\"update\"\n",
        "#                 ),\n",
        "#                  dict(\n",
        "#                     args=[firstYear, 1995],\n",
        "#                     label=\"1995\",\n",
        "#                     method=\"update\"\n",
        "#                 ),\n",
        "#             ])\n",
        "# # Add dropdown\n",
        "# fig.update_layout(\n",
        "#     updatemenus=[\n",
        "#         dict(\n",
        "#             buttons=years_dropdown,\n",
        "#             direction=\"down\",\n",
        "#             pad={\"r\": 10, \"t\": 10},\n",
        "#             showactive=True,\n",
        "#             x=0.07,\n",
        "#             xanchor=\"left\",\n",
        "#             y=1.11,\n",
        "#             yanchor=\"top\"\n",
        "#         ),\n",
        "#         dict(\n",
        "#             buttons=years_dropdown,\n",
        "#             direction=\"down\",\n",
        "#             pad={\"r\": 10, \"t\": 10},\n",
        "#             showactive=True,\n",
        "#             x=0.20,\n",
        "#             xanchor=\"left\",\n",
        "#             y=1.11,\n",
        "#             yanchor=\"top\"\n",
        "#         ),\n",
        "#     ]\n",
        "# )\n",
        "# # Change the bar mode\n",
        "# fig.update_layout(\n",
        "#     barmode='group',annotations=[\n",
        "#         dict(text=\"Year group 1\", x=0, xref=\"paper\", y=1.06, yref=\"paper\",\n",
        "#             align=\"left\", showarrow=False),\n",
        "#         dict(text=\"Year Group 2\", x=0.13, xref=\"paper\", y=1.07,\n",
        "#             yref=\"paper\", showarrow=False),\n",
        "#         dict(text=\"Source: at : From The World Bank\", x=1, xref=\"paper\", y=-0.1,\n",
        "#             yref=\"paper\", showarrow=False),\n",
        "\n",
        "\n",
        "#     ])\n",
        "\n",
        "fig.show()"
      ],
      "execution_count": 66,
      "outputs": [
        {
          "output_type": "display_data",
          "data": {
            "text/html": [
              "<html>\n",
              "<head><meta charset=\"utf-8\" /></head>\n",
              "<body>\n",
              "    <div>\n",
              "            <script src=\"https://cdnjs.cloudflare.com/ajax/libs/mathjax/2.7.5/MathJax.js?config=TeX-AMS-MML_SVG\"></script><script type=\"text/javascript\">if (window.MathJax) {MathJax.Hub.Config({SVG: {font: \"STIX-Web\"}});}</script>\n",
              "                <script type=\"text/javascript\">window.PlotlyConfig = {MathJaxConfig: 'local'};</script>\n",
              "        <script src=\"https://cdn.plot.ly/plotly-latest.min.js\"></script>    \n",
              "            <div id=\"75cff6b2-bb65-4e8e-afea-6e47999b8d93\" class=\"plotly-graph-div\" style=\"height:525px; width:100%;\"></div>\n",
              "            <script type=\"text/javascript\">\n",
              "                \n",
              "                    window.PLOTLYENV=window.PLOTLYENV || {};\n",
              "                    \n",
              "                if (document.getElementById(\"75cff6b2-bb65-4e8e-afea-6e47999b8d93\")) {\n",
              "                    Plotly.newPlot(\n",
              "                        '75cff6b2-bb65-4e8e-afea-6e47999b8d93',\n",
              "                        [{\"name\": \"2000\", \"orientation\": \"h\", \"type\": \"bar\", \"x\": [64268.75, 82211.51, 100895.8, 126927.0, 146597.0, 171279.9, 208938.7, 282162.4, 1042262.0, 1280429.0], \"y\": [\"Turkey\", \"Germany\", \"Mexico\", \"Japan\", \"Russia\", \"Brazil\", \"Indonesia\", \"United States\", \"India\", \"China (People's Republic of)\"]}, {\"name\": \"2030\", \"orientation\": \"h\", \"type\": \"bar\", \"x\": [79369.0, 88164.04, 116617.7, 137481.3, 147844.6, 216410.0, 293482.5, 358471.2, 1453297.0, 1476378.0], \"y\": [\"Germany\", \"Turkey\", \"Japan\", \"Mexico\", \"Russia\", \"Brazil\", \"Indonesia\", \"United States\", \"China (People's Republic of)\", \"India\"]}],\n",
              "                        {\"template\": {\"data\": {\"bar\": [{\"error_x\": {\"color\": \"#2a3f5f\"}, \"error_y\": {\"color\": \"#2a3f5f\"}, \"marker\": {\"line\": {\"color\": \"#E5ECF6\", \"width\": 0.5}}, \"type\": \"bar\"}], \"barpolar\": [{\"marker\": {\"line\": {\"color\": \"#E5ECF6\", \"width\": 0.5}}, \"type\": \"barpolar\"}], \"carpet\": [{\"aaxis\": {\"endlinecolor\": \"#2a3f5f\", \"gridcolor\": \"white\", \"linecolor\": \"white\", \"minorgridcolor\": \"white\", \"startlinecolor\": \"#2a3f5f\"}, \"baxis\": {\"endlinecolor\": \"#2a3f5f\", \"gridcolor\": \"white\", \"linecolor\": \"white\", \"minorgridcolor\": \"white\", \"startlinecolor\": \"#2a3f5f\"}, \"type\": \"carpet\"}], \"choropleth\": [{\"colorbar\": {\"outlinewidth\": 0, \"ticks\": \"\"}, \"type\": \"choropleth\"}], \"contour\": [{\"colorbar\": {\"outlinewidth\": 0, \"ticks\": \"\"}, \"colorscale\": [[0.0, \"#0d0887\"], [0.1111111111111111, \"#46039f\"], [0.2222222222222222, \"#7201a8\"], [0.3333333333333333, \"#9c179e\"], [0.4444444444444444, \"#bd3786\"], [0.5555555555555556, \"#d8576b\"], [0.6666666666666666, \"#ed7953\"], [0.7777777777777778, \"#fb9f3a\"], [0.8888888888888888, \"#fdca26\"], [1.0, \"#f0f921\"]], \"type\": \"contour\"}], \"contourcarpet\": [{\"colorbar\": {\"outlinewidth\": 0, \"ticks\": \"\"}, \"type\": \"contourcarpet\"}], \"heatmap\": [{\"colorbar\": {\"outlinewidth\": 0, \"ticks\": \"\"}, \"colorscale\": [[0.0, \"#0d0887\"], [0.1111111111111111, \"#46039f\"], [0.2222222222222222, \"#7201a8\"], [0.3333333333333333, \"#9c179e\"], [0.4444444444444444, \"#bd3786\"], [0.5555555555555556, \"#d8576b\"], [0.6666666666666666, \"#ed7953\"], [0.7777777777777778, \"#fb9f3a\"], [0.8888888888888888, \"#fdca26\"], [1.0, \"#f0f921\"]], \"type\": \"heatmap\"}], \"heatmapgl\": [{\"colorbar\": {\"outlinewidth\": 0, \"ticks\": \"\"}, \"colorscale\": [[0.0, \"#0d0887\"], [0.1111111111111111, \"#46039f\"], [0.2222222222222222, \"#7201a8\"], [0.3333333333333333, \"#9c179e\"], [0.4444444444444444, \"#bd3786\"], [0.5555555555555556, \"#d8576b\"], [0.6666666666666666, \"#ed7953\"], [0.7777777777777778, \"#fb9f3a\"], [0.8888888888888888, \"#fdca26\"], [1.0, \"#f0f921\"]], \"type\": \"heatmapgl\"}], \"histogram\": [{\"marker\": {\"colorbar\": {\"outlinewidth\": 0, \"ticks\": \"\"}}, \"type\": \"histogram\"}], \"histogram2d\": [{\"colorbar\": {\"outlinewidth\": 0, \"ticks\": \"\"}, \"colorscale\": [[0.0, \"#0d0887\"], [0.1111111111111111, \"#46039f\"], [0.2222222222222222, \"#7201a8\"], [0.3333333333333333, \"#9c179e\"], [0.4444444444444444, \"#bd3786\"], [0.5555555555555556, \"#d8576b\"], [0.6666666666666666, \"#ed7953\"], [0.7777777777777778, \"#fb9f3a\"], [0.8888888888888888, \"#fdca26\"], [1.0, \"#f0f921\"]], \"type\": \"histogram2d\"}], \"histogram2dcontour\": [{\"colorbar\": {\"outlinewidth\": 0, \"ticks\": \"\"}, \"colorscale\": [[0.0, \"#0d0887\"], [0.1111111111111111, \"#46039f\"], [0.2222222222222222, \"#7201a8\"], [0.3333333333333333, \"#9c179e\"], [0.4444444444444444, \"#bd3786\"], [0.5555555555555556, \"#d8576b\"], [0.6666666666666666, \"#ed7953\"], [0.7777777777777778, \"#fb9f3a\"], [0.8888888888888888, \"#fdca26\"], [1.0, \"#f0f921\"]], \"type\": \"histogram2dcontour\"}], \"mesh3d\": [{\"colorbar\": {\"outlinewidth\": 0, \"ticks\": \"\"}, \"type\": \"mesh3d\"}], \"parcoords\": [{\"line\": {\"colorbar\": {\"outlinewidth\": 0, \"ticks\": \"\"}}, \"type\": \"parcoords\"}], \"pie\": [{\"automargin\": true, \"type\": \"pie\"}], \"scatter\": [{\"marker\": {\"colorbar\": {\"outlinewidth\": 0, \"ticks\": \"\"}}, \"type\": \"scatter\"}], \"scatter3d\": [{\"line\": {\"colorbar\": {\"outlinewidth\": 0, \"ticks\": \"\"}}, \"marker\": {\"colorbar\": {\"outlinewidth\": 0, \"ticks\": \"\"}}, \"type\": \"scatter3d\"}], \"scattercarpet\": [{\"marker\": {\"colorbar\": {\"outlinewidth\": 0, \"ticks\": \"\"}}, \"type\": \"scattercarpet\"}], \"scattergeo\": [{\"marker\": {\"colorbar\": {\"outlinewidth\": 0, \"ticks\": \"\"}}, \"type\": \"scattergeo\"}], \"scattergl\": [{\"marker\": {\"colorbar\": {\"outlinewidth\": 0, \"ticks\": \"\"}}, \"type\": \"scattergl\"}], \"scattermapbox\": [{\"marker\": {\"colorbar\": {\"outlinewidth\": 0, \"ticks\": \"\"}}, \"type\": \"scattermapbox\"}], \"scatterpolar\": [{\"marker\": {\"colorbar\": {\"outlinewidth\": 0, \"ticks\": \"\"}}, \"type\": \"scatterpolar\"}], \"scatterpolargl\": [{\"marker\": {\"colorbar\": {\"outlinewidth\": 0, \"ticks\": \"\"}}, \"type\": \"scatterpolargl\"}], \"scatterternary\": [{\"marker\": {\"colorbar\": {\"outlinewidth\": 0, \"ticks\": \"\"}}, \"type\": \"scatterternary\"}], \"surface\": [{\"colorbar\": {\"outlinewidth\": 0, \"ticks\": \"\"}, \"colorscale\": [[0.0, \"#0d0887\"], [0.1111111111111111, \"#46039f\"], [0.2222222222222222, \"#7201a8\"], [0.3333333333333333, \"#9c179e\"], [0.4444444444444444, \"#bd3786\"], [0.5555555555555556, \"#d8576b\"], [0.6666666666666666, \"#ed7953\"], [0.7777777777777778, \"#fb9f3a\"], [0.8888888888888888, \"#fdca26\"], [1.0, \"#f0f921\"]], \"type\": \"surface\"}], \"table\": [{\"cells\": {\"fill\": {\"color\": \"#EBF0F8\"}, \"line\": {\"color\": \"white\"}}, \"header\": {\"fill\": {\"color\": \"#C8D4E3\"}, \"line\": {\"color\": \"white\"}}, \"type\": \"table\"}]}, \"layout\": {\"annotationdefaults\": {\"arrowcolor\": \"#2a3f5f\", \"arrowhead\": 0, \"arrowwidth\": 1}, \"coloraxis\": {\"colorbar\": {\"outlinewidth\": 0, \"ticks\": \"\"}}, \"colorscale\": {\"diverging\": [[0, \"#8e0152\"], [0.1, \"#c51b7d\"], [0.2, \"#de77ae\"], [0.3, \"#f1b6da\"], [0.4, \"#fde0ef\"], [0.5, \"#f7f7f7\"], [0.6, \"#e6f5d0\"], [0.7, \"#b8e186\"], [0.8, \"#7fbc41\"], [0.9, \"#4d9221\"], [1, \"#276419\"]], \"sequential\": [[0.0, \"#0d0887\"], [0.1111111111111111, \"#46039f\"], [0.2222222222222222, \"#7201a8\"], [0.3333333333333333, \"#9c179e\"], [0.4444444444444444, \"#bd3786\"], [0.5555555555555556, \"#d8576b\"], [0.6666666666666666, \"#ed7953\"], [0.7777777777777778, \"#fb9f3a\"], [0.8888888888888888, \"#fdca26\"], [1.0, \"#f0f921\"]], \"sequentialminus\": [[0.0, \"#0d0887\"], [0.1111111111111111, \"#46039f\"], [0.2222222222222222, \"#7201a8\"], [0.3333333333333333, \"#9c179e\"], [0.4444444444444444, \"#bd3786\"], [0.5555555555555556, \"#d8576b\"], [0.6666666666666666, \"#ed7953\"], [0.7777777777777778, \"#fb9f3a\"], [0.8888888888888888, \"#fdca26\"], [1.0, \"#f0f921\"]]}, \"colorway\": [\"#636efa\", \"#EF553B\", \"#00cc96\", \"#ab63fa\", \"#FFA15A\", \"#19d3f3\", \"#FF6692\", \"#B6E880\", \"#FF97FF\", \"#FECB52\"], \"font\": {\"color\": \"#2a3f5f\"}, \"geo\": {\"bgcolor\": \"white\", \"lakecolor\": \"white\", \"landcolor\": \"#E5ECF6\", \"showlakes\": true, \"showland\": true, \"subunitcolor\": \"white\"}, \"hoverlabel\": {\"align\": \"left\"}, \"hovermode\": \"closest\", \"mapbox\": {\"style\": \"light\"}, \"paper_bgcolor\": \"white\", \"plot_bgcolor\": \"#E5ECF6\", \"polar\": {\"angularaxis\": {\"gridcolor\": \"white\", \"linecolor\": \"white\", \"ticks\": \"\"}, \"bgcolor\": \"#E5ECF6\", \"radialaxis\": {\"gridcolor\": \"white\", \"linecolor\": \"white\", \"ticks\": \"\"}}, \"scene\": {\"xaxis\": {\"backgroundcolor\": \"#E5ECF6\", \"gridcolor\": \"white\", \"gridwidth\": 2, \"linecolor\": \"white\", \"showbackground\": true, \"ticks\": \"\", \"zerolinecolor\": \"white\"}, \"yaxis\": {\"backgroundcolor\": \"#E5ECF6\", \"gridcolor\": \"white\", \"gridwidth\": 2, \"linecolor\": \"white\", \"showbackground\": true, \"ticks\": \"\", \"zerolinecolor\": \"white\"}, \"zaxis\": {\"backgroundcolor\": \"#E5ECF6\", \"gridcolor\": \"white\", \"gridwidth\": 2, \"linecolor\": \"white\", \"showbackground\": true, \"ticks\": \"\", \"zerolinecolor\": \"white\"}}, \"shapedefaults\": {\"line\": {\"color\": \"#2a3f5f\"}}, \"ternary\": {\"aaxis\": {\"gridcolor\": \"white\", \"linecolor\": \"white\", \"ticks\": \"\"}, \"baxis\": {\"gridcolor\": \"white\", \"linecolor\": \"white\", \"ticks\": \"\"}, \"bgcolor\": \"#E5ECF6\", \"caxis\": {\"gridcolor\": \"white\", \"linecolor\": \"white\", \"ticks\": \"\"}}, \"title\": {\"x\": 0.05}, \"xaxis\": {\"automargin\": true, \"gridcolor\": \"white\", \"linecolor\": \"white\", \"ticks\": \"\", \"title\": {\"standoff\": 15}, \"zerolinecolor\": \"white\", \"zerolinewidth\": 2}, \"yaxis\": {\"automargin\": true, \"gridcolor\": \"white\", \"linecolor\": \"white\", \"ticks\": \"\", \"title\": {\"standoff\": 15}, \"zerolinecolor\": \"white\", \"zerolinewidth\": 2}}}},\n",
              "                        {\"responsive\": true}\n",
              "                    ).then(function(){\n",
              "                            \n",
              "var gd = document.getElementById('75cff6b2-bb65-4e8e-afea-6e47999b8d93');\n",
              "var x = new MutationObserver(function (mutations, observer) {{\n",
              "        var display = window.getComputedStyle(gd).display;\n",
              "        if (!display || display === 'none') {{\n",
              "            console.log([gd, 'removed!']);\n",
              "            Plotly.purge(gd);\n",
              "            observer.disconnect();\n",
              "        }}\n",
              "}});\n",
              "\n",
              "// Listen for the removal of the full notebook cells\n",
              "var notebookContainer = gd.closest('#notebook-container');\n",
              "if (notebookContainer) {{\n",
              "    x.observe(notebookContainer, {childList: true});\n",
              "}}\n",
              "\n",
              "// Listen for the clearing of the current output cell\n",
              "var outputEl = gd.closest('.output');\n",
              "if (outputEl) {{\n",
              "    x.observe(outputEl, {childList: true});\n",
              "}}\n",
              "\n",
              "                        })\n",
              "                };\n",
              "                \n",
              "            </script>\n",
              "        </div>\n",
              "</body>\n",
              "</html>"
            ]
          },
          "metadata": {
            "tags": []
          }
        }
      ]
    }
  ]
}