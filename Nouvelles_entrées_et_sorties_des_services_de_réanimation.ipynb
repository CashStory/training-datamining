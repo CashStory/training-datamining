{
  "nbformat": 4,
  "nbformat_minor": 0,
  "metadata": {
    "colab": {
      "name": "Nouvelles entrées et sorties des services de réanimation ",
      "provenance": [],

      "collapsed_sections": [],
      "include_colab_link": true

    },
    "kernelspec": {
      "name": "python3",
      "display_name": "Python 3"
    }
  },
  "cells": [
    {
      "cell_type": "markdown",
      "metadata": {

        "id": "view-in-github",
        "colab_type": "text"
      },
      "source": [
        "<a href=\"https://colab.research.google.com/github/AntoineLgx/training-datamining-mds/blob/master/Nouvelles_entr%C3%A9es_et_sorties_des_services_de_r%C3%A9animation.ipynb\" target=\"_parent\"><img src=\"https://colab.research.google.com/assets/colab-badge.svg\" alt=\"Open In Colab\"/></a>"
      ]
    },
    {
      "cell_type": "markdown",
      "metadata": {

        "id": "52pde5EhVGqT",
        "colab_type": "text"
      },
      "source": [
        "Issue suivie : https://github.com/CashStory/training-datamining-mds/issues/2\n",

        "\n",
        "Pitch : https://drive.google.com/file/d/1Mx7pEeH_3puzkDyicvRJ5opgiI3wZJ-d/view\n",
        "\n"
      ]
    },
    {
      "cell_type": "markdown",
      "metadata": {
        "id": "7FA-8pmOVjKO",
        "colab_type": "text"
      },
      "source": [
        "*** Imports :**"
      ]
    },
    {
      "cell_type": "code",
      "metadata": {
        "id": "jagZiGoqVn1o",
        "colab_type": "code",
        "colab": {}
      },
      "source": [
        "import requests\n",
        "import pandas as pd\n",
        "from datetime import datetime, timedelta\n",

        "import plotly as plt\n",
        "import numpy as np\n",
        "import plotly.express as px\n",
        "import plotly.figure_factory as ff\n",
        "import plotly.graph_objects as go\n",
        "from plotly.subplots import make_subplots"

      ],
      "execution_count": 0,
      "outputs": []
    },
    {
      "cell_type": "markdown",
      "metadata": {
        "id": "JzlBOp_MVrlA",
        "colab_type": "text"
      },
      "source": [
        "*** Variables :**"
      ]
    },
    {
      "cell_type": "code",
      "metadata": {
        "id": "w7sZu-QjV8QU",
        "colab_type": "code",
        "colab": {}
      },
      "source": [
        "# URLs\n",

        "BASE_URL_ENTREE = 'https://geodes.santepubliquefrance.fr/GC_indic.php?lang=fr&prodhash=3c0e7522&indic=incid_rea&dataset=covid_hospit_incid&view=map2&filters=jour='\n",
        "BASE_URL_TOTAL = 'https://geodes.santepubliquefrance.fr/GC_indic.php?lang=fr&prodhash=3c0e7522&indic=rea&dataset=covid_hospit&view=map2&filters=sexe=0,jour='\n",

        "\n",
        "# Liste des départements\n",
        "DEPARTMENTS = ['Ain', 'Aisne', 'Allier', 'Alpes-de-Haute-Provence', 'Hautes-Alpes', 'Alpes-Maritimes', 'Ardèche', 'Ardennes', 'Ariège', 'Aube', 'Aude', 'Aveyron',\n",
        "               'Bouches-du-Rhône', 'Calvados', 'Cantal', 'Charente', 'Charente-Maritime', 'Cher', 'Corrèze', 'Côte-d\\'Or', 'Côtes-d\\'Armor', 'Creuse', 'Dordogne',\n",
        "               'Doubs', 'Drôme', 'Eure', 'Eure-et-Loir', 'Finistère', 'Corse-du-Sud', 'Haute-Corse', 'Gard','Haute-Garonne','Gers','Gironde','Hérault',\n",
        "               'Ille-et-Vilaine','Indre','Indre-et-Loire','Isère','Jura','Landes','Loir-et-Cher','Loire','Haute-Loire','Loire-Atlantique','Loiret','Lot',\n",
        "               'Lot-et-Garonne','Lozère','Maine-et-Loire','Manche','Marne','Haute-Marne','Mayenne','Meurthe-et-Moselle','Meuse','Morbihan','Moselle','Nièvre',\n",
        "               'Nord','Oise','Orne','Pas-de-Calais','Puy-de-Dôme','Pyrénées-Atlantiques','Hautes-Pyrénées','Pyrénées-Orientales','Bas-Rhin','Haut-Rhin','Rhône',\n",
        "               'Haute-Saône','Saône-et-Loire','Sarthe','Savoie','Haute-Savoie','Paris','Seine-Maritime','Seine-et-Marne','Yvelines','Deux-Sèvres','Somme','Tarn',\n",
        "               'Tarn-et-Garonne','Var','Vaucluse','Vendée','Vienne','Haute-Vienne','Vosges','Yonne','Territoire de Belfort','Essonne','Hauts-de-Seine',\n",
        "               'Seine-Saint-Denis','Val-de-Marne','Val-d\\'Oise','Guadeloupe','Martinique','Guyane','La Réunion','Mayotte', 'France Entière']\n",
        "\n",
        "# Nombre de jours\n",
        "LISSAGE_JOURS = 7\n",
        "\n",
        "# Pour contenir les x derniers jours, x étant la variable \"LISSAGE_JOURS\"\n",

        "DATES = []\n",
        "\n",
        "# Les indices contiennent x tableaux ordonnés en fonction de \"DATES\" contenant les données des départements ordonné comme \"DEPARTEMENTS\"\n",
        "INDICES_TEMP_ENTREES = []\n",
        "INDICES_TEMP_REANIMATION = []\n",
        "INDICES_TEMP_COURANT = []\n",
        "INDICES_ENTREES = []\n",
        "INDICES_COURANT = []\n",
        "INDICES_SORTIES = []"
      ],
      "execution_count": 0,
      "outputs": []
    },
    {
      "cell_type": "markdown",
      "metadata": {
        "id": "gsFJOu37Wtnu",
        "colab_type": "text"
      },
      "source": [
        "*** Récupération des données :**"
      ]
    },
    {
      "cell_type": "code",
      "metadata": {
        "id": "EZRSZeNdCr4F",
        "colab_type": "code",
        "colab": {}
      },
      "source": [

        "for i in range(LISSAGE_JOURS + 1):\n",
        "\n",
        "  # Génération des dates\n",
        "  DAY = (datetime.today() - timedelta(days = (LISSAGE_JOURS - i))).isoformat().split(\"T\")[0]\n",
        "  DATES.append(DAY)\n",
        "\n",
        "  # Récupération des entrées en réanimation\n",
        "  URL = (BASE_URL_ENTREE + DAY)\n",
        "  RESPONSE = requests.get(URL)\n",
        "  JSON = RESPONSE.json()\n",
        "  INDICES_TEMP_ENTREES.append(JSON['content']['distribution']['values'])\n",
        "  TOTAL_ENTREES = 0\n",
        "  for value in JSON['content']['distribution']['values']:\n",
        "    TOTAL_ENTREES += value\n",
        "    INDICES_ENTREES.append(value)\n",
        "  INDICES_ENTREES.append(TOTAL_ENTREES)\n",
        "  \n",
        "  # Récupération des personnes actuellement en réanimation\n",
        "  URL = (BASE_URL_TOTAL + DAY)\n",
        "  RESPONSE = requests.get(URL)\n",
        "  JSON = RESPONSE.json()\n",
        "  INDICES_TEMP_REANIMATION.append(JSON['content']['distribution']['values'])"

      ],
      "execution_count": 0,
      "outputs": []
    },
    {
      "cell_type": "markdown",
      "metadata": {
        "id": "ykWaVK_Wdm2N",
        "colab_type": "text"
      },
      "source": [
        "*** Calcul des données :**"
      ]
    },
    {
      "cell_type": "code",
      "metadata": {
        "id": "ySTHWg1Nd0X-",
        "colab_type": "code",
        "colab": {}
      },
      "source": [

        "for i in range(1, LISSAGE_JOURS + 1):\n",
        "  TOTAL_SORTIES = 0\n",
        "  for j in range(len(DEPARTMENTS) - 1):\n",
        "    INDICES_TEMP_COURANT.append([])\n",
        "    INDICES_TEMP_COURANT[i-1].append(INDICES_TEMP_REANIMATION[i][j] - INDICES_TEMP_REANIMATION[i - 1][j])\n",
        "    TOTAL_SORTIES += INDICES_TEMP_ENTREES[i][j] - INDICES_TEMP_COURANT[i - 1][j]\n",
        "    INDICES_SORTIES.append(INDICES_TEMP_ENTREES[i][j] - INDICES_TEMP_COURANT[i - 1][j])\n",
        "  INDICES_SORTIES.append(TOTAL_SORTIES)\n",
        "\n",
        "INDICES_ENTREES = INDICES_ENTREES[len(DEPARTMENTS) : len(INDICES_ENTREES)]\n",
        "DATES.pop(0)\n",
        "\n",
        "for value in INDICES_TEMP_COURANT:\n",
        "  TOTAL_COURANT = 0\n",
        "  for v in value:\n",
        "    TOTAL_COURANT += v\n",
        "    INDICES_COURANT.append(v)\n",
        "  INDICES_COURANT.append(TOTAL_COURANT)"
      ],
      "execution_count": 0,
      "outputs": []
    },
    {
      "cell_type": "markdown",
      "metadata": {
        "id": "IvNnTo8Eg24W",
        "colab_type": "text"
      },
      "source": [
        "*** Mise en forme des données :**"
      ]
    },
    {
      "cell_type": "code",
      "metadata": {
        "id": "kNM5uuaSg4Jn",
        "colab_type": "code",
        "outputId": "852a092e-91d3-43b6-ab8a-ed6f5bd329bc",
        "colab": {
          "base_uri": "https://localhost:8080/",
          "height": 455

        }
      },
      "source": [
        "iterables  = []\n",
        "iterables.append(DATES)\n",
        "iterables.append(DEPARTMENTS)\n",
        "idx = pd.MultiIndex.from_product(iterables, names=['DATE', 'ZONE'])\n",
        "\n",
        "datas = []\n",
        "for i in range(len(iterables[1]) * len(iterables[0])) :\n",
        "  datas.append(np.array([INDICES_ENTREES[i], INDICES_SORTIES[i],INDICES_COURANT[i], datetime.today()]))\n",
        "\n",
        "df = pd.DataFrame(datas, index=idx, columns=['ENTREES', 'SORTIES', 'SOLDES', 'LAST UPDATE'])\n",
        "df"
      ],
      "execution_count": 16,

      "outputs": [
        {
          "output_type": "execute_result",
          "data": {
            "text/html": [
              "<div>\n",
              "<style scoped>\n",
              "    .dataframe tbody tr th:only-of-type {\n",
              "        vertical-align: middle;\n",
              "    }\n",
              "\n",
              "    .dataframe tbody tr th {\n",
              "        vertical-align: top;\n",
              "    }\n",
              "\n",
              "    .dataframe thead th {\n",
              "        text-align: right;\n",
              "    }\n",
              "</style>\n",
              "<table border=\"1\" class=\"dataframe\">\n",
              "  <thead>\n",
              "    <tr style=\"text-align: right;\">\n",
              "      <th></th>\n",
              "      <th></th>\n",
              "      <th>ENTREES</th>\n",
              "      <th>SORTIES</th>\n",
              "      <th>SOLDES</th>\n",

              "      <th>LAST UPDATE</th>\n",

              "    </tr>\n",
              "    <tr>\n",
              "      <th>DATE</th>\n",
              "      <th>ZONE</th>\n",
              "      <th></th>\n",
              "      <th></th>\n",
              "      <th></th>\n",
              "      <th></th>\n",

              "    </tr>\n",
              "  </thead>\n",
              "  <tbody>\n",
              "    <tr>\n",
              "      <th rowspan=\"5\" valign=\"top\">2020-03-22</th>\n",
              "      <th>Ain</th>\n",
              "      <td>0</td>\n",
              "      <td>0</td>\n",
              "      <td>1</td>\n",
              "    </tr>\n",
              "    <tr>\n",
              "      <th>Aisne</th>\n",
              "      <td>1</td>\n",
              "      <td>0</td>\n",
              "      <td>1</td>\n",
              "    </tr>\n",
              "    <tr>\n",
              "      <th>Allier</th>\n",
              "      <td>1</td>\n",
              "      <td>0</td>\n",
              "      <td>0</td>\n",

              "    </tr>\n",
              "    <tr>\n",
              "      <th>Alpes-de-Haute-Provence</th>\n",
              "      <td>0</td>\n",
              "      <td>0</td>\n",
              "      <td>0</td>\n",
              "      <td>2020-04-24 07:14:20.672127</td>\n",

              "    </tr>\n",
              "    <tr>\n",
              "      <th>Hautes-Alpes</th>\n",
              "      <td>0</td>\n",
              "      <td>2</td>\n",
              "      <td>-2</td>\n",
              "      <td>2020-04-24 07:14:20.672131</td>\n",

              "    </tr>\n",
              "    <tr>\n",
              "      <th>...</th>\n",
              "      <th>...</th>\n",
              "      <td>...</td>\n",
              "      <td>...</td>\n",
              "      <td>...</td>\n",
              "    </tr>\n",
              "    <tr>\n",
              "      <th rowspan=\"5\" valign=\"top\">2020-04-20</th>\n",
              "      <th>Guadeloupe</th>\n",
              "      <td>4</td>\n",
              "      <td>0</td>\n",
              "      <td>0</td>\n",
              "    </tr>\n",
              "    <tr>\n",
              "      <th>Martinique</th>\n",
              "      <td>0</td>\n",
              "      <td>0</td>\n",
              "      <td>0</td>\n",
              "      <td>2020-04-24 07:14:20.674982</td>\n",

              "    </tr>\n",
              "    <tr>\n",
              "      <th>Guyane</th>\n",
              "      <td>0</td>\n",
              "      <td>0</td>\n",
              "      <td>0</td>\n",

              "      <td>2020-04-24 07:14:20.674986</td>\n",

              "    </tr>\n",
              "    <tr>\n",
              "      <th>La Réunion</th>\n",
              "      <td>0</td>\n",
              "      <td>0</td>\n",
              "      <td>0</td>\n",
 
              "      <td>2020-04-24 07:14:20.674990</td>\n",

              "    </tr>\n",
              "    <tr>\n",
              "      <th>Mayotte</th>\n",
              "      <td>0</td>\n",
              "      <td>0</td>\n",
              "      <td>0</td>\n",

              "      <td>2020-04-24 07:14:20.674994</td>\n",
              "    </tr>\n",
              "    <tr>\n",
              "      <th>France Entière</th>\n",
              "      <td>178</td>\n",
              "      <td>178</td>\n",
              "      <td>0</td>\n",
              "      <td>2020-04-24 07:14:20.674998</td>\n",
              "    </tr>\n",
              "  </tbody>\n",
              "</table>\n",
              "<p>714 rows × 4 columns</p>\n",
              "</div>"
            ],
            "text/plain": [
              "                                    ENTREES  ...                LAST UPDATE\n",
              "DATE       ZONE                              ...                           \n",
              "2020-04-18 Ain                            3  ... 2020-04-24 07:14:20.672099\n",
              "           Aisne                          0  ... 2020-04-24 07:14:20.672117\n",
              "           Allier                         0  ... 2020-04-24 07:14:20.672123\n",
              "           Alpes-de-Haute-Provence        0  ... 2020-04-24 07:14:20.672127\n",
              "           Hautes-Alpes                   0  ... 2020-04-24 07:14:20.672131\n",
              "...                                     ...  ...                        ...\n",
              "2020-04-24 Martinique                     0  ... 2020-04-24 07:14:20.674982\n",
              "           Guyane                         0  ... 2020-04-24 07:14:20.674986\n",
              "           La Réunion                     0  ... 2020-04-24 07:14:20.674990\n",
              "           Mayotte                        0  ... 2020-04-24 07:14:20.674994\n",
              "           France Entière               178  ... 2020-04-24 07:14:20.674998\n",
              "\n",
              "[714 rows x 4 columns]"

            ]
          },
          "metadata": {
            "tags": []
          },

          "execution_count": 16

        }
      ]
    },
    {
      "cell_type": "markdown",
      "metadata": {
        "id": "w0BBkRBtpLzw",
        "colab_type": "text"
      },
      "source": [
        "*** Plotting :**\n",
        "- [ ] Ajouter filtre département\n",
        "- [x] Agrandir graphique (enjoliver)\n",
        "- [x] Séparer graphique Entree/Sortie et Solde\n",
        "- [x] Mettre graphique en mode \"area\"\n",
        "- [ ] (Optionnel) Mettre le nombre de jour souhaité\n",
        "- [ ] (Optionnel) Séparer décès/sortie hopital de sorties"
      ]
    },
    {
      "cell_type": "code",
      "metadata": {
        "id": "0CH_4xlPpShW",
        "colab_type": "code",
        "outputId": "6bba3707-f50f-49f3-e584-2e663ad1c430",
        "colab": {
          "base_uri": "https://localhost:8080/",
          "height": 417
        }
      },
      "source": [
        "# Prépare la figure pour deux graphes\n",
        "fig = make_subplots(rows=2, cols=1)\n",
        "#fig = go.Figure()\n",
        "\n",
        "# Application d'un filtre pour le graphe\n",
        "# df = df.filter(like='France Entière', axis=0)\n",
        "\n",
        "# Création des éléments du dropdown pour appliquer les filtres\n",
        "buttons = []\n",
        "buttons.append(dict(method='restyle', label=\"Entire France\",\n",
        "                      args=[{'y':[df.filter(like=\"France Entière\", axis=0).ENTREES, df.filter(like=\"France Entière\", axis=0).SORTIES, df.filter(like=\"France Entière\", axis=0).SOLDES]}]))\n",
        "for i in range(len(DEPARTMENTS) - 1):\n",
        "  dep = DEPARTMENTS[i]\n",
        "  buttons.append(dict(method='restyle', label=dep,\n",
        "                      args=[{'y':[df.filter(like=dep, axis=0).ENTREES, df.filter(like=dep, axis=0).SORTIES, df.filter(like=dep, axis=0).SOLDES]}]))\n",
        "\n",
        "# Affichage des lignes dans le graphe\n",
        "fig.add_trace(go.Scatter(x=df.filter(like='France Entière', axis=0).index.get_level_values('DATE'), y=df.filter(like='France Entière', axis=0).ENTREES, fill='tozeroy',name=\"Admissions\",line=dict(width=0.5,color=\"rgb(160,0,0)\"),line_shape='spline'), row = 1, col = 1)\n",
        "fig.add_trace(go.Scatter(x=df.filter(like='France Entière', axis=0).index.get_level_values('DATE'), y=df.filter(like='France Entière', axis=0).SORTIES, fill='tozeroy',name=\"Releases\",line=dict(width=0.5,color=\"rgb(0,160,0)\"),line_shape='spline'), row = 1, col = 1)\n",
        "fig.add_trace(go.Scatter(x=df.filter(like='France Entière', axis=0).index.get_level_values('DATE'), y=df.filter(like='France Entière', axis=0).SOLDES, fill='tozeroy',name=\"Balance\",line=dict(width=0.5,color=\"rgb(0,0,160)\"),line_shape='spline'), row = 2, col = 1)\n",
        "\n",
        "# Redimensionnement et couleur de fond du graphe\n",
        "fig.update_layout(width=1400, height=400, plot_bgcolor='rgb(255,255,255)', title_text=\"Admissions, releases and balance for COVID-19 reanimation services in France (last update : \" + str(df['LAST UPDATE'][0]) + \")\")\n",
        "\n",
        "# Mise en place du dropdown\n",
        "fig.update_layout(updatemenus=[dict(buttons=buttons, direction=\"down\", pad={\"r\": 1, \"t\": 1}, showactive=True, x=0.05, xanchor=\"left\", y=1.22, yanchor=\"top\")])\n",
        "\n",
        "fig.update_layout(annotations=[dict(text=\"Zone\", x=0, xref=\"paper\", y=1.18, yref=\"paper\", align=\"left\", showarrow=False)])\n",
        "\n",
        "# Affichage du graphe\n",
        "fig.show()\n",
        "#df"
      ],
      "execution_count": 17,

      "outputs": [
        {
          "output_type": "display_data",
          "data": {
            "text/html": [
              "<html>\n",
              "<head><meta charset=\"utf-8\" /></head>\n",
              "<body>\n",
              "    <div>\n",
              "            <script src=\"https://cdnjs.cloudflare.com/ajax/libs/mathjax/2.7.5/MathJax.js?config=TeX-AMS-MML_SVG\"></script><script type=\"text/javascript\">if (window.MathJax) {MathJax.Hub.Config({SVG: {font: \"STIX-Web\"}});}</script>\n",
              "                <script type=\"text/javascript\">window.PlotlyConfig = {MathJaxConfig: 'local'};</script>\n",
              "        <script src=\"https://cdn.plot.ly/plotly-latest.min.js\"></script>    \n",

              "            <div id=\"3f749204-22e4-4202-9690-86b8dc483f8c\" class=\"plotly-graph-div\" style=\"height:400px; width:1400px;\"></div>\n",

              "            <script type=\"text/javascript\">\n",
              "                \n",
              "                    window.PLOTLYENV=window.PLOTLYENV || {};\n",
              "                    \n",

              "                if (document.getElementById(\"005e9d87-1f9b-4e43-9e4f-0efe005b9f88\")) {\n",
              "                    Plotly.newPlot(\n",
              "                        '005e9d87-1f9b-4e43-9e4f-0efe005b9f88',\n",
              "                        [{\"fill\": \"tozeroy\", \"line\": {\"color\": \"rgb(160,0,0)\", \"shape\": \"spline\", \"width\": 0.5}, \"name\": \"Entrees\", \"type\": \"scatter\", \"x\": [\"2020-03-22\", \"2020-03-23\", \"2020-03-24\", \"2020-03-25\", \"2020-03-26\", \"2020-03-27\", \"2020-03-28\", \"2020-03-29\", \"2020-03-30\", \"2020-03-31\", \"2020-04-01\", \"2020-04-02\", \"2020-04-03\", \"2020-04-04\", \"2020-04-05\", \"2020-04-06\", \"2020-04-07\", \"2020-04-08\", \"2020-04-09\", \"2020-04-10\", \"2020-04-11\", \"2020-04-12\", \"2020-04-13\", \"2020-04-14\", \"2020-04-15\", \"2020-04-16\", \"2020-04-17\", \"2020-04-18\", \"2020-04-19\", \"2020-04-20\"], \"y\": [309, 448, 571, 607, 611, 607, 694, 543, 693, 767, 771, 725, 643, 502, 390, 478, 518, 481, 370, 431, 255, 220, 227, 275, 283, 269, 244, 206, 137, 137]}, {\"fill\": \"tozeroy\", \"line\": {\"color\": \"rgb(0,160,0)\", \"shape\": \"spline\", \"width\": 0.5}, \"name\": \"Sorties\", \"type\": \"scatter\", \"x\": [\"2020-03-22\", \"2020-03-23\", \"2020-03-24\", \"2020-03-25\", \"2020-03-26\", \"2020-03-27\", \"2020-03-28\", \"2020-03-29\", \"2020-03-30\", \"2020-03-31\", \"2020-04-01\", \"2020-04-02\", \"2020-04-03\", \"2020-04-04\", \"2020-04-05\", \"2020-04-06\", \"2020-04-07\", \"2020-04-08\", \"2020-04-09\", \"2020-04-10\", \"2020-04-11\", \"2020-04-12\", \"2020-04-13\", \"2020-04-14\", \"2020-04-15\", \"2020-04-16\", \"2020-04-17\", \"2020-04-18\", \"2020-04-19\", \"2020-04-20\"], \"y\": [88, 42, 148, 175, 195, 200, 216, 187, 229, 327, 327, 363, 389, 335, 254, 389, 462, 467, 451, 493, 378, 258, 251, 366, 552, 462, 459, 395, 226, 137]}],\n",
              "                        {\"height\": 520, \"plot_bgcolor\": \"rgb(255,255,255)\", \"template\": {\"data\": {\"bar\": [{\"error_x\": {\"color\": \"#2a3f5f\"}, \"error_y\": {\"color\": \"#2a3f5f\"}, \"marker\": {\"line\": {\"color\": \"#E5ECF6\", \"width\": 0.5}}, \"type\": \"bar\"}], \"barpolar\": [{\"marker\": {\"line\": {\"color\": \"#E5ECF6\", \"width\": 0.5}}, \"type\": \"barpolar\"}], \"carpet\": [{\"aaxis\": {\"endlinecolor\": \"#2a3f5f\", \"gridcolor\": \"white\", \"linecolor\": \"white\", \"minorgridcolor\": \"white\", \"startlinecolor\": \"#2a3f5f\"}, \"baxis\": {\"endlinecolor\": \"#2a3f5f\", \"gridcolor\": \"white\", \"linecolor\": \"white\", \"minorgridcolor\": \"white\", \"startlinecolor\": \"#2a3f5f\"}, \"type\": \"carpet\"}], \"choropleth\": [{\"colorbar\": {\"outlinewidth\": 0, \"ticks\": \"\"}, \"type\": \"choropleth\"}], \"contour\": [{\"colorbar\": {\"outlinewidth\": 0, \"ticks\": \"\"}, \"colorscale\": [[0.0, \"#0d0887\"], [0.1111111111111111, \"#46039f\"], [0.2222222222222222, \"#7201a8\"], [0.3333333333333333, \"#9c179e\"], [0.4444444444444444, \"#bd3786\"], [0.5555555555555556, \"#d8576b\"], [0.6666666666666666, \"#ed7953\"], [0.7777777777777778, \"#fb9f3a\"], [0.8888888888888888, \"#fdca26\"], [1.0, \"#f0f921\"]], \"type\": \"contour\"}], \"contourcarpet\": [{\"colorbar\": {\"outlinewidth\": 0, \"ticks\": \"\"}, \"type\": \"contourcarpet\"}], \"heatmap\": [{\"colorbar\": {\"outlinewidth\": 0, \"ticks\": \"\"}, \"colorscale\": [[0.0, \"#0d0887\"], [0.1111111111111111, \"#46039f\"], [0.2222222222222222, \"#7201a8\"], [0.3333333333333333, \"#9c179e\"], [0.4444444444444444, \"#bd3786\"], [0.5555555555555556, \"#d8576b\"], [0.6666666666666666, \"#ed7953\"], [0.7777777777777778, \"#fb9f3a\"], [0.8888888888888888, \"#fdca26\"], [1.0, \"#f0f921\"]], \"type\": \"heatmap\"}], \"heatmapgl\": [{\"colorbar\": {\"outlinewidth\": 0, \"ticks\": \"\"}, \"colorscale\": [[0.0, \"#0d0887\"], [0.1111111111111111, \"#46039f\"], [0.2222222222222222, \"#7201a8\"], [0.3333333333333333, \"#9c179e\"], [0.4444444444444444, \"#bd3786\"], [0.5555555555555556, \"#d8576b\"], [0.6666666666666666, \"#ed7953\"], [0.7777777777777778, \"#fb9f3a\"], [0.8888888888888888, \"#fdca26\"], [1.0, \"#f0f921\"]], \"type\": \"heatmapgl\"}], \"histogram\": [{\"marker\": {\"colorbar\": {\"outlinewidth\": 0, \"ticks\": \"\"}}, \"type\": \"histogram\"}], \"histogram2d\": [{\"colorbar\": {\"outlinewidth\": 0, \"ticks\": \"\"}, \"colorscale\": [[0.0, \"#0d0887\"], [0.1111111111111111, \"#46039f\"], [0.2222222222222222, \"#7201a8\"], [0.3333333333333333, \"#9c179e\"], [0.4444444444444444, \"#bd3786\"], [0.5555555555555556, \"#d8576b\"], [0.6666666666666666, \"#ed7953\"], [0.7777777777777778, \"#fb9f3a\"], [0.8888888888888888, \"#fdca26\"], [1.0, \"#f0f921\"]], \"type\": \"histogram2d\"}], \"histogram2dcontour\": [{\"colorbar\": {\"outlinewidth\": 0, \"ticks\": \"\"}, \"colorscale\": [[0.0, \"#0d0887\"], [0.1111111111111111, \"#46039f\"], [0.2222222222222222, \"#7201a8\"], [0.3333333333333333, \"#9c179e\"], [0.4444444444444444, \"#bd3786\"], [0.5555555555555556, \"#d8576b\"], [0.6666666666666666, \"#ed7953\"], [0.7777777777777778, \"#fb9f3a\"], [0.8888888888888888, \"#fdca26\"], [1.0, \"#f0f921\"]], \"type\": \"histogram2dcontour\"}], \"mesh3d\": [{\"colorbar\": {\"outlinewidth\": 0, \"ticks\": \"\"}, \"type\": \"mesh3d\"}], \"parcoords\": [{\"line\": {\"colorbar\": {\"outlinewidth\": 0, \"ticks\": \"\"}}, \"type\": \"parcoords\"}], \"pie\": [{\"automargin\": true, \"type\": \"pie\"}], \"scatter\": [{\"marker\": {\"colorbar\": {\"outlinewidth\": 0, \"ticks\": \"\"}}, \"type\": \"scatter\"}], \"scatter3d\": [{\"line\": {\"colorbar\": {\"outlinewidth\": 0, \"ticks\": \"\"}}, \"marker\": {\"colorbar\": {\"outlinewidth\": 0, \"ticks\": \"\"}}, \"type\": \"scatter3d\"}], \"scattercarpet\": [{\"marker\": {\"colorbar\": {\"outlinewidth\": 0, \"ticks\": \"\"}}, \"type\": \"scattercarpet\"}], \"scattergeo\": [{\"marker\": {\"colorbar\": {\"outlinewidth\": 0, \"ticks\": \"\"}}, \"type\": \"scattergeo\"}], \"scattergl\": [{\"marker\": {\"colorbar\": {\"outlinewidth\": 0, \"ticks\": \"\"}}, \"type\": \"scattergl\"}], \"scattermapbox\": [{\"marker\": {\"colorbar\": {\"outlinewidth\": 0, \"ticks\": \"\"}}, \"type\": \"scattermapbox\"}], \"scatterpolar\": [{\"marker\": {\"colorbar\": {\"outlinewidth\": 0, \"ticks\": \"\"}}, \"type\": \"scatterpolar\"}], \"scatterpolargl\": [{\"marker\": {\"colorbar\": {\"outlinewidth\": 0, \"ticks\": \"\"}}, \"type\": \"scatterpolargl\"}], \"scatterternary\": [{\"marker\": {\"colorbar\": {\"outlinewidth\": 0, \"ticks\": \"\"}}, \"type\": \"scatterternary\"}], \"surface\": [{\"colorbar\": {\"outlinewidth\": 0, \"ticks\": \"\"}, \"colorscale\": [[0.0, \"#0d0887\"], [0.1111111111111111, \"#46039f\"], [0.2222222222222222, \"#7201a8\"], [0.3333333333333333, \"#9c179e\"], [0.4444444444444444, \"#bd3786\"], [0.5555555555555556, \"#d8576b\"], [0.6666666666666666, \"#ed7953\"], [0.7777777777777778, \"#fb9f3a\"], [0.8888888888888888, \"#fdca26\"], [1.0, \"#f0f921\"]], \"type\": \"surface\"}], \"table\": [{\"cells\": {\"fill\": {\"color\": \"#EBF0F8\"}, \"line\": {\"color\": \"white\"}}, \"header\": {\"fill\": {\"color\": \"#C8D4E3\"}, \"line\": {\"color\": \"white\"}}, \"type\": \"table\"}]}, \"layout\": {\"annotationdefaults\": {\"arrowcolor\": \"#2a3f5f\", \"arrowhead\": 0, \"arrowwidth\": 1}, \"coloraxis\": {\"colorbar\": {\"outlinewidth\": 0, \"ticks\": \"\"}}, \"colorscale\": {\"diverging\": [[0, \"#8e0152\"], [0.1, \"#c51b7d\"], [0.2, \"#de77ae\"], [0.3, \"#f1b6da\"], [0.4, \"#fde0ef\"], [0.5, \"#f7f7f7\"], [0.6, \"#e6f5d0\"], [0.7, \"#b8e186\"], [0.8, \"#7fbc41\"], [0.9, \"#4d9221\"], [1, \"#276419\"]], \"sequential\": [[0.0, \"#0d0887\"], [0.1111111111111111, \"#46039f\"], [0.2222222222222222, \"#7201a8\"], [0.3333333333333333, \"#9c179e\"], [0.4444444444444444, \"#bd3786\"], [0.5555555555555556, \"#d8576b\"], [0.6666666666666666, \"#ed7953\"], [0.7777777777777778, \"#fb9f3a\"], [0.8888888888888888, \"#fdca26\"], [1.0, \"#f0f921\"]], \"sequentialminus\": [[0.0, \"#0d0887\"], [0.1111111111111111, \"#46039f\"], [0.2222222222222222, \"#7201a8\"], [0.3333333333333333, \"#9c179e\"], [0.4444444444444444, \"#bd3786\"], [0.5555555555555556, \"#d8576b\"], [0.6666666666666666, \"#ed7953\"], [0.7777777777777778, \"#fb9f3a\"], [0.8888888888888888, \"#fdca26\"], [1.0, \"#f0f921\"]]}, \"colorway\": [\"#636efa\", \"#EF553B\", \"#00cc96\", \"#ab63fa\", \"#FFA15A\", \"#19d3f3\", \"#FF6692\", \"#B6E880\", \"#FF97FF\", \"#FECB52\"], \"font\": {\"color\": \"#2a3f5f\"}, \"geo\": {\"bgcolor\": \"white\", \"lakecolor\": \"white\", \"landcolor\": \"#E5ECF6\", \"showlakes\": true, \"showland\": true, \"subunitcolor\": \"white\"}, \"hoverlabel\": {\"align\": \"left\"}, \"hovermode\": \"closest\", \"mapbox\": {\"style\": \"light\"}, \"paper_bgcolor\": \"white\", \"plot_bgcolor\": \"#E5ECF6\", \"polar\": {\"angularaxis\": {\"gridcolor\": \"white\", \"linecolor\": \"white\", \"ticks\": \"\"}, \"bgcolor\": \"#E5ECF6\", \"radialaxis\": {\"gridcolor\": \"white\", \"linecolor\": \"white\", \"ticks\": \"\"}}, \"scene\": {\"xaxis\": {\"backgroundcolor\": \"#E5ECF6\", \"gridcolor\": \"white\", \"gridwidth\": 2, \"linecolor\": \"white\", \"showbackground\": true, \"ticks\": \"\", \"zerolinecolor\": \"white\"}, \"yaxis\": {\"backgroundcolor\": \"#E5ECF6\", \"gridcolor\": \"white\", \"gridwidth\": 2, \"linecolor\": \"white\", \"showbackground\": true, \"ticks\": \"\", \"zerolinecolor\": \"white\"}, \"zaxis\": {\"backgroundcolor\": \"#E5ECF6\", \"gridcolor\": \"white\", \"gridwidth\": 2, \"linecolor\": \"white\", \"showbackground\": true, \"ticks\": \"\", \"zerolinecolor\": \"white\"}}, \"shapedefaults\": {\"line\": {\"color\": \"#2a3f5f\"}}, \"ternary\": {\"aaxis\": {\"gridcolor\": \"white\", \"linecolor\": \"white\", \"ticks\": \"\"}, \"baxis\": {\"gridcolor\": \"white\", \"linecolor\": \"white\", \"ticks\": \"\"}, \"bgcolor\": \"#E5ECF6\", \"caxis\": {\"gridcolor\": \"white\", \"linecolor\": \"white\", \"ticks\": \"\"}}, \"title\": {\"x\": 0.05}, \"xaxis\": {\"automargin\": true, \"gridcolor\": \"white\", \"linecolor\": \"white\", \"ticks\": \"\", \"title\": {\"standoff\": 15}, \"zerolinecolor\": \"white\", \"zerolinewidth\": 2}, \"yaxis\": {\"automargin\": true, \"gridcolor\": \"white\", \"linecolor\": \"white\", \"ticks\": \"\", \"title\": {\"standoff\": 15}, \"zerolinecolor\": \"white\", \"zerolinewidth\": 2}}}, \"width\": 1500},\n",
              "                        {\"responsive\": true}\n",
              "                    ).then(function(){\n",
              "                            \n",
              "var gd = document.getElementById('005e9d87-1f9b-4e43-9e4f-0efe005b9f88');\n",

              "var x = new MutationObserver(function (mutations, observer) {{\n",
              "        var display = window.getComputedStyle(gd).display;\n",
              "        if (!display || display === 'none') {{\n",
              "            console.log([gd, 'removed!']);\n",
              "            Plotly.purge(gd);\n",
              "            observer.disconnect();\n",
              "        }}\n",
              "}});\n",
              "\n",
              "// Listen for the removal of the full notebook cells\n",
              "var notebookContainer = gd.closest('#notebook-container');\n",
              "if (notebookContainer) {{\n",
              "    x.observe(notebookContainer, {childList: true});\n",
              "}}\n",
              "\n",
              "// Listen for the clearing of the current output cell\n",
              "var outputEl = gd.closest('.output');\n",
              "if (outputEl) {{\n",
              "    x.observe(outputEl, {childList: true});\n",
              "}}\n",
              "\n",
              "                        })\n",
              "                };\n",
              "                \n",
              "            </script>\n",
              "        </div>\n",
              "</body>\n",
              "</html>"
            ]
          },
          "metadata": {
            "tags": []
          }
        }
      ]
    }
  ]
}