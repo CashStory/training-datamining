{
  "nbformat": 4,
  "nbformat_minor": 0,
  "metadata": {
    "colab": {
      "name": "ECONOMY-GDP_AND_GROWTH_PER_COUNTRY.ipynb",
      "provenance": [],
      "collapsed_sections": [],
      "include_colab_link": true
    },
    "kernelspec": {
      "name": "python3",
      "display_name": "Python 3"
    }
  },
  "cells": [
    {
      "cell_type": "markdown",
      "metadata": {
        "id": "view-in-github",
        "colab_type": "text"
      },
      "source": [
        "<a href=\"https://colab.research.google.com/github/FlorentinGremy/training-datamining-mds/blob/master/ECONOMY_GDP_AND_GROWTH_PER_COUNTRY.ipynb\" target=\"_parent\"><img src=\"https://colab.research.google.com/assets/colab-badge.svg\" alt=\"Open In Colab\"/></a>"
      ]
    },
    {
      "cell_type": "markdown",
      "metadata": {
        "id": "NFm_zRA1PE2e",
        "colab_type": "text"
      },
      "source": [
        "# Projet Denver: PIB et son évolution par pays"
      ]
    },
    {
      "cell_type": "markdown",
      "metadata": {
        "id": "eHA8sVa24OON",
        "colab_type": "text"
      },
      "source": [
        "**Lien vers l'issue:** https://github.com/CashStory/training-datamining-mds/issues/4\n"
      ]
    },
    {
      "cell_type": "markdown",
      "metadata": {
        "id": "7DurCJtH4YWL",
        "colab_type": "text"
      },
      "source": [
        "**source des données:** data.worldbank.org\n",
        "\n",
        "\n"
      ]
    },
    {
      "cell_type": "markdown",
      "metadata": {
        "id": "UDK3v1kJe3Ku",
        "colab_type": "text"
      },
      "source": [
        "**Introduction**: https://drive.google.com/file/d/1kM7_P18bwEPrsZSk8YsvOdiuJyLN1_3H/view?usp=sharing"
      ]
    },
    {
      "cell_type": "markdown",
      "metadata": {
        "id": "JDQhKKXgQ3z7",
        "colab_type": "text"
      },
      "source": [
        "**Étape 1 - Récupérer les données**\n",
        "\n",
        "*Récupération des données sur le PIB par pays:* \n",
        "https://data.worldbank.org/indicator/NY.GDP.PCAP.CD\n",
        "\n",
        "*Récupération des données sur l'évolution du PIB par an par pays:* \n",
        "https://data.worldbank.org/indicator/NY.GDP.PCAP.KD.ZG"
      ]
    },
    {
      "cell_type": "markdown",
      "metadata": {
        "id": "kISsuJL15JqX",
        "colab_type": "text"
      },
      "source": [
        "**Step 2 : Importer les librairies Pythons**\n",
        "\n"
      ]
    },
    {
      "cell_type": "code",
      "metadata": {
        "id": "PxNbb9bE5Py_",
        "colab_type": "code",
        "colab": {}
      },
      "source": [
        "import pandas as pd\n",
        "import numpy as np\n",
        "import plotly.graph_objects as go"
      ],
      "execution_count": 0,
      "outputs": []
    },
    {
      "cell_type": "markdown",
      "metadata": {
        "id": "w4BwPJoDErL1",
        "colab_type": "text"
      },
      "source": [
        "**Step 3 : Mise en forme des données**"
      ]
    },
    {
      "cell_type": "code",
      "metadata": {
        "id": "0ksZHPdp6JgN",
        "colab_type": "code",
        "outputId": "152bded3-95ee-4729-9c77-0fedbcc2a41a",
        "colab": {
          "base_uri": "https://localhost:8080/",
          "height": 419
        }
      },
      "source": [
        "from pandas_datareader import wb\n",
        "\n",
        "indicators = wb.download(indicator=['NY.GDP.PCAP.CD', 'NY.GDP.PCAP.KD.ZG'], country='all', start=2013, end=2018)\n",
        "\n",
        "indicators = indicators.reset_index()\n",
        "indicators = indicators[['country', 'year', 'NY.GDP.PCAP.CD', 'NY.GDP.PCAP.KD.ZG']]\n",
        "indicators.columns = ['country', 'year', 'GDP_PER_CAPITAL', 'GDP_GROWTH_PER_CAPITAL']\n",
        "\n",
        "indicators = indicators.fillna(0)\n",
        "\n",
        "countries = wb.get_countries()\n",
        "countries = countries[['name', 'region', 'iso3c']]\n",
        "\n",
        "master_table = pd.merge(indicators, countries, left_on='country', right_on='name')\n",
        "\n",
        "master_table = master_table[master_table['region'] != 'Aggregates']\n",
        "\n",
        "master_table = master_table.drop(columns=['name'])\n",
        "\n",
        "master_table = master_table.dropna()\n",
        "\n",
        "# Création de l'ensemble final\n",
        "xls_formatted = pd.DataFrame(columns=['COUNTRY', 'YEAR', 'GDP_PER_CAPITAL', 'GDP_GROWTH_PER_CAPITAL', 'REGION', 'ISO3C'])\n",
        "\n",
        "for index, line in master_table.iterrows():\n",
        "  xls_formatted = xls_formatted.append(\n",
        "    {\n",
        "        'COUNTRY': line['country'],\n",
        "        'YEAR': line['year'],\n",
        "        'GDP_PER_CAPITAL': line['GDP_PER_CAPITAL'],\n",
        "        'GDP_GROWTH_PER_CAPITAL': line['GDP_GROWTH_PER_CAPITAL'],\n",
        "        'REGION': line['region'],\n",
        "        'ISO3C': line['iso3c'],\n",
        "    }, ignore_index=True\n",
        "  )\n",
        "\n",
        "master_table = xls_formatted\n",
        "\n",
        "master_table"
      ],
      "execution_count": 0,
      "outputs": [
        {
          "output_type": "execute_result",
          "data": {
            "text/html": [
              "<div>\n",
              "<style scoped>\n",
              "    .dataframe tbody tr th:only-of-type {\n",
              "        vertical-align: middle;\n",
              "    }\n",
              "\n",
              "    .dataframe tbody tr th {\n",
              "        vertical-align: top;\n",
              "    }\n",
              "\n",
              "    .dataframe thead th {\n",
              "        text-align: right;\n",
              "    }\n",
              "</style>\n",
              "<table border=\"1\" class=\"dataframe\">\n",
              "  <thead>\n",
              "    <tr style=\"text-align: right;\">\n",
              "      <th></th>\n",
              "      <th>COUNTRY</th>\n",
              "      <th>YEAR</th>\n",
              "      <th>GDP_PER_CAPITAL</th>\n",
              "      <th>GDP_GROWTH_PER_CAPITAL</th>\n",
              "      <th>REGION</th>\n",
              "      <th>ISO3C</th>\n",
              "    </tr>\n",
              "  </thead>\n",
              "  <tbody>\n",
              "    <tr>\n",
              "      <th>0</th>\n",
              "      <td>Afghanistan</td>\n",
              "      <td>2018</td>\n",
              "      <td>520.896603</td>\n",
              "      <td>-1.350178</td>\n",
              "      <td>South Asia</td>\n",
              "      <td>AFG</td>\n",
              "    </tr>\n",
              "    <tr>\n",
              "      <th>1</th>\n",
              "      <td>Afghanistan</td>\n",
              "      <td>2017</td>\n",
              "      <td>556.302139</td>\n",
              "      <td>0.082079</td>\n",
              "      <td>South Asia</td>\n",
              "      <td>AFG</td>\n",
              "    </tr>\n",
              "    <tr>\n",
              "      <th>2</th>\n",
              "      <td>Afghanistan</td>\n",
              "      <td>2016</td>\n",
              "      <td>547.228110</td>\n",
              "      <td>-0.541697</td>\n",
              "      <td>South Asia</td>\n",
              "      <td>AFG</td>\n",
              "    </tr>\n",
              "    <tr>\n",
              "      <th>3</th>\n",
              "      <td>Afghanistan</td>\n",
              "      <td>2015</td>\n",
              "      <td>578.466353</td>\n",
              "      <td>-1.622887</td>\n",
              "      <td>South Asia</td>\n",
              "      <td>AFG</td>\n",
              "    </tr>\n",
              "    <tr>\n",
              "      <th>4</th>\n",
              "      <td>Afghanistan</td>\n",
              "      <td>2014</td>\n",
              "      <td>613.856333</td>\n",
              "      <td>-0.665271</td>\n",
              "      <td>South Asia</td>\n",
              "      <td>AFG</td>\n",
              "    </tr>\n",
              "    <tr>\n",
              "      <th>...</th>\n",
              "      <td>...</td>\n",
              "      <td>...</td>\n",
              "      <td>...</td>\n",
              "      <td>...</td>\n",
              "      <td>...</td>\n",
              "      <td>...</td>\n",
              "    </tr>\n",
              "    <tr>\n",
              "      <th>1297</th>\n",
              "      <td>Zimbabwe</td>\n",
              "      <td>2017</td>\n",
              "      <td>1602.403507</td>\n",
              "      <td>3.186399</td>\n",
              "      <td>Sub-Saharan Africa</td>\n",
              "      <td>ZWE</td>\n",
              "    </tr>\n",
              "    <tr>\n",
              "      <th>1298</th>\n",
              "      <td>Zimbabwe</td>\n",
              "      <td>2016</td>\n",
              "      <td>1464.583529</td>\n",
              "      <td>-0.793566</td>\n",
              "      <td>Sub-Saharan Africa</td>\n",
              "      <td>ZWE</td>\n",
              "    </tr>\n",
              "    <tr>\n",
              "      <th>1299</th>\n",
              "      <td>Zimbabwe</td>\n",
              "      <td>2015</td>\n",
              "      <td>1445.071062</td>\n",
              "      <td>0.100456</td>\n",
              "      <td>Sub-Saharan Africa</td>\n",
              "      <td>ZWE</td>\n",
              "    </tr>\n",
              "    <tr>\n",
              "      <th>1300</th>\n",
              "      <td>Zimbabwe</td>\n",
              "      <td>2014</td>\n",
              "      <td>1434.899340</td>\n",
              "      <td>0.596198</td>\n",
              "      <td>Sub-Saharan Africa</td>\n",
              "      <td>ZWE</td>\n",
              "    </tr>\n",
              "    <tr>\n",
              "      <th>1301</th>\n",
              "      <td>Zimbabwe</td>\n",
              "      <td>2013</td>\n",
              "      <td>1430.000818</td>\n",
              "      <td>0.192501</td>\n",
              "      <td>Sub-Saharan Africa</td>\n",
              "      <td>ZWE</td>\n",
              "    </tr>\n",
              "  </tbody>\n",
              "</table>\n",
              "<p>1302 rows × 6 columns</p>\n",
              "</div>"
            ],
            "text/plain": [
              "          COUNTRY  YEAR  ...               REGION  ISO3C\n",
              "0     Afghanistan  2018  ...           South Asia    AFG\n",
              "1     Afghanistan  2017  ...           South Asia    AFG\n",
              "2     Afghanistan  2016  ...           South Asia    AFG\n",
              "3     Afghanistan  2015  ...           South Asia    AFG\n",
              "4     Afghanistan  2014  ...           South Asia    AFG\n",
              "...           ...   ...  ...                  ...    ...\n",
              "1297     Zimbabwe  2017  ...  Sub-Saharan Africa     ZWE\n",
              "1298     Zimbabwe  2016  ...  Sub-Saharan Africa     ZWE\n",
              "1299     Zimbabwe  2015  ...  Sub-Saharan Africa     ZWE\n",
              "1300     Zimbabwe  2014  ...  Sub-Saharan Africa     ZWE\n",
              "1301     Zimbabwe  2013  ...  Sub-Saharan Africa     ZWE\n",
              "\n",
              "[1302 rows x 6 columns]"
            ]
          },
          "metadata": {
            "tags": []
          },
          "execution_count": 147
        }
      ]
    },
    {
      "cell_type": "markdown",
      "metadata": {
        "id": "YFRXBt3QRGyV",
        "colab_type": "text"
      },
      "source": [
        "**Step 4 : Affichage des données dans un graphique avec Plotly**"
      ]
    },
    {
      "cell_type": "code",
      "metadata": {
        "id": "iq6gJ2MwedAL",
        "colab_type": "code",
        "outputId": "7633a002-78cf-465d-a859-617c4b1e5bf8",
        "colab": {
          "base_uri": "https://localhost:8080/",
          "height": 917
        }
      },
      "source": [
        "# Variable à changer pour avoir les autres années\n",
        "year = \"2018\"\n",
        "master_year_table = master_table[master_table['YEAR'] == year]\n",
        "\n",
        "GDP_GROWTH_PER_CAPITAL = \"GDP GROWTH PER CAPITAL\"\n",
        "GDP_PER_CAPITAL = \"GDP PER CAPITAL\"\n",
        "\n",
        "fig = go.Figure()\n",
        "\n",
        "fig.add_trace(go.Choropleth(\n",
        "    locations=master_year_table['ISO3C'],\n",
        "    z = master_year_table['GDP_PER_CAPITAL'],\n",
        "    colorscale = [(0,\"black\"), (0.01,\"red\"),(0.1,\"yellow\"),(0.3,\"green\"),(1,\"green\")],\n",
        "    colorbar_title = \"GDP PER CAPITAL\",\n",
        "    customdata = master_year_table['COUNTRY'],\n",
        "    hovertemplate = '<b>%{customdata}: %{z:,.0f}</b><extra></extra>'\n",
        "))\n",
        "\n",
        "fig.add_trace(go.Choropleth(\n",
        "    locations=master_year_table['ISO3C'],\n",
        "    visible= False,\n",
        "    z = master_year_table['GDP_GROWTH_PER_CAPITAL'],\n",
        "    colorscale = [(0,\"red\"),(0.5,\"red\"),(0.75,\"rgb(240,230,140)\"), (1,\"green\")],\n",
        "    colorbar_title = \"GDP GROWTH PER CAPITAL\",\n",
        "    customdata = master_year_table['COUNTRY'],\n",
        "    hovertemplate = '<b>%{customdata}: %{z:0.2f}%</b><extra></extra>'\n",
        "))\n",
        "\n",
        "fig.update_layout(\n",
        "    autosize=False,\n",
        "    width= 1600,\n",
        "    height= 900,\n",
        "    title=f\"GDP per capital in {year}\",\n",
        "    title_x=0.5,\n",
        "    updatemenus=[\n",
        "        dict(\n",
        "            type = \"buttons\",\n",
        "            active=0,\n",
        "            buttons=list([\n",
        "                dict(\n",
        "                    args=[{\"visible\": [True, False]}, {\"title\": f\"{GDP_PER_CAPITAL} in {year}\"}],\n",
        "                    label=GDP_PER_CAPITAL,\n",
        "                    method=\"update\"\n",
        "                ),\n",
        "                dict(\n",
        "                    args=[{\"visible\": [False, True]}, {\"title\": f\"{GDP_GROWTH_PER_CAPITAL} in {year}\"}],\n",
        "                    label=GDP_GROWTH_PER_CAPITAL,\n",
        "                    method=\"update\"\n",
        "                )\n",
        "            ]),\n",
        "            showactive=True,\n",
        "            x=1,\n",
        "            xanchor=\"right\",\n",
        "            y=1.1,\n",
        "            yanchor=\"top\"\n",
        "        ),\n",
        "    ]\n",
        ")\n",
        "\n",
        "fig.show()"
      ],
      "execution_count": 0,
      "outputs": [
        {
          "output_type": "display_data",
          "data": {
            "text/html": [
              "<html>\n",
              "<head><meta charset=\"utf-8\" /></head>\n",
              "<body>\n",
              "    <div>\n",
              "            <script src=\"https://cdnjs.cloudflare.com/ajax/libs/mathjax/2.7.5/MathJax.js?config=TeX-AMS-MML_SVG\"></script><script type=\"text/javascript\">if (window.MathJax) {MathJax.Hub.Config({SVG: {font: \"STIX-Web\"}});}</script>\n",
              "                <script type=\"text/javascript\">window.PlotlyConfig = {MathJaxConfig: 'local'};</script>\n",
              "        <script src=\"https://cdn.plot.ly/plotly-latest.min.js\"></script>    \n",
              "            <div id=\"cb1f65bf-18a9-4038-a2c2-6ea2ec770bdb\" class=\"plotly-graph-div\" style=\"height:900px; width:1600px;\"></div>\n",
              "            <script type=\"text/javascript\">\n",
              "                \n",
              "                    window.PLOTLYENV=window.PLOTLYENV || {};\n",
              "                    \n",
              "                if (document.getElementById(\"cb1f65bf-18a9-4038-a2c2-6ea2ec770bdb\")) {\n",
              "                    Plotly.newPlot(\n",
              "                        'cb1f65bf-18a9-4038-a2c2-6ea2ec770bdb',\n",
              "                        [{\"colorbar\": {\"title\": {\"text\": \"GDP PER CAPITAL\"}}, \"colorscale\": [[0, \"black\"], [0.01, \"red\"], [0.1, \"yellow\"], [0.3, \"green\"], [1, \"green\"]], \"customdata\": [\"Afghanistan\", \"Albania\", \"Algeria\", \"American Samoa\", \"Andorra\", \"Angola\", \"Antigua and Barbuda\", \"Argentina\", \"Armenia\", \"Aruba\", \"Australia\", \"Austria\", \"Azerbaijan\", \"Bahamas, The\", \"Bahrain\", \"Bangladesh\", \"Barbados\", \"Belarus\", \"Belgium\", \"Belize\", \"Benin\", \"Bermuda\", \"Bhutan\", \"Bolivia\", \"Bosnia and Herzegovina\", \"Botswana\", \"Brazil\", \"British Virgin Islands\", \"Brunei Darussalam\", \"Bulgaria\", \"Burkina Faso\", \"Burundi\", \"Cabo Verde\", \"Cambodia\", \"Cameroon\", \"Canada\", \"Cayman Islands\", \"Central African Republic\", \"Chad\", \"Channel Islands\", \"Chile\", \"China\", \"Colombia\", \"Comoros\", \"Congo, Dem. Rep.\", \"Congo, Rep.\", \"Costa Rica\", \"Cote d'Ivoire\", \"Croatia\", \"Cuba\", \"Curacao\", \"Cyprus\", \"Czech Republic\", \"Denmark\", \"Djibouti\", \"Dominica\", \"Dominican Republic\", \"Ecuador\", \"Egypt, Arab Rep.\", \"El Salvador\", \"Equatorial Guinea\", \"Eritrea\", \"Estonia\", \"Eswatini\", \"Ethiopia\", \"Faroe Islands\", \"Fiji\", \"Finland\", \"France\", \"French Polynesia\", \"Gabon\", \"Gambia, The\", \"Georgia\", \"Germany\", \"Ghana\", \"Gibraltar\", \"Greece\", \"Greenland\", \"Grenada\", \"Guam\", \"Guatemala\", \"Guinea\", \"Guinea-Bissau\", \"Guyana\", \"Haiti\", \"Honduras\", \"Hong Kong SAR, China\", \"Hungary\", \"Iceland\", \"India\", \"Indonesia\", \"Iran, Islamic Rep.\", \"Iraq\", \"Ireland\", \"Isle of Man\", \"Israel\", \"Italy\", \"Jamaica\", \"Japan\", \"Jordan\", \"Kazakhstan\", \"Kenya\", \"Kiribati\", \"Korea, Dem. People\\u2019s Rep.\", \"Korea, Rep.\", \"Kosovo\", \"Kuwait\", \"Kyrgyz Republic\", \"Lao PDR\", \"Latvia\", \"Lebanon\", \"Lesotho\", \"Liberia\", \"Libya\", \"Liechtenstein\", \"Lithuania\", \"Luxembourg\", \"Macao SAR, China\", \"Madagascar\", \"Malawi\", \"Malaysia\", \"Maldives\", \"Mali\", \"Malta\", \"Marshall Islands\", \"Mauritania\", \"Mauritius\", \"Mexico\", \"Micronesia, Fed. Sts.\", \"Moldova\", \"Monaco\", \"Mongolia\", \"Montenegro\", \"Morocco\", \"Mozambique\", \"Myanmar\", \"Namibia\", \"Nauru\", \"Nepal\", \"Netherlands\", \"New Caledonia\", \"New Zealand\", \"Nicaragua\", \"Niger\", \"Nigeria\", \"North Macedonia\", \"Northern Mariana Islands\", \"Norway\", \"Oman\", \"Pakistan\", \"Palau\", \"Panama\", \"Papua New Guinea\", \"Paraguay\", \"Peru\", \"Philippines\", \"Poland\", \"Portugal\", \"Puerto Rico\", \"Qatar\", \"Romania\", \"Russian Federation\", \"Rwanda\", \"Samoa\", \"San Marino\", \"Sao Tome and Principe\", \"Saudi Arabia\", \"Senegal\", \"Serbia\", \"Seychelles\", \"Sierra Leone\", \"Singapore\", \"Sint Maarten (Dutch part)\", \"Slovak Republic\", \"Slovenia\", \"Solomon Islands\", \"Somalia\", \"South Africa\", \"South Sudan\", \"Spain\", \"Sri Lanka\", \"St. Kitts and Nevis\", \"St. Lucia\", \"St. Martin (French part)\", \"St. Vincent and the Grenadines\", \"Sudan\", \"Suriname\", \"Sweden\", \"Switzerland\", \"Syrian Arab Republic\", \"Tajikistan\", \"Tanzania\", \"Thailand\", \"Timor-Leste\", \"Togo\", \"Tonga\", \"Trinidad and Tobago\", \"Tunisia\", \"Turkey\", \"Turkmenistan\", \"Turks and Caicos Islands\", \"Tuvalu\", \"Uganda\", \"Ukraine\", \"United Arab Emirates\", \"United Kingdom\", \"United States\", \"Uruguay\", \"Uzbekistan\", \"Vanuatu\", \"Venezuela, RB\", \"Vietnam\", \"Virgin Islands (U.S.)\", \"West Bank and Gaza\", \"Yemen, Rep.\", \"Zambia\", \"Zimbabwe\"], \"hovertemplate\": \"<b>%{customdata}: %{z:,.0f}</b><extra></extra>\", \"locations\": [\"AFG\", \"ALB\", \"DZA\", \"ASM\", \"AND\", \"AGO\", \"ATG\", \"ARG\", \"ARM\", \"ABW\", \"AUS\", \"AUT\", \"AZE\", \"BHS\", \"BHR\", \"BGD\", \"BRB\", \"BLR\", \"BEL\", \"BLZ\", \"BEN\", \"BMU\", \"BTN\", \"BOL\", \"BIH\", \"BWA\", \"BRA\", \"VGB\", \"BRN\", \"BGR\", \"BFA\", \"BDI\", \"CPV\", \"KHM\", \"CMR\", \"CAN\", \"CYM\", \"CAF\", \"TCD\", \"CHI\", \"CHL\", \"CHN\", \"COL\", \"COM\", \"COD\", \"COG\", \"CRI\", \"CIV\", \"HRV\", \"CUB\", \"CUW\", \"CYP\", \"CZE\", \"DNK\", \"DJI\", \"DMA\", \"DOM\", \"ECU\", \"EGY\", \"SLV\", \"GNQ\", \"ERI\", \"EST\", \"SWZ\", \"ETH\", \"FRO\", \"FJI\", \"FIN\", \"FRA\", \"PYF\", \"GAB\", \"GMB\", \"GEO\", \"DEU\", \"GHA\", \"GIB\", \"GRC\", \"GRL\", \"GRD\", \"GUM\", \"GTM\", \"GIN\", \"GNB\", \"GUY\", \"HTI\", \"HND\", \"HKG\", \"HUN\", \"ISL\", \"IND\", \"IDN\", \"IRN\", \"IRQ\", \"IRL\", \"IMN\", \"ISR\", \"ITA\", \"JAM\", \"JPN\", \"JOR\", \"KAZ\", \"KEN\", \"KIR\", \"PRK\", \"KOR\", \"XKX\", \"KWT\", \"KGZ\", \"LAO\", \"LVA\", \"LBN\", \"LSO\", \"LBR\", \"LBY\", \"LIE\", \"LTU\", \"LUX\", \"MAC\", \"MDG\", \"MWI\", \"MYS\", \"MDV\", \"MLI\", \"MLT\", \"MHL\", \"MRT\", \"MUS\", \"MEX\", \"FSM\", \"MDA\", \"MCO\", \"MNG\", \"MNE\", \"MAR\", \"MOZ\", \"MMR\", \"NAM\", \"NRU\", \"NPL\", \"NLD\", \"NCL\", \"NZL\", \"NIC\", \"NER\", \"NGA\", \"MKD\", \"MNP\", \"NOR\", \"OMN\", \"PAK\", \"PLW\", \"PAN\", \"PNG\", \"PRY\", \"PER\", \"PHL\", \"POL\", \"PRT\", \"PRI\", \"QAT\", \"ROU\", \"RUS\", \"RWA\", \"WSM\", \"SMR\", \"STP\", \"SAU\", \"SEN\", \"SRB\", \"SYC\", \"SLE\", \"SGP\", \"SXM\", \"SVK\", \"SVN\", \"SLB\", \"SOM\", \"ZAF\", \"SSD\", \"ESP\", \"LKA\", \"KNA\", \"LCA\", \"MAF\", \"VCT\", \"SDN\", \"SUR\", \"SWE\", \"CHE\", \"SYR\", \"TJK\", \"TZA\", \"THA\", \"TLS\", \"TGO\", \"TON\", \"TTO\", \"TUN\", \"TUR\", \"TKM\", \"TCA\", \"TUV\", \"UGA\", \"UKR\", \"ARE\", \"GBR\", \"USA\", \"URY\", \"UZB\", \"VUT\", \"VEN\", \"VNM\", \"VIR\", \"PSE\", \"YEM\", \"ZMB\", \"ZWE\"], \"type\": \"choropleth\", \"z\": [520.896602719135, 5268.84850355919, 4114.71506136896, 11466.6907058505, 42029.7627372989, 3432.38573600893, 16726.9808079479, 11683.9496216363, 4212.07094272937, 0.0, 57373.6866841281, 51461.9547804677, 4721.17808673142, 32217.871590084, 24050.7575053956, 1698.26280233547, 17949.2815054371, 6289.93855308212, 47518.6360388914, 4884.74242133376, 901.543871206357, 0.0, 3243.23112508014, 3548.59013979338, 6065.67270824158, 8258.64166574691, 8920.76210462979, 0.0, 31628.3287914349, 9272.62930360848, 715.12290404614, 271.752044376648, 3635.40684982339, 1510.3248705764, 1533.74213975885, 46232.9896226967, 0.0, 475.721250544318, 728.343235359289, 0.0, 15923.3587375381, 9770.84708783314, 6667.7906995498, 1415.26362231562, 561.777182390425, 2147.76946104594, 12027.3658826316, 1715.53133212649, 14909.6931860854, 8821.81889125004, 19567.8924351055, 28689.6985789646, 23078.5734865691, 61350.3479093986, 3082.54309871957, 7691.34509727878, 8050.63160184635, 6344.87197850057, 2549.13225178609, 4058.25243928118, 10261.7600116887, 0.0, 23266.3462718751, 4145.97411168691, 772.313530261357, 0.0, 6266.96796528074, 50152.3401411303, 41463.6440227034, 0.0, 7952.52589277651, 716.118488979126, 4717.14302573577, 47603.0276328757, 2202.31216442504, 0.0, 20324.2535641478, 0.0, 10640.496760331, 35712.5621350321, 4549.01008110721, 878.599613250501, 777.969921802522, 4979.00218839886, 868.34202469407, 2500.11321286023, 48675.6164599767, 16161.9805101918, 73191.1163154337, 2009.97885727039, 3893.59607757239, 0.0, 5834.16621076061, 78806.431996268, 0.0, 41715.0292840432, 34483.2039992043, 5354.2368587703, 39289.9584346358, 4241.78878213854, 9812.60113654067, 1710.51009699405, 1625.28610001512, 0.0, 31362.75147294, 4302.27648252378, 33994.4065667831, 1281.36366078545, 2542.4865281792, 17860.6171980214, 8269.78767551923, 1299.15312598733, 677.322178545364, 7241.70448113024, 0.0, 19153.4089860651, 116639.88804711, 87208.535912643, 527.501285041282, 389.398033178836, 11373.2330025676, 10330.615614094, 899.659908096615, 30098.2833099975, 3788.16359372058, 1188.83458753973, 11238.6903948961, 9673.44367360619, 3568.29082936098, 3227.3121916043, 185741.279991587, 4121.73243469391, 8844.23698538056, 3222.20063433213, 498.957220208652, 1325.9529237064, 5931.45388611617, 9888.89359652993, 1033.91243082634, 53024.0592130531, 0.0, 41945.3316690932, 2028.89475539369, 413.980304962089, 2028.18197017598, 6083.71894832148, 23258.6758552794, 81697.2459836768, 16415.1572780989, 1482.40306306798, 15859.4348578768, 15575.0725482915, 2730.27479935873, 5821.81432292324, 6941.23584763012, 3102.71336329931, 15420.9111634295, 23407.9065887968, 31651.3481514031, 68793.7844372614, 12301.1864034302, 11288.8784475021, 772.944459929187, 4183.40793504696, 0.0, 2001.14090226164, 23338.9634580718, 1521.95355421391, 7246.73165586437, 16433.9352865158, 533.991184258936, 64581.9440183954, 0.0, 19442.7057620693, 26123.9738694646, 2137.69069539357, 314.544165670763, 6374.02819575944, 0.0, 30370.8923252247, 4102.48135014467, 19275.4185126566, 10566.0497458462, 0.0, 7361.4009618002, 977.273635724417, 6234.04492230646, 54608.3602546906, 82796.5471631285, 0.0, 826.621530538704, 1060.99461489421, 7273.56320732092, 2035.53390768881, 679.257083602874, 4364.01556134949, 17129.9130902577, 3447.50790975551, 9370.1763438282, 6966.63541063077, 27142.2277976902, 3700.71067713471, 642.776744292007, 3095.17358053586, 43004.9533584848, 42943.9022698053, 62794.5856522398, 17277.9701105496, 1532.37167679684, 3123.89339649956, 0.0, 2566.59694958511, 0.0, 3198.86664447405, 944.408499373419, 1539.90015779907, 2146.99638487707]}, {\"colorbar\": {\"title\": {\"text\": \"GDP GROWTH PER CAPITAL\"}}, \"colorscale\": [[0, \"red\"], [0.5, \"red\"], [0.75, \"rgb(240,230,140)\"], [1, \"green\"]], \"customdata\": [\"Afghanistan\", \"Albania\", \"Algeria\", \"American Samoa\", \"Andorra\", \"Angola\", \"Antigua and Barbuda\", \"Argentina\", \"Armenia\", \"Aruba\", \"Australia\", \"Austria\", \"Azerbaijan\", \"Bahamas, The\", \"Bahrain\", \"Bangladesh\", \"Barbados\", \"Belarus\", \"Belgium\", \"Belize\", \"Benin\", \"Bermuda\", \"Bhutan\", \"Bolivia\", \"Bosnia and Herzegovina\", \"Botswana\", \"Brazil\", \"British Virgin Islands\", \"Brunei Darussalam\", \"Bulgaria\", \"Burkina Faso\", \"Burundi\", \"Cabo Verde\", \"Cambodia\", \"Cameroon\", \"Canada\", \"Cayman Islands\", \"Central African Republic\", \"Chad\", \"Channel Islands\", \"Chile\", \"China\", \"Colombia\", \"Comoros\", \"Congo, Dem. Rep.\", \"Congo, Rep.\", \"Costa Rica\", \"Cote d'Ivoire\", \"Croatia\", \"Cuba\", \"Curacao\", \"Cyprus\", \"Czech Republic\", \"Denmark\", \"Djibouti\", \"Dominica\", \"Dominican Republic\", \"Ecuador\", \"Egypt, Arab Rep.\", \"El Salvador\", \"Equatorial Guinea\", \"Eritrea\", \"Estonia\", \"Eswatini\", \"Ethiopia\", \"Faroe Islands\", \"Fiji\", \"Finland\", \"France\", \"French Polynesia\", \"Gabon\", \"Gambia, The\", \"Georgia\", \"Germany\", \"Ghana\", \"Gibraltar\", \"Greece\", \"Greenland\", \"Grenada\", \"Guam\", \"Guatemala\", \"Guinea\", \"Guinea-Bissau\", \"Guyana\", \"Haiti\", \"Honduras\", \"Hong Kong SAR, China\", \"Hungary\", \"Iceland\", \"India\", \"Indonesia\", \"Iran, Islamic Rep.\", \"Iraq\", \"Ireland\", \"Isle of Man\", \"Israel\", \"Italy\", \"Jamaica\", \"Japan\", \"Jordan\", \"Kazakhstan\", \"Kenya\", \"Kiribati\", \"Korea, Dem. People\\u2019s Rep.\", \"Korea, Rep.\", \"Kosovo\", \"Kuwait\", \"Kyrgyz Republic\", \"Lao PDR\", \"Latvia\", \"Lebanon\", \"Lesotho\", \"Liberia\", \"Libya\", \"Liechtenstein\", \"Lithuania\", \"Luxembourg\", \"Macao SAR, China\", \"Madagascar\", \"Malawi\", \"Malaysia\", \"Maldives\", \"Mali\", \"Malta\", \"Marshall Islands\", \"Mauritania\", \"Mauritius\", \"Mexico\", \"Micronesia, Fed. Sts.\", \"Moldova\", \"Monaco\", \"Mongolia\", \"Montenegro\", \"Morocco\", \"Mozambique\", \"Myanmar\", \"Namibia\", \"Nauru\", \"Nepal\", \"Netherlands\", \"New Caledonia\", \"New Zealand\", \"Nicaragua\", \"Niger\", \"Nigeria\", \"North Macedonia\", \"Northern Mariana Islands\", \"Norway\", \"Oman\", \"Pakistan\", \"Palau\", \"Panama\", \"Papua New Guinea\", \"Paraguay\", \"Peru\", \"Philippines\", \"Poland\", \"Portugal\", \"Puerto Rico\", \"Qatar\", \"Romania\", \"Russian Federation\", \"Rwanda\", \"Samoa\", \"San Marino\", \"Sao Tome and Principe\", \"Saudi Arabia\", \"Senegal\", \"Serbia\", \"Seychelles\", \"Sierra Leone\", \"Singapore\", \"Sint Maarten (Dutch part)\", \"Slovak Republic\", \"Slovenia\", \"Solomon Islands\", \"Somalia\", \"South Africa\", \"South Sudan\", \"Spain\", \"Sri Lanka\", \"St. Kitts and Nevis\", \"St. Lucia\", \"St. Martin (French part)\", \"St. Vincent and the Grenadines\", \"Sudan\", \"Suriname\", \"Sweden\", \"Switzerland\", \"Syrian Arab Republic\", \"Tajikistan\", \"Tanzania\", \"Thailand\", \"Timor-Leste\", \"Togo\", \"Tonga\", \"Trinidad and Tobago\", \"Tunisia\", \"Turkey\", \"Turkmenistan\", \"Turks and Caicos Islands\", \"Tuvalu\", \"Uganda\", \"Ukraine\", \"United Arab Emirates\", \"United Kingdom\", \"United States\", \"Uruguay\", \"Uzbekistan\", \"Vanuatu\", \"Venezuela, RB\", \"Vietnam\", \"Virgin Islands (U.S.)\", \"West Bank and Gaza\", \"Yemen, Rep.\", \"Zambia\", \"Zimbabwe\"], \"hovertemplate\": \"<b>%{customdata}: %{z:0.2f}%</b><extra></extra>\", \"locations\": [\"AFG\", \"ALB\", \"DZA\", \"ASM\", \"AND\", \"AGO\", \"ATG\", \"ARG\", \"ARM\", \"ABW\", \"AUS\", \"AUT\", \"AZE\", \"BHS\", \"BHR\", \"BGD\", \"BRB\", \"BLR\", \"BEL\", \"BLZ\", \"BEN\", \"BMU\", \"BTN\", \"BOL\", \"BIH\", \"BWA\", \"BRA\", \"VGB\", \"BRN\", \"BGR\", \"BFA\", \"BDI\", \"CPV\", \"KHM\", \"CMR\", \"CAN\", \"CYM\", \"CAF\", \"TCD\", \"CHI\", \"CHL\", \"CHN\", \"COL\", \"COM\", \"COD\", \"COG\", \"CRI\", \"CIV\", \"HRV\", \"CUB\", \"CUW\", \"CYP\", \"CZE\", \"DNK\", \"DJI\", \"DMA\", \"DOM\", \"ECU\", \"EGY\", \"SLV\", \"GNQ\", \"ERI\", \"EST\", \"SWZ\", \"ETH\", \"FRO\", \"FJI\", \"FIN\", \"FRA\", \"PYF\", \"GAB\", \"GMB\", \"GEO\", \"DEU\", \"GHA\", \"GIB\", \"GRC\", \"GRL\", \"GRD\", \"GUM\", \"GTM\", \"GIN\", \"GNB\", \"GUY\", \"HTI\", \"HND\", \"HKG\", \"HUN\", \"ISL\", \"IND\", \"IDN\", \"IRN\", \"IRQ\", \"IRL\", \"IMN\", \"ISR\", \"ITA\", \"JAM\", \"JPN\", \"JOR\", \"KAZ\", \"KEN\", \"KIR\", \"PRK\", \"KOR\", \"XKX\", \"KWT\", \"KGZ\", \"LAO\", \"LVA\", \"LBN\", \"LSO\", \"LBR\", \"LBY\", \"LIE\", \"LTU\", \"LUX\", \"MAC\", \"MDG\", \"MWI\", \"MYS\", \"MDV\", \"MLI\", \"MLT\", \"MHL\", \"MRT\", \"MUS\", \"MEX\", \"FSM\", \"MDA\", \"MCO\", \"MNG\", \"MNE\", \"MAR\", \"MOZ\", \"MMR\", \"NAM\", \"NRU\", \"NPL\", \"NLD\", \"NCL\", \"NZL\", \"NIC\", \"NER\", \"NGA\", \"MKD\", \"MNP\", \"NOR\", \"OMN\", \"PAK\", \"PLW\", \"PAN\", \"PNG\", \"PRY\", \"PER\", \"PHL\", \"POL\", \"PRT\", \"PRI\", \"QAT\", \"ROU\", \"RUS\", \"RWA\", \"WSM\", \"SMR\", \"STP\", \"SAU\", \"SEN\", \"SRB\", \"SYC\", \"SLE\", \"SGP\", \"SXM\", \"SVK\", \"SVN\", \"SLB\", \"SOM\", \"ZAF\", \"SSD\", \"ESP\", \"LKA\", \"KNA\", \"LCA\", \"MAF\", \"VCT\", \"SDN\", \"SUR\", \"SWE\", \"CHE\", \"SYR\", \"TJK\", \"TZA\", \"THA\", \"TLS\", \"TGO\", \"TON\", \"TTO\", \"TUN\", \"TUR\", \"TKM\", \"TCA\", \"TUV\", \"UGA\", \"UKR\", \"ARE\", \"GBR\", \"USA\", \"URY\", \"UZB\", \"VUT\", \"VEN\", \"VNM\", \"VIR\", \"PSE\", \"YEM\", \"ZMB\", \"ZWE\"], \"type\": \"choropleth\", \"visible\": false, \"z\": [-1.35017833585495, 4.40251487024605, -0.615183264336011, 2.47043521275813, 1.6227466770119, -5.28777959390334, 6.4300264671072, -3.46737624314432, 4.95169918007964, 0.0, 1.3318775475184, 1.84705120008107, 0.512193852983529, 0.544150188792798, -3.11062510562859, 6.73701752220683, -0.640057735871636, 3.18981305431069, 1.0417195307113, 1.07136952894078, 3.97518359608362, 0.0, 1.82227316600887, 2.7521559420484, 4.48391430484476, 2.18307407293796, 0.32807790722056, 0.0, -0.99478850862225, 3.84031545793022, 3.81291202224394, -1.55740735383216, 3.86593584728266, 5.90774125002211, 1.37919198196641, 0.471065971004833, 0.0, 2.22474284797838, -0.415664166030837, 0.0, 2.58767649434913, 6.08224115521752, 1.02471485612077, 1.14050990405651, 2.39991066397216, -1.5492440284501, 1.61806178494115, 4.72569209854963, 3.51246071661235, 2.2585896849249, -1.96660723942433, 2.74515567885148, 2.65491943973517, 1.81793289835595, 3.82998551984062, 2.02613137595806, 5.83455956557802, -0.397089902803245, 3.19443129839827, 2.01797814423728, -9.49735268324022, 0.0, 4.48356857067742, 1.32064533880811, 4.0480702388884, 0.0, 2.82031929190161, 1.49020814289361, 1.53946311803286, 0.0, -1.75503918821659, 3.45318886171901, 4.71584540337722, 1.19576289074608, 3.95866714679696, 0.0, 2.19102952443156, 3.48701139115857, 3.63508314606946, -1.16298305304063, 1.15441380050436, 3.19829412987171, 1.24347414723864, 3.59447101901753, 0.199179706745653, 2.03037523829596, 2.18271353755111, 5.30035453797181, 1.60130798235352, 5.70911688548563, 3.98560422637033, 0.0, -2.84164269387304, 7.14204113178181, 0.0, 1.46819448325439, 0.950146897238895, 1.45452492809596, 0.992931322487863, 0.129635568275077, 2.74027217125541, 3.89615298102062, 0.513904298601034, 0.0, 2.3321730201375, 2.99194336916011, -0.741360738908625, 1.5728332119447, 4.61588222048862, 5.47369057618796, -0.342081302313773, 0.33207349060136, -1.22975996453044, 6.36824093250934, 0.0, 5.08896661508804, 1.17800011729831, 3.93160838930109, 1.81024820355464, 0.801419696455682, 3.3345011012496, 2.88973083684236, 1.79167665678075, 3.34279731108256, 2.99498220807803, 0.714678742319364, 3.71722856647342, 0.991932458168463, -0.839033793843598, 3.4966089969686, 5.30456543094968, 5.31725254619168, 5.08258777197874, 1.64863051376007, 0.458309215545086, 5.55580423750402, -2.4008197720197, 7.13107682619648, 4.90794694128547, 2.00369176009356, 0.0, 0.846632297432691, -5.01596554369522, 2.4953347016976, -0.665579080187712, 2.61717694488996, -20.0601037855457, 0.577326046474269, -1.68210182403824, 3.67671210995917, 1.14323308949167, 1.93696407326647, -2.76011441200268, 2.34999034373892, 2.20561703131051, 4.77073894578564, 5.13771369454139, 2.6259683654019, -1.04108061898415, -0.584669133443043, 4.55997844505912, 2.26178050398569, 5.77276495542314, -2.55617447750686, 0.0, 0.74150891054461, 0.607923521071328, 3.83706200836902, 4.97196452481579, 2.64314769997245, 1.25932772139537, 2.65615000756203, 0.0, 3.88513015157766, 4.06866106600938, 1.17903612266359, 0.0, -0.572080196712221, 0.0, 2.06511204193984, 2.13274609638485, 2.14672480942217, 0.339234187154531, 0.0, 1.80809329953506, -4.62984322829847, 0.92786588679337, 0.965620048897819, 1.9698872465396, 0.0, 4.69946434079498, 2.11505515987722, 3.80126980966607, 0.810281644899845, 2.3752725065104, -0.865346735208718, -0.660494390281343, 1.31525212464101, 1.30556428516834, 4.50761616187347, 3.74471268028005, 1.27085505735143, 2.27461502218904, 3.86273257167309, 0.207936371159946, 0.729787205725756, 2.29172949198735, 1.24731254757138, 3.31412256339001, 0.671832718327252, 0.0, 6.01808839754494, 0.0, -1.61856449743397, -4.96800674719682, 0.815169498674109, 4.67202925903057]}],\n",
              "                        {\"autosize\": false, \"height\": 900, \"template\": {\"data\": {\"bar\": [{\"error_x\": {\"color\": \"#2a3f5f\"}, \"error_y\": {\"color\": \"#2a3f5f\"}, \"marker\": {\"line\": {\"color\": \"#E5ECF6\", \"width\": 0.5}}, \"type\": \"bar\"}], \"barpolar\": [{\"marker\": {\"line\": {\"color\": \"#E5ECF6\", \"width\": 0.5}}, \"type\": \"barpolar\"}], \"carpet\": [{\"aaxis\": {\"endlinecolor\": \"#2a3f5f\", \"gridcolor\": \"white\", \"linecolor\": \"white\", \"minorgridcolor\": \"white\", \"startlinecolor\": \"#2a3f5f\"}, \"baxis\": {\"endlinecolor\": \"#2a3f5f\", \"gridcolor\": \"white\", \"linecolor\": \"white\", \"minorgridcolor\": \"white\", \"startlinecolor\": \"#2a3f5f\"}, \"type\": \"carpet\"}], \"choropleth\": [{\"colorbar\": {\"outlinewidth\": 0, \"ticks\": \"\"}, \"type\": \"choropleth\"}], \"contour\": [{\"colorbar\": {\"outlinewidth\": 0, \"ticks\": \"\"}, \"colorscale\": [[0.0, \"#0d0887\"], [0.1111111111111111, \"#46039f\"], [0.2222222222222222, \"#7201a8\"], [0.3333333333333333, \"#9c179e\"], [0.4444444444444444, \"#bd3786\"], [0.5555555555555556, \"#d8576b\"], [0.6666666666666666, \"#ed7953\"], [0.7777777777777778, \"#fb9f3a\"], [0.8888888888888888, \"#fdca26\"], [1.0, \"#f0f921\"]], \"type\": \"contour\"}], \"contourcarpet\": [{\"colorbar\": {\"outlinewidth\": 0, \"ticks\": \"\"}, \"type\": \"contourcarpet\"}], \"heatmap\": [{\"colorbar\": {\"outlinewidth\": 0, \"ticks\": \"\"}, \"colorscale\": [[0.0, \"#0d0887\"], [0.1111111111111111, \"#46039f\"], [0.2222222222222222, \"#7201a8\"], [0.3333333333333333, \"#9c179e\"], [0.4444444444444444, \"#bd3786\"], [0.5555555555555556, \"#d8576b\"], [0.6666666666666666, \"#ed7953\"], [0.7777777777777778, \"#fb9f3a\"], [0.8888888888888888, \"#fdca26\"], [1.0, \"#f0f921\"]], \"type\": \"heatmap\"}], \"heatmapgl\": [{\"colorbar\": {\"outlinewidth\": 0, \"ticks\": \"\"}, \"colorscale\": [[0.0, \"#0d0887\"], [0.1111111111111111, \"#46039f\"], [0.2222222222222222, \"#7201a8\"], [0.3333333333333333, \"#9c179e\"], [0.4444444444444444, \"#bd3786\"], [0.5555555555555556, \"#d8576b\"], [0.6666666666666666, \"#ed7953\"], [0.7777777777777778, \"#fb9f3a\"], [0.8888888888888888, \"#fdca26\"], [1.0, \"#f0f921\"]], \"type\": \"heatmapgl\"}], \"histogram\": [{\"marker\": {\"colorbar\": {\"outlinewidth\": 0, \"ticks\": \"\"}}, \"type\": \"histogram\"}], \"histogram2d\": [{\"colorbar\": {\"outlinewidth\": 0, \"ticks\": \"\"}, \"colorscale\": [[0.0, \"#0d0887\"], [0.1111111111111111, \"#46039f\"], [0.2222222222222222, \"#7201a8\"], [0.3333333333333333, \"#9c179e\"], [0.4444444444444444, \"#bd3786\"], [0.5555555555555556, \"#d8576b\"], [0.6666666666666666, \"#ed7953\"], [0.7777777777777778, \"#fb9f3a\"], [0.8888888888888888, \"#fdca26\"], [1.0, \"#f0f921\"]], \"type\": \"histogram2d\"}], \"histogram2dcontour\": [{\"colorbar\": {\"outlinewidth\": 0, \"ticks\": \"\"}, \"colorscale\": [[0.0, \"#0d0887\"], [0.1111111111111111, \"#46039f\"], [0.2222222222222222, \"#7201a8\"], [0.3333333333333333, \"#9c179e\"], [0.4444444444444444, \"#bd3786\"], [0.5555555555555556, \"#d8576b\"], [0.6666666666666666, \"#ed7953\"], [0.7777777777777778, \"#fb9f3a\"], [0.8888888888888888, \"#fdca26\"], [1.0, \"#f0f921\"]], \"type\": \"histogram2dcontour\"}], \"mesh3d\": [{\"colorbar\": {\"outlinewidth\": 0, \"ticks\": \"\"}, \"type\": \"mesh3d\"}], \"parcoords\": [{\"line\": {\"colorbar\": {\"outlinewidth\": 0, \"ticks\": \"\"}}, \"type\": \"parcoords\"}], \"pie\": [{\"automargin\": true, \"type\": \"pie\"}], \"scatter\": [{\"marker\": {\"colorbar\": {\"outlinewidth\": 0, \"ticks\": \"\"}}, \"type\": \"scatter\"}], \"scatter3d\": [{\"line\": {\"colorbar\": {\"outlinewidth\": 0, \"ticks\": \"\"}}, \"marker\": {\"colorbar\": {\"outlinewidth\": 0, \"ticks\": \"\"}}, \"type\": \"scatter3d\"}], \"scattercarpet\": [{\"marker\": {\"colorbar\": {\"outlinewidth\": 0, \"ticks\": \"\"}}, \"type\": \"scattercarpet\"}], \"scattergeo\": [{\"marker\": {\"colorbar\": {\"outlinewidth\": 0, \"ticks\": \"\"}}, \"type\": \"scattergeo\"}], \"scattergl\": [{\"marker\": {\"colorbar\": {\"outlinewidth\": 0, \"ticks\": \"\"}}, \"type\": \"scattergl\"}], \"scattermapbox\": [{\"marker\": {\"colorbar\": {\"outlinewidth\": 0, \"ticks\": \"\"}}, \"type\": \"scattermapbox\"}], \"scatterpolar\": [{\"marker\": {\"colorbar\": {\"outlinewidth\": 0, \"ticks\": \"\"}}, \"type\": \"scatterpolar\"}], \"scatterpolargl\": [{\"marker\": {\"colorbar\": {\"outlinewidth\": 0, \"ticks\": \"\"}}, \"type\": \"scatterpolargl\"}], \"scatterternary\": [{\"marker\": {\"colorbar\": {\"outlinewidth\": 0, \"ticks\": \"\"}}, \"type\": \"scatterternary\"}], \"surface\": [{\"colorbar\": {\"outlinewidth\": 0, \"ticks\": \"\"}, \"colorscale\": [[0.0, \"#0d0887\"], [0.1111111111111111, \"#46039f\"], [0.2222222222222222, \"#7201a8\"], [0.3333333333333333, \"#9c179e\"], [0.4444444444444444, \"#bd3786\"], [0.5555555555555556, \"#d8576b\"], [0.6666666666666666, \"#ed7953\"], [0.7777777777777778, \"#fb9f3a\"], [0.8888888888888888, \"#fdca26\"], [1.0, \"#f0f921\"]], \"type\": \"surface\"}], \"table\": [{\"cells\": {\"fill\": {\"color\": \"#EBF0F8\"}, \"line\": {\"color\": \"white\"}}, \"header\": {\"fill\": {\"color\": \"#C8D4E3\"}, \"line\": {\"color\": \"white\"}}, \"type\": \"table\"}]}, \"layout\": {\"annotationdefaults\": {\"arrowcolor\": \"#2a3f5f\", \"arrowhead\": 0, \"arrowwidth\": 1}, \"coloraxis\": {\"colorbar\": {\"outlinewidth\": 0, \"ticks\": \"\"}}, \"colorscale\": {\"diverging\": [[0, \"#8e0152\"], [0.1, \"#c51b7d\"], [0.2, \"#de77ae\"], [0.3, \"#f1b6da\"], [0.4, \"#fde0ef\"], [0.5, \"#f7f7f7\"], [0.6, \"#e6f5d0\"], [0.7, \"#b8e186\"], [0.8, \"#7fbc41\"], [0.9, \"#4d9221\"], [1, \"#276419\"]], \"sequential\": [[0.0, \"#0d0887\"], [0.1111111111111111, \"#46039f\"], [0.2222222222222222, \"#7201a8\"], [0.3333333333333333, \"#9c179e\"], [0.4444444444444444, \"#bd3786\"], [0.5555555555555556, \"#d8576b\"], [0.6666666666666666, \"#ed7953\"], [0.7777777777777778, \"#fb9f3a\"], [0.8888888888888888, \"#fdca26\"], [1.0, \"#f0f921\"]], \"sequentialminus\": [[0.0, \"#0d0887\"], [0.1111111111111111, \"#46039f\"], [0.2222222222222222, \"#7201a8\"], [0.3333333333333333, \"#9c179e\"], [0.4444444444444444, \"#bd3786\"], [0.5555555555555556, \"#d8576b\"], [0.6666666666666666, \"#ed7953\"], [0.7777777777777778, \"#fb9f3a\"], [0.8888888888888888, \"#fdca26\"], [1.0, \"#f0f921\"]]}, \"colorway\": [\"#636efa\", \"#EF553B\", \"#00cc96\", \"#ab63fa\", \"#FFA15A\", \"#19d3f3\", \"#FF6692\", \"#B6E880\", \"#FF97FF\", \"#FECB52\"], \"font\": {\"color\": \"#2a3f5f\"}, \"geo\": {\"bgcolor\": \"white\", \"lakecolor\": \"white\", \"landcolor\": \"#E5ECF6\", \"showlakes\": true, \"showland\": true, \"subunitcolor\": \"white\"}, \"hoverlabel\": {\"align\": \"left\"}, \"hovermode\": \"closest\", \"mapbox\": {\"style\": \"light\"}, \"paper_bgcolor\": \"white\", \"plot_bgcolor\": \"#E5ECF6\", \"polar\": {\"angularaxis\": {\"gridcolor\": \"white\", \"linecolor\": \"white\", \"ticks\": \"\"}, \"bgcolor\": \"#E5ECF6\", \"radialaxis\": {\"gridcolor\": \"white\", \"linecolor\": \"white\", \"ticks\": \"\"}}, \"scene\": {\"xaxis\": {\"backgroundcolor\": \"#E5ECF6\", \"gridcolor\": \"white\", \"gridwidth\": 2, \"linecolor\": \"white\", \"showbackground\": true, \"ticks\": \"\", \"zerolinecolor\": \"white\"}, \"yaxis\": {\"backgroundcolor\": \"#E5ECF6\", \"gridcolor\": \"white\", \"gridwidth\": 2, \"linecolor\": \"white\", \"showbackground\": true, \"ticks\": \"\", \"zerolinecolor\": \"white\"}, \"zaxis\": {\"backgroundcolor\": \"#E5ECF6\", \"gridcolor\": \"white\", \"gridwidth\": 2, \"linecolor\": \"white\", \"showbackground\": true, \"ticks\": \"\", \"zerolinecolor\": \"white\"}}, \"shapedefaults\": {\"line\": {\"color\": \"#2a3f5f\"}}, \"ternary\": {\"aaxis\": {\"gridcolor\": \"white\", \"linecolor\": \"white\", \"ticks\": \"\"}, \"baxis\": {\"gridcolor\": \"white\", \"linecolor\": \"white\", \"ticks\": \"\"}, \"bgcolor\": \"#E5ECF6\", \"caxis\": {\"gridcolor\": \"white\", \"linecolor\": \"white\", \"ticks\": \"\"}}, \"title\": {\"x\": 0.05}, \"xaxis\": {\"automargin\": true, \"gridcolor\": \"white\", \"linecolor\": \"white\", \"ticks\": \"\", \"title\": {\"standoff\": 15}, \"zerolinecolor\": \"white\", \"zerolinewidth\": 2}, \"yaxis\": {\"automargin\": true, \"gridcolor\": \"white\", \"linecolor\": \"white\", \"ticks\": \"\", \"title\": {\"standoff\": 15}, \"zerolinecolor\": \"white\", \"zerolinewidth\": 2}}}, \"title\": {\"text\": \"GDP per capital in 2018\", \"x\": 0.5}, \"updatemenus\": [{\"active\": 0, \"buttons\": [{\"args\": [{\"visible\": [true, false]}, {\"title\": \"GDP PER CAPITAL in 2018\"}], \"label\": \"GDP PER CAPITAL\", \"method\": \"update\"}, {\"args\": [{\"visible\": [false, true]}, {\"title\": \"GDP GROWTH PER CAPITAL in 2018\"}], \"label\": \"GDP GROWTH PER CAPITAL\", \"method\": \"update\"}], \"showactive\": true, \"type\": \"buttons\", \"x\": 1, \"xanchor\": \"right\", \"y\": 1.1, \"yanchor\": \"top\"}], \"width\": 1600},\n",
              "                        {\"responsive\": true}\n",
              "                    ).then(function(){\n",
              "                            \n",
              "var gd = document.getElementById('cb1f65bf-18a9-4038-a2c2-6ea2ec770bdb');\n",
              "var x = new MutationObserver(function (mutations, observer) {{\n",
              "        var display = window.getComputedStyle(gd).display;\n",
              "        if (!display || display === 'none') {{\n",
              "            console.log([gd, 'removed!']);\n",
              "            Plotly.purge(gd);\n",
              "            observer.disconnect();\n",
              "        }}\n",
              "}});\n",
              "\n",
              "// Listen for the removal of the full notebook cells\n",
              "var notebookContainer = gd.closest('#notebook-container');\n",
              "if (notebookContainer) {{\n",
              "    x.observe(notebookContainer, {childList: true});\n",
              "}}\n",
              "\n",
              "// Listen for the clearing of the current output cell\n",
              "var outputEl = gd.closest('.output');\n",
              "if (outputEl) {{\n",
              "    x.observe(outputEl, {childList: true});\n",
              "}}\n",
              "\n",
              "                        })\n",
              "                };\n",
              "                \n",
              "            </script>\n",
              "        </div>\n",
              "</body>\n",
              "</html>"
            ]
          },
          "metadata": {
            "tags": []
          }
        }
      ]
    }
  ]
}