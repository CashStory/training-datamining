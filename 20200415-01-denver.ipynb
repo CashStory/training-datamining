{
  "nbformat": 4,
  "nbformat_minor": 0,
  "metadata": {
    "colab": {
      "name": "DEMOGRAPHY-POPULATION_BY_REGION .ipynb",
      "provenance": [],
      "collapsed_sections": [],
      "include_colab_link": true
    },
    "kernelspec": {
      "name": "python3",
      "display_name": "Python 3"
    }
  },
  "cells": [
    {
      "cell_type": "markdown",
      "metadata": {
        "id": "view-in-github",
        "colab_type": "text"
      },
      "source": [
        "<a href=\"https://colab.research.google.com/github/fr0nde/training-datamining-mds/blob/master/20200415-01-denver.ipynb\" target=\"_parent\"><img src=\"https://colab.research.google.com/assets/colab-badge.svg\" alt=\"Open In Colab\"/></a>"
      ]
    },
    {
      "cell_type": "markdown",
      "metadata": {
        "id": "FdFpDQYa5Ge8",
        "colab_type": "text"
      },
      "source": [
        "Issue related:  https://github.com/CashStory/training-datamining-mds/issues/11\n",
        "\n"
      ]
    },
    {
      "cell_type": "markdown",
      "metadata": {
        "id": "p0ZkAdClDrqJ",
        "colab_type": "text"
      },
      "source": [
        "Step 1 : Find available data \n",
        "\n",
        "Evolution : \n",
        "https://population.un.org/wpp/Download/Files/1_Indicators%20(Standard)/EXCEL_FILES/1_Population/WPP2019_POP_F02_POPULATION_GROWTH_RATE.xlsx\n",
        "\n",
        "Evolution V2 : \n",
        "\n",
        "On l'a calcul depuis la population total N-1\n",
        "\n",
        "Densité : \n",
        "https://population.un.org/wpp/Download/Files/1_Indicators%20(Standard)/EXCEL_FILES/1_Population/WPP2019_POP_F06_POPULATION_DENSITY.xlsx\n",
        "\n",
        "Population total : \n",
        "https://population.un.org/wpp/Download/Files/1_Indicators%20(Standard)/EXCEL_FILES/1_Population/WPP2019_POP_F01_1_TOTAL_POPULATION_BOTH_SEXES.xlsx\n",
        "\n",
        "\n",
        "\n",
        "\n",
        "\n",
        "\n"
      ]
    },
    {
      "cell_type": "markdown",
      "metadata": {
        "id": "b_7UxmJ0Tuyo",
        "colab_type": "text"
      },
      "source": [
        "**Step 1 : Import Librairies**"
      ]
    },
    {
      "cell_type": "code",
      "metadata": {
        "id": "DxrfUeHENcPX",
        "colab_type": "code",
        "colab": {}
      },
      "source": [
        "import pandas as pd"
      ],
      "execution_count": 0,
      "outputs": []
    },
    {
      "cell_type": "markdown",
      "metadata": {
        "id": "M8TWthvAUSjO",
        "colab_type": "text"
      },
      "source": [
        "**Step 2 : Collect data**\n",
        "\n"
      ]
    },
    {
      "cell_type": "code",
      "metadata": {
        "id": "UofDdnm4MIuq",
        "colab_type": "code",
        "outputId": "d02bb498-f094-4e4b-c472-946de85351b8",
        "colab": {
          "base_uri": "https://localhost:8080/",
          "height": 419
        }
      },
      "source": [
        "xls = pd.read_excel('https://population.un.org/wpp/Download/Files/1_Indicators%20(Standard)/EXCEL_FILES/1_Population/WPP2019_POP_F01_1_TOTAL_POPULATION_BOTH_SEXES.xlsx',\n",
        "                    header=16,\n",
        "                    encoding=\"utf-8\",\n",
        "                    usecols=[\"Region, subregion, country or area *\", \"Country code\", \"Type\", \"2019\"])\n",
        "\n",
        "xls['2019'] = pd.to_numeric(xls['2019'], errors='coerce')\n",
        "\n",
        "xls[xls['Type'] == \"Country/Area\"]\n",
        "\n"
      ],
      "execution_count": 72,
      "outputs": [
        {
          "output_type": "execute_result",
          "data": {
            "text/html": [
              "<div>\n",
              "<style scoped>\n",
              "    .dataframe tbody tr th:only-of-type {\n",
              "        vertical-align: middle;\n",
              "    }\n",
              "\n",
              "    .dataframe tbody tr th {\n",
              "        vertical-align: top;\n",
              "    }\n",
              "\n",
              "    .dataframe thead th {\n",
              "        text-align: right;\n",
              "    }\n",
              "</style>\n",
              "<table border=\"1\" class=\"dataframe\">\n",
              "  <thead>\n",
              "    <tr style=\"text-align: right;\">\n",
              "      <th></th>\n",
              "      <th>Region, subregion, country or area *</th>\n",
              "      <th>Country code</th>\n",
              "      <th>Type</th>\n",
              "      <th>2019</th>\n",
              "    </tr>\n",
              "  </thead>\n",
              "  <tbody>\n",
              "    <tr>\n",
              "      <th>26</th>\n",
              "      <td>Burundi</td>\n",
              "      <td>108</td>\n",
              "      <td>Country/Area</td>\n",
              "      <td>11530.577</td>\n",
              "    </tr>\n",
              "    <tr>\n",
              "      <th>27</th>\n",
              "      <td>Comoros</td>\n",
              "      <td>174</td>\n",
              "      <td>Country/Area</td>\n",
              "      <td>850.891</td>\n",
              "    </tr>\n",
              "    <tr>\n",
              "      <th>28</th>\n",
              "      <td>Djibouti</td>\n",
              "      <td>262</td>\n",
              "      <td>Country/Area</td>\n",
              "      <td>973.557</td>\n",
              "    </tr>\n",
              "    <tr>\n",
              "      <th>29</th>\n",
              "      <td>Eritrea</td>\n",
              "      <td>232</td>\n",
              "      <td>Country/Area</td>\n",
              "      <td>3497.117</td>\n",
              "    </tr>\n",
              "    <tr>\n",
              "      <th>30</th>\n",
              "      <td>Ethiopia</td>\n",
              "      <td>231</td>\n",
              "      <td>Country/Area</td>\n",
              "      <td>112078.727</td>\n",
              "    </tr>\n",
              "    <tr>\n",
              "      <th>...</th>\n",
              "      <td>...</td>\n",
              "      <td>...</td>\n",
              "      <td>...</td>\n",
              "      <td>...</td>\n",
              "    </tr>\n",
              "    <tr>\n",
              "      <th>284</th>\n",
              "      <td>Bermuda</td>\n",
              "      <td>60</td>\n",
              "      <td>Country/Area</td>\n",
              "      <td>62.508</td>\n",
              "    </tr>\n",
              "    <tr>\n",
              "      <th>285</th>\n",
              "      <td>Canada</td>\n",
              "      <td>124</td>\n",
              "      <td>Country/Area</td>\n",
              "      <td>37411.038</td>\n",
              "    </tr>\n",
              "    <tr>\n",
              "      <th>286</th>\n",
              "      <td>Greenland</td>\n",
              "      <td>304</td>\n",
              "      <td>Country/Area</td>\n",
              "      <td>56.660</td>\n",
              "    </tr>\n",
              "    <tr>\n",
              "      <th>287</th>\n",
              "      <td>Saint Pierre and Miquelon</td>\n",
              "      <td>666</td>\n",
              "      <td>Country/Area</td>\n",
              "      <td>5.821</td>\n",
              "    </tr>\n",
              "    <tr>\n",
              "      <th>288</th>\n",
              "      <td>United States of America</td>\n",
              "      <td>840</td>\n",
              "      <td>Country/Area</td>\n",
              "      <td>329064.917</td>\n",
              "    </tr>\n",
              "  </tbody>\n",
              "</table>\n",
              "<p>235 rows × 4 columns</p>\n",
              "</div>"
            ],
            "text/plain": [
              "    Region, subregion, country or area *  ...        2019\n",
              "26                               Burundi  ...   11530.577\n",
              "27                               Comoros  ...     850.891\n",
              "28                              Djibouti  ...     973.557\n",
              "29                               Eritrea  ...    3497.117\n",
              "30                              Ethiopia  ...  112078.727\n",
              "..                                   ...  ...         ...\n",
              "284                              Bermuda  ...      62.508\n",
              "285                               Canada  ...   37411.038\n",
              "286                            Greenland  ...      56.660\n",
              "287            Saint Pierre and Miquelon  ...       5.821\n",
              "288             United States of America  ...  329064.917\n",
              "\n",
              "[235 rows x 4 columns]"
            ]
          },
          "metadata": {
            "tags": []
          },
          "execution_count": 72
        }
      ]
    },
    {
      "cell_type": "markdown",
      "metadata": {
        "id": "gAZfP1AVH0az",
        "colab_type": "text"
      },
      "source": [
        "**Résultat final des données** : \n",
        "\n",
        "Tableau par pays avec son continent, son evolution, sa densité, sa population"
      ]
    },
    {
      "cell_type": "markdown",
      "metadata": {
        "id": "-r7zJ7BxIpEB",
        "colab_type": "text"
      },
      "source": [
        "API pour associée les pays à leurs continents:\n",
        "\n",
        "https://restcountries.eu/rest/v2/all?fields=name;numericCode\n",
        "\n",
        "On part du `Country code` du fichier XLSX et on l'associe au `numericCode`\n",
        "\n",
        "*!* Supprimer les 0 avant dans l'api restcountries"
      ]
    },
    {
      "cell_type": "code",
      "metadata": {
        "id": "kiAmKBvMRJLq",
        "colab_type": "code",
        "outputId": "fc30e084-fbd8-43a8-8e4a-d2e41d2d1ae6",
        "colab": {
          "base_uri": "https://localhost:8080/",
          "height": 419
        }
      },
      "source": [
        "countries = pd.read_json('https://restcountries.eu/rest/v2/all?fields=region;numericCode')\n",
        "countries"
      ],
      "execution_count": 73,
      "outputs": [
        {
          "output_type": "execute_result",
          "data": {
            "text/html": [
              "<div>\n",
              "<style scoped>\n",
              "    .dataframe tbody tr th:only-of-type {\n",
              "        vertical-align: middle;\n",
              "    }\n",
              "\n",
              "    .dataframe tbody tr th {\n",
              "        vertical-align: top;\n",
              "    }\n",
              "\n",
              "    .dataframe thead th {\n",
              "        text-align: right;\n",
              "    }\n",
              "</style>\n",
              "<table border=\"1\" class=\"dataframe\">\n",
              "  <thead>\n",
              "    <tr style=\"text-align: right;\">\n",
              "      <th></th>\n",
              "      <th>region</th>\n",
              "      <th>numericCode</th>\n",
              "    </tr>\n",
              "  </thead>\n",
              "  <tbody>\n",
              "    <tr>\n",
              "      <th>0</th>\n",
              "      <td>Asia</td>\n",
              "      <td>4.0</td>\n",
              "    </tr>\n",
              "    <tr>\n",
              "      <th>1</th>\n",
              "      <td>Europe</td>\n",
              "      <td>248.0</td>\n",
              "    </tr>\n",
              "    <tr>\n",
              "      <th>2</th>\n",
              "      <td>Europe</td>\n",
              "      <td>8.0</td>\n",
              "    </tr>\n",
              "    <tr>\n",
              "      <th>3</th>\n",
              "      <td>Africa</td>\n",
              "      <td>12.0</td>\n",
              "    </tr>\n",
              "    <tr>\n",
              "      <th>4</th>\n",
              "      <td>Oceania</td>\n",
              "      <td>16.0</td>\n",
              "    </tr>\n",
              "    <tr>\n",
              "      <th>...</th>\n",
              "      <td>...</td>\n",
              "      <td>...</td>\n",
              "    </tr>\n",
              "    <tr>\n",
              "      <th>245</th>\n",
              "      <td>Oceania</td>\n",
              "      <td>876.0</td>\n",
              "    </tr>\n",
              "    <tr>\n",
              "      <th>246</th>\n",
              "      <td>Africa</td>\n",
              "      <td>732.0</td>\n",
              "    </tr>\n",
              "    <tr>\n",
              "      <th>247</th>\n",
              "      <td>Asia</td>\n",
              "      <td>887.0</td>\n",
              "    </tr>\n",
              "    <tr>\n",
              "      <th>248</th>\n",
              "      <td>Africa</td>\n",
              "      <td>894.0</td>\n",
              "    </tr>\n",
              "    <tr>\n",
              "      <th>249</th>\n",
              "      <td>Africa</td>\n",
              "      <td>716.0</td>\n",
              "    </tr>\n",
              "  </tbody>\n",
              "</table>\n",
              "<p>250 rows × 2 columns</p>\n",
              "</div>"
            ],
            "text/plain": [
              "      region  numericCode\n",
              "0       Asia          4.0\n",
              "1     Europe        248.0\n",
              "2     Europe          8.0\n",
              "3     Africa         12.0\n",
              "4    Oceania         16.0\n",
              "..       ...          ...\n",
              "245  Oceania        876.0\n",
              "246   Africa        732.0\n",
              "247     Asia        887.0\n",
              "248   Africa        894.0\n",
              "249   Africa        716.0\n",
              "\n",
              "[250 rows x 2 columns]"
            ]
          },
          "metadata": {
            "tags": []
          },
          "execution_count": 73
        }
      ]
    }
  ]
}