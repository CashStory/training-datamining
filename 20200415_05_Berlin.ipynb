{
  "nbformat": 4,
  "nbformat_minor": 0,
  "metadata": {
    "colab": {
      "name": "20200415-05-Berlin",
      "provenance": [],
      "collapsed_sections": [],
      "include_colab_link": true
    },
    "kernelspec": {
      "name": "python3",
      "display_name": "Python 3"
    }
  },
  "cells": [
    {
      "cell_type": "markdown",
      "metadata": {
        "id": "view-in-github",
        "colab_type": "text"
      },
      "source": [
        "<a href=\"https://colab.research.google.com/github/clemvnt/training-datamining-mds/blob/master/20200415_05_Berlin.ipynb\" target=\"_parent\"><img src=\"https://colab.research.google.com/assets/colab-badge.svg\" alt=\"Open In Colab\"/></a>"
      ]
    },
    {
      "cell_type": "markdown",
      "metadata": {
        "id": "GAqP42SS4yPD",
        "colab_type": "text"
      },
      "source": [
        "**Goal**\n",
        "\n",
        "Top 10 richest regions & countries in GDP per capita (wealth created per habitant) and in GDP current (total wealth created by the country)\n",
        "\n",
        "**Data**\n",
        "\n",
        "GDP CURRENT & GDP PER CAPITA by countries, agregated by region\n",
        "\n",
        "**Sources**\n",
        "\n",
        "* World Bank national accounts data\n",
        "* OECD National Accounts data files \n",
        "\n",
        "**Notes**\n",
        "\n",
        "The top 10 for GDP current is including the G8, should the European Union be included in this ranking, it would come up 2nd biggest economy after the USA. \n",
        "\n",
        "In the top 10 for GDP per capita, the ranking include smaller countries, only the USA remains in this ranking from the GDP current ranking."
      ]
    },
    {
      "cell_type": "markdown",
      "metadata": {
        "id": "AU6Q5S9jTKGd",
        "colab_type": "text"
      },
      "source": [
        "**Step 1 : Import dependencies**"
      ]
    },
    {
      "cell_type": "code",
      "metadata": {
        "id": "7hqFGyx_377x",
        "colab_type": "code",
        "colab": {}
      },
      "source": [
        "import pandas as pd\n",
        "from pandas_datareader import wb\n",
        "import plotly.graph_objects as go\n",
        "\n",
        "pd.options.display.float_format = '{:.0f}'.format"
      ],
      "execution_count": 0,
      "outputs": []
    },
    {
      "cell_type": "markdown",
      "metadata": {
        "id": "yeUkoHbGTNVy",
        "colab_type": "text"
      },
      "source": [
        "**Step 2 : Get the association between the country and the region**\n",
        "\n"
      ]
    },
    {
      "cell_type": "code",
      "metadata": {
        "id": "NrJlRC2cREYP",
        "colab_type": "code",
        "outputId": "069bc46e-08b2-45c7-e2db-0421f2b74c0b",
        "colab": {
          "base_uri": "https://localhost:8080/",
          "height": 419
        }
      },
      "source": [
        "countries = wb.get_countries()\n",
        "countries = countries[['name', 'region']]\n",
        "countries"
      ],
      "execution_count": 0,
      "outputs": [
        {
          "output_type": "execute_result",
          "data": {
            "text/html": [
              "<div>\n",
              "<style scoped>\n",
              "    .dataframe tbody tr th:only-of-type {\n",
              "        vertical-align: middle;\n",
              "    }\n",
              "\n",
              "    .dataframe tbody tr th {\n",
              "        vertical-align: top;\n",
              "    }\n",
              "\n",
              "    .dataframe thead th {\n",
              "        text-align: right;\n",
              "    }\n",
              "</style>\n",
              "<table border=\"1\" class=\"dataframe\">\n",
              "  <thead>\n",
              "    <tr style=\"text-align: right;\">\n",
              "      <th></th>\n",
              "      <th>name</th>\n",
              "      <th>region</th>\n",
              "    </tr>\n",
              "  </thead>\n",
              "  <tbody>\n",
              "    <tr>\n",
              "      <th>0</th>\n",
              "      <td>Aruba</td>\n",
              "      <td>Latin America &amp; Caribbean</td>\n",
              "    </tr>\n",
              "    <tr>\n",
              "      <th>1</th>\n",
              "      <td>Afghanistan</td>\n",
              "      <td>South Asia</td>\n",
              "    </tr>\n",
              "    <tr>\n",
              "      <th>2</th>\n",
              "      <td>Africa</td>\n",
              "      <td>Aggregates</td>\n",
              "    </tr>\n",
              "    <tr>\n",
              "      <th>3</th>\n",
              "      <td>Angola</td>\n",
              "      <td>Sub-Saharan Africa</td>\n",
              "    </tr>\n",
              "    <tr>\n",
              "      <th>4</th>\n",
              "      <td>Albania</td>\n",
              "      <td>Europe &amp; Central Asia</td>\n",
              "    </tr>\n",
              "    <tr>\n",
              "      <th>...</th>\n",
              "      <td>...</td>\n",
              "      <td>...</td>\n",
              "    </tr>\n",
              "    <tr>\n",
              "      <th>299</th>\n",
              "      <td>Sub-Saharan Africa excluding South Africa and ...</td>\n",
              "      <td>Aggregates</td>\n",
              "    </tr>\n",
              "    <tr>\n",
              "      <th>300</th>\n",
              "      <td>Yemen, Rep.</td>\n",
              "      <td>Middle East &amp; North Africa</td>\n",
              "    </tr>\n",
              "    <tr>\n",
              "      <th>301</th>\n",
              "      <td>South Africa</td>\n",
              "      <td>Sub-Saharan Africa</td>\n",
              "    </tr>\n",
              "    <tr>\n",
              "      <th>302</th>\n",
              "      <td>Zambia</td>\n",
              "      <td>Sub-Saharan Africa</td>\n",
              "    </tr>\n",
              "    <tr>\n",
              "      <th>303</th>\n",
              "      <td>Zimbabwe</td>\n",
              "      <td>Sub-Saharan Africa</td>\n",
              "    </tr>\n",
              "  </tbody>\n",
              "</table>\n",
              "<p>304 rows × 2 columns</p>\n",
              "</div>"
            ],
            "text/plain": [
              "                                                  name                      region\n",
              "0                                                Aruba  Latin America & Caribbean \n",
              "1                                          Afghanistan                  South Asia\n",
              "2                                               Africa                  Aggregates\n",
              "3                                               Angola         Sub-Saharan Africa \n",
              "4                                              Albania       Europe & Central Asia\n",
              "..                                                 ...                         ...\n",
              "299  Sub-Saharan Africa excluding South Africa and ...                  Aggregates\n",
              "300                                        Yemen, Rep.  Middle East & North Africa\n",
              "301                                       South Africa         Sub-Saharan Africa \n",
              "302                                             Zambia         Sub-Saharan Africa \n",
              "303                                           Zimbabwe         Sub-Saharan Africa \n",
              "\n",
              "[304 rows x 2 columns]"
            ]
          },
          "metadata": {
            "tags": []
          },
          "execution_count": 401
        }
      ]
    },
    {
      "cell_type": "markdown",
      "metadata": {
        "id": "RAUtg6PuTTGn",
        "colab_type": "text"
      },
      "source": [
        "**Step 3 : Get indicators**\n"
      ]
    },
    {
      "cell_type": "code",
      "metadata": {
        "id": "TdXvSnfB4IMc",
        "colab_type": "code",
        "outputId": "c371bf16-aa38-4999-ae62-72a685a50dbe",
        "colab": {
          "base_uri": "https://localhost:8080/",
          "height": 419
        }
      },
      "source": [
        "indicators = wb.download(indicator=['NY.GDP.PCAP.CD', 'NY.GDP.MKTP.CD'], country='all', start=2018, end=2018)\n",
        "indicators = indicators.reset_index()\n",
        "indicators = indicators[['country', 'NY.GDP.PCAP.CD', 'NY.GDP.MKTP.CD']]\n",
        "indicators.columns = ['country', 'gdp_per_capita', 'current_gdp']\n",
        "indicators"
      ],
      "execution_count": 0,
      "outputs": [
        {
          "output_type": "execute_result",
          "data": {
            "text/html": [
              "<div>\n",
              "<style scoped>\n",
              "    .dataframe tbody tr th:only-of-type {\n",
              "        vertical-align: middle;\n",
              "    }\n",
              "\n",
              "    .dataframe tbody tr th {\n",
              "        vertical-align: top;\n",
              "    }\n",
              "\n",
              "    .dataframe thead th {\n",
              "        text-align: right;\n",
              "    }\n",
              "</style>\n",
              "<table border=\"1\" class=\"dataframe\">\n",
              "  <thead>\n",
              "    <tr style=\"text-align: right;\">\n",
              "      <th></th>\n",
              "      <th>country</th>\n",
              "      <th>gdp_per_capita</th>\n",
              "      <th>current_gdp</th>\n",
              "    </tr>\n",
              "  </thead>\n",
              "  <tbody>\n",
              "    <tr>\n",
              "      <th>0</th>\n",
              "      <td>Arab World</td>\n",
              "      <td>6609</td>\n",
              "      <td>2774314967156</td>\n",
              "    </tr>\n",
              "    <tr>\n",
              "      <th>1</th>\n",
              "      <td>Caribbean small states</td>\n",
              "      <td>9991</td>\n",
              "      <td>73523538155</td>\n",
              "    </tr>\n",
              "    <tr>\n",
              "      <th>2</th>\n",
              "      <td>Central Europe and the Baltics</td>\n",
              "      <td>15929</td>\n",
              "      <td>1632912822080</td>\n",
              "    </tr>\n",
              "    <tr>\n",
              "      <th>3</th>\n",
              "      <td>Early-demographic dividend</td>\n",
              "      <td>3582</td>\n",
              "      <td>11638859227437</td>\n",
              "    </tr>\n",
              "    <tr>\n",
              "      <th>4</th>\n",
              "      <td>East Asia &amp; Pacific</td>\n",
              "      <td>11143</td>\n",
              "      <td>25942413437360</td>\n",
              "    </tr>\n",
              "    <tr>\n",
              "      <th>...</th>\n",
              "      <td>...</td>\n",
              "      <td>...</td>\n",
              "      <td>...</td>\n",
              "    </tr>\n",
              "    <tr>\n",
              "      <th>259</th>\n",
              "      <td>Virgin Islands (U.S.)</td>\n",
              "      <td>nan</td>\n",
              "      <td>nan</td>\n",
              "    </tr>\n",
              "    <tr>\n",
              "      <th>260</th>\n",
              "      <td>West Bank and Gaza</td>\n",
              "      <td>3199</td>\n",
              "      <td>14615900000</td>\n",
              "    </tr>\n",
              "    <tr>\n",
              "      <th>261</th>\n",
              "      <td>Yemen, Rep.</td>\n",
              "      <td>944</td>\n",
              "      <td>26914402224</td>\n",
              "    </tr>\n",
              "    <tr>\n",
              "      <th>262</th>\n",
              "      <td>Zambia</td>\n",
              "      <td>1540</td>\n",
              "      <td>26720073436</td>\n",
              "    </tr>\n",
              "    <tr>\n",
              "      <th>263</th>\n",
              "      <td>Zimbabwe</td>\n",
              "      <td>2147</td>\n",
              "      <td>31000519447</td>\n",
              "    </tr>\n",
              "  </tbody>\n",
              "</table>\n",
              "<p>264 rows × 3 columns</p>\n",
              "</div>"
            ],
            "text/plain": [
              "                            country  gdp_per_capita    current_gdp\n",
              "0                        Arab World            6609  2774314967156\n",
              "1            Caribbean small states            9991    73523538155\n",
              "2    Central Europe and the Baltics           15929  1632912822080\n",
              "3        Early-demographic dividend            3582 11638859227437\n",
              "4               East Asia & Pacific           11143 25942413437360\n",
              "..                              ...             ...            ...\n",
              "259           Virgin Islands (U.S.)             nan            nan\n",
              "260              West Bank and Gaza            3199    14615900000\n",
              "261                     Yemen, Rep.             944    26914402224\n",
              "262                          Zambia            1540    26720073436\n",
              "263                        Zimbabwe            2147    31000519447\n",
              "\n",
              "[264 rows x 3 columns]"
            ]
          },
          "metadata": {
            "tags": []
          },
          "execution_count": 402
        }
      ]
    },
    {
      "cell_type": "markdown",
      "metadata": {
        "id": "QC222rrLUlXV",
        "colab_type": "text"
      },
      "source": [
        "**Step 4 : Format a master table**\n",
        "\n",
        "1. Associate countries with regions\n",
        "1. Clean up the data\n",
        "1. Group rows by columns "
      ]
    },
    {
      "cell_type": "code",
      "metadata": {
        "colab_type": "code",
        "outputId": "a1d32047-71f4-4c4e-9fb0-4bf8b7705b9b",
        "id": "CFTaHs5JQlu_",
        "colab": {
          "base_uri": "https://localhost:8080/",
          "height": 450
        }
      },
      "source": [
        "master_table = pd.merge(indicators, countries, left_on='country', right_on='name')\n",
        "\n",
        "master_table = master_table[master_table['region'] != 'Aggregates']\n",
        "master_table = master_table[(master_table['gdp_per_capita'] > 0) | (master_table['current_gdp'] > 0)]\n",
        "master_table = master_table.fillna(0)\n",
        "\n",
        "master_table = pd.melt(master_table, id_vars=['region', 'country'], value_vars=['gdp_per_capita', 'current_gdp'], var_name='indicator', value_name='value')\n",
        "master_table = master_table.set_index(['region', 'country', 'indicator'])\n",
        "master_table = master_table.sort_index()\n",
        "\n",
        "master_table"
      ],
      "execution_count": 0,
      "outputs": [
        {
          "output_type": "execute_result",
          "data": {
            "text/html": [
              "<div>\n",
              "<style scoped>\n",
              "    .dataframe tbody tr th:only-of-type {\n",
              "        vertical-align: middle;\n",
              "    }\n",
              "\n",
              "    .dataframe tbody tr th {\n",
              "        vertical-align: top;\n",
              "    }\n",
              "\n",
              "    .dataframe thead th {\n",
              "        text-align: right;\n",
              "    }\n",
              "</style>\n",
              "<table border=\"1\" class=\"dataframe\">\n",
              "  <thead>\n",
              "    <tr style=\"text-align: right;\">\n",
              "      <th></th>\n",
              "      <th></th>\n",
              "      <th></th>\n",
              "      <th>value</th>\n",
              "    </tr>\n",
              "    <tr>\n",
              "      <th>region</th>\n",
              "      <th>country</th>\n",
              "      <th>indicator</th>\n",
              "      <th></th>\n",
              "    </tr>\n",
              "  </thead>\n",
              "  <tbody>\n",
              "    <tr>\n",
              "      <th rowspan=\"5\" valign=\"top\">East Asia &amp; Pacific</th>\n",
              "      <th rowspan=\"2\" valign=\"top\">American Samoa</th>\n",
              "      <th>current_gdp</th>\n",
              "      <td>636000000</td>\n",
              "    </tr>\n",
              "    <tr>\n",
              "      <th>gdp_per_capita</th>\n",
              "      <td>11467</td>\n",
              "    </tr>\n",
              "    <tr>\n",
              "      <th rowspan=\"2\" valign=\"top\">Australia</th>\n",
              "      <th>current_gdp</th>\n",
              "      <td>1433904348500</td>\n",
              "    </tr>\n",
              "    <tr>\n",
              "      <th>gdp_per_capita</th>\n",
              "      <td>57374</td>\n",
              "    </tr>\n",
              "    <tr>\n",
              "      <th>Brunei Darussalam</th>\n",
              "      <th>current_gdp</th>\n",
              "      <td>13567351175</td>\n",
              "    </tr>\n",
              "    <tr>\n",
              "      <th>...</th>\n",
              "      <th>...</th>\n",
              "      <th>...</th>\n",
              "      <td>...</td>\n",
              "    </tr>\n",
              "    <tr>\n",
              "      <th rowspan=\"5\" valign=\"top\">Sub-Saharan Africa</th>\n",
              "      <th>Uganda</th>\n",
              "      <th>gdp_per_capita</th>\n",
              "      <td>643</td>\n",
              "    </tr>\n",
              "    <tr>\n",
              "      <th rowspan=\"2\" valign=\"top\">Zambia</th>\n",
              "      <th>current_gdp</th>\n",
              "      <td>26720073436</td>\n",
              "    </tr>\n",
              "    <tr>\n",
              "      <th>gdp_per_capita</th>\n",
              "      <td>1540</td>\n",
              "    </tr>\n",
              "    <tr>\n",
              "      <th rowspan=\"2\" valign=\"top\">Zimbabwe</th>\n",
              "      <th>current_gdp</th>\n",
              "      <td>31000519447</td>\n",
              "    </tr>\n",
              "    <tr>\n",
              "      <th>gdp_per_capita</th>\n",
              "      <td>2147</td>\n",
              "    </tr>\n",
              "  </tbody>\n",
              "</table>\n",
              "<p>390 rows × 1 columns</p>\n",
              "</div>"
            ],
            "text/plain": [
              "                                                             value\n",
              "region              country           indicator                   \n",
              "East Asia & Pacific American Samoa    current_gdp        636000000\n",
              "                                      gdp_per_capita         11467\n",
              "                    Australia         current_gdp    1433904348500\n",
              "                                      gdp_per_capita         57374\n",
              "                    Brunei Darussalam current_gdp      13567351175\n",
              "...                                                            ...\n",
              "Sub-Saharan Africa  Uganda            gdp_per_capita           643\n",
              "                    Zambia            current_gdp      26720073436\n",
              "                                      gdp_per_capita          1540\n",
              "                    Zimbabwe          current_gdp      31000519447\n",
              "                                      gdp_per_capita          2147\n",
              "\n",
              "[390 rows x 1 columns]"
            ]
          },
          "metadata": {
            "tags": []
          },
          "execution_count": 398
        }
      ]
    },
    {
      "cell_type": "markdown",
      "metadata": {
        "id": "CBCd2nU9T0nn",
        "colab_type": "text"
      },
      "source": [
        "**Step 4 : Visualize data with a chart**"
      ]
    },
    {
      "cell_type": "code",
      "metadata": {
        "id": "Pmuhz88cTyya",
        "colab_type": "code",
        "outputId": "fc0cf900-78dd-4544-faec-1c172a0608c3",
        "colab": {
          "base_uri": "https://localhost:8080/",
          "height": 542
        }
      },
      "source": [
        "table = master_table.reset_index()\n",
        "gdp_per_capita_per_region = table[table['indicator'] == 'gdp_per_capita'][['region', 'value']].groupby('region').mean().sort_values('value', ascending=False)\n",
        "current_gdp_per_region = table[table['indicator'] == 'current_gdp'][['region', 'value']].groupby('region').mean().sort_values('value', ascending=False)\n",
        "gdp_per_capita_per_country = table[table['indicator'] == 'gdp_per_capita'][['country', 'value']].sort_values('value', ascending=False).head(10)\n",
        "current_gdp_per_country = table[table['indicator'] == 'current_gdp'][['country', 'value']].sort_values('value', ascending=False).head(10)\n",
        "\n",
        "data = [\n",
        "  go.Bar(x=gdp_per_capita_per_region.index, y=gdp_per_capita_per_region['value'], text=gdp_per_capita_per_region['value'], textposition='outside'),\n",
        "  go.Bar(x=current_gdp_per_region.index, y=current_gdp_per_region['value'], text=current_gdp_per_region['value'], textposition='outside', visible=False),\n",
        "  go.Bar(x=gdp_per_capita_per_country['country'], y=gdp_per_capita_per_country['value'], text=gdp_per_capita_per_country['value'], textposition='outside', visible=False),\n",
        "  go.Bar(x=current_gdp_per_country['country'], y=current_gdp_per_country['value'], text=current_gdp_per_country['value'], textposition='outside', visible=False),\n",
        "]\n",
        "\n",
        "layout = go.Layout(\n",
        "  title='Top 10 richest regions & countries',\n",
        "  margin = dict(t = 60, b = 150),\n",
        "  updatemenus=list([\n",
        "    dict(showactive=True, type=\"buttons\", active=0, buttons=[\n",
        "      {'label': 'GDP / Capita per region', 'method': 'update', 'args': [{'visible': [True, False, False, False]}]},\n",
        "      {'label': 'Current GDP per region', 'method': 'update', 'args': [{'visible': [False, True, False, False]}]},\n",
        "      {'label': 'GDP / Capita per country', 'method': 'update', 'args': [{'visible': [False, False, True, False]}]},\n",
        "      {'label': 'Current GDP per country', 'method': 'update', 'args': [{'visible': [False, False, False, True]}]}\n",
        "    ])\n",
        "  ]),\n",
        "  annotations=[dict(\n",
        "    text = 'Source : The World Bank',\n",
        "    showarrow = False,\n",
        "    xref = 'paper', x = 1,\n",
        "    yref = 'paper', y = -0.4)]\n",
        ")\n",
        "\n",
        "go.Figure(data, layout)"
      ],
      "execution_count": 0,
      "outputs": [
        {
          "output_type": "display_data",
          "data": {
            "text/html": [
              "<html>\n",
              "<head><meta charset=\"utf-8\" /></head>\n",
              "<body>\n",
              "    <div>\n",
              "            <script src=\"https://cdnjs.cloudflare.com/ajax/libs/mathjax/2.7.5/MathJax.js?config=TeX-AMS-MML_SVG\"></script><script type=\"text/javascript\">if (window.MathJax) {MathJax.Hub.Config({SVG: {font: \"STIX-Web\"}});}</script>\n",
              "                <script type=\"text/javascript\">window.PlotlyConfig = {MathJaxConfig: 'local'};</script>\n",
              "        <script src=\"https://cdn.plot.ly/plotly-latest.min.js\"></script>    \n",
              "            <div id=\"327dce4a-60ec-40ff-9708-71973013e4b2\" class=\"plotly-graph-div\" style=\"height:525px; width:100%;\"></div>\n",
              "            <script type=\"text/javascript\">\n",
              "                \n",
              "                    window.PLOTLYENV=window.PLOTLYENV || {};\n",
              "                    \n",
              "                if (document.getElementById(\"327dce4a-60ec-40ff-9708-71973013e4b2\")) {\n",
              "                    Plotly.newPlot(\n",
              "                        '327dce4a-60ec-40ff-9708-71973013e4b2',\n",
              "                        [{\"text\": [54513.78763746825, 30400.9701091294, 17239.90297092077, 17154.638014705863, 11161.586900581731, 3052.7227306922655, 2506.607704155685], \"textposition\": \"outside\", \"type\": \"bar\", \"x\": [\"North America\", \"Europe & Central Asia\", \"Middle East & North Africa\", \"East Asia & Pacific\", \"Latin America & Caribbean \", \"South Asia\", \"Sub-Saharan Africa \"], \"y\": [54513.78763746825, 30400.9701091294, 17239.90297092077, 17154.638014705863, 11161.586900581731, 3052.7227306922655, 2506.607704155685]}, {\"text\": [11128842580906.756, 743711931256.1847, 451669393589.3546, 431552958924.7463, 159645614257.90128, 152860912453.4536, 36891254236.46522], \"textposition\": \"outside\", \"type\": \"bar\", \"visible\": false, \"x\": [\"North America\", \"East Asia & Pacific\", \"Europe & Central Asia\", \"South Asia\", \"Middle East & North Africa\", \"Latin America & Caribbean \", \"Sub-Saharan Africa \"], \"y\": [11128842580906.756, 743711931256.1847, 451669393589.3546, 431552958924.7463, 159645614257.90128, 152860912453.4536, 36891254236.46522]}, {\"text\": [185741.279991587, 116639.88804711, 87208.535912643, 82796.5471631285, 81697.2459836768, 78806.431996268, 73191.1163154337, 68793.7844372614, 64581.9440183954, 62794.5856522398], \"textposition\": \"outside\", \"type\": \"bar\", \"visible\": false, \"x\": [\"Monaco\", \"Luxembourg\", \"Macao SAR, China\", \"Switzerland\", \"Norway\", \"Ireland\", \"Iceland\", \"Qatar\", \"Singapore\", \"United States\"], \"y\": [185741.279991587, 116639.88804711, 87208.535912643, 82796.5471631285, 81697.2459836768, 78806.431996268, 73191.1163154337, 68793.7844372614, 64581.9440183954, 62794.5856522398]}, {\"text\": [20544343456936.5, 13608151864637.9, 4971323079771.87, 3947620162502.96, 2855296731521.96, 2777535239277.98, 2718732231257.57, 2083864259622.65, 1868626087908.48, 1713341704877.01], \"textposition\": \"outside\", \"type\": \"bar\", \"visible\": false, \"x\": [\"United States\", \"China\", \"Japan\", \"Germany\", \"United Kingdom\", \"France\", \"India\", \"Italy\", \"Brazil\", \"Canada\"], \"y\": [20544343456936.5, 13608151864637.9, 4971323079771.87, 3947620162502.96, 2855296731521.96, 2777535239277.98, 2718732231257.57, 2083864259622.65, 1868626087908.48, 1713341704877.01]}],\n",
              "                        {\"annotations\": [{\"showarrow\": false, \"text\": \"Source : The World Bank\", \"x\": 1, \"xref\": \"paper\", \"y\": -0.4, \"yref\": \"paper\"}], \"margin\": {\"b\": 150, \"t\": 60}, \"template\": {\"data\": {\"bar\": [{\"error_x\": {\"color\": \"#2a3f5f\"}, \"error_y\": {\"color\": \"#2a3f5f\"}, \"marker\": {\"line\": {\"color\": \"#E5ECF6\", \"width\": 0.5}}, \"type\": \"bar\"}], \"barpolar\": [{\"marker\": {\"line\": {\"color\": \"#E5ECF6\", \"width\": 0.5}}, \"type\": \"barpolar\"}], \"carpet\": [{\"aaxis\": {\"endlinecolor\": \"#2a3f5f\", \"gridcolor\": \"white\", \"linecolor\": \"white\", \"minorgridcolor\": \"white\", \"startlinecolor\": \"#2a3f5f\"}, \"baxis\": {\"endlinecolor\": \"#2a3f5f\", \"gridcolor\": \"white\", \"linecolor\": \"white\", \"minorgridcolor\": \"white\", \"startlinecolor\": \"#2a3f5f\"}, \"type\": \"carpet\"}], \"choropleth\": [{\"colorbar\": {\"outlinewidth\": 0, \"ticks\": \"\"}, \"type\": \"choropleth\"}], \"contour\": [{\"colorbar\": {\"outlinewidth\": 0, \"ticks\": \"\"}, \"colorscale\": [[0.0, \"#0d0887\"], [0.1111111111111111, \"#46039f\"], [0.2222222222222222, \"#7201a8\"], [0.3333333333333333, \"#9c179e\"], [0.4444444444444444, \"#bd3786\"], [0.5555555555555556, \"#d8576b\"], [0.6666666666666666, \"#ed7953\"], [0.7777777777777778, \"#fb9f3a\"], [0.8888888888888888, \"#fdca26\"], [1.0, \"#f0f921\"]], \"type\": \"contour\"}], \"contourcarpet\": [{\"colorbar\": {\"outlinewidth\": 0, \"ticks\": \"\"}, \"type\": \"contourcarpet\"}], \"heatmap\": [{\"colorbar\": {\"outlinewidth\": 0, \"ticks\": \"\"}, \"colorscale\": [[0.0, \"#0d0887\"], [0.1111111111111111, \"#46039f\"], [0.2222222222222222, \"#7201a8\"], [0.3333333333333333, \"#9c179e\"], [0.4444444444444444, \"#bd3786\"], [0.5555555555555556, \"#d8576b\"], [0.6666666666666666, \"#ed7953\"], [0.7777777777777778, \"#fb9f3a\"], [0.8888888888888888, \"#fdca26\"], [1.0, \"#f0f921\"]], \"type\": \"heatmap\"}], \"heatmapgl\": [{\"colorbar\": {\"outlinewidth\": 0, \"ticks\": \"\"}, \"colorscale\": [[0.0, \"#0d0887\"], [0.1111111111111111, \"#46039f\"], [0.2222222222222222, \"#7201a8\"], [0.3333333333333333, \"#9c179e\"], [0.4444444444444444, \"#bd3786\"], [0.5555555555555556, \"#d8576b\"], [0.6666666666666666, \"#ed7953\"], [0.7777777777777778, \"#fb9f3a\"], [0.8888888888888888, \"#fdca26\"], [1.0, \"#f0f921\"]], \"type\": \"heatmapgl\"}], \"histogram\": [{\"marker\": {\"colorbar\": {\"outlinewidth\": 0, \"ticks\": \"\"}}, \"type\": \"histogram\"}], \"histogram2d\": [{\"colorbar\": {\"outlinewidth\": 0, \"ticks\": \"\"}, \"colorscale\": [[0.0, \"#0d0887\"], [0.1111111111111111, \"#46039f\"], [0.2222222222222222, \"#7201a8\"], [0.3333333333333333, \"#9c179e\"], [0.4444444444444444, \"#bd3786\"], [0.5555555555555556, \"#d8576b\"], [0.6666666666666666, \"#ed7953\"], [0.7777777777777778, \"#fb9f3a\"], [0.8888888888888888, \"#fdca26\"], [1.0, \"#f0f921\"]], \"type\": \"histogram2d\"}], \"histogram2dcontour\": [{\"colorbar\": {\"outlinewidth\": 0, \"ticks\": \"\"}, \"colorscale\": [[0.0, \"#0d0887\"], [0.1111111111111111, \"#46039f\"], [0.2222222222222222, \"#7201a8\"], [0.3333333333333333, \"#9c179e\"], [0.4444444444444444, \"#bd3786\"], [0.5555555555555556, \"#d8576b\"], [0.6666666666666666, \"#ed7953\"], [0.7777777777777778, \"#fb9f3a\"], [0.8888888888888888, \"#fdca26\"], [1.0, \"#f0f921\"]], \"type\": \"histogram2dcontour\"}], \"mesh3d\": [{\"colorbar\": {\"outlinewidth\": 0, \"ticks\": \"\"}, \"type\": \"mesh3d\"}], \"parcoords\": [{\"line\": {\"colorbar\": {\"outlinewidth\": 0, \"ticks\": \"\"}}, \"type\": \"parcoords\"}], \"pie\": [{\"automargin\": true, \"type\": \"pie\"}], \"scatter\": [{\"marker\": {\"colorbar\": {\"outlinewidth\": 0, \"ticks\": \"\"}}, \"type\": \"scatter\"}], \"scatter3d\": [{\"line\": {\"colorbar\": {\"outlinewidth\": 0, \"ticks\": \"\"}}, \"marker\": {\"colorbar\": {\"outlinewidth\": 0, \"ticks\": \"\"}}, \"type\": \"scatter3d\"}], \"scattercarpet\": [{\"marker\": {\"colorbar\": {\"outlinewidth\": 0, \"ticks\": \"\"}}, \"type\": \"scattercarpet\"}], \"scattergeo\": [{\"marker\": {\"colorbar\": {\"outlinewidth\": 0, \"ticks\": \"\"}}, \"type\": \"scattergeo\"}], \"scattergl\": [{\"marker\": {\"colorbar\": {\"outlinewidth\": 0, \"ticks\": \"\"}}, \"type\": \"scattergl\"}], \"scattermapbox\": [{\"marker\": {\"colorbar\": {\"outlinewidth\": 0, \"ticks\": \"\"}}, \"type\": \"scattermapbox\"}], \"scatterpolar\": [{\"marker\": {\"colorbar\": {\"outlinewidth\": 0, \"ticks\": \"\"}}, \"type\": \"scatterpolar\"}], \"scatterpolargl\": [{\"marker\": {\"colorbar\": {\"outlinewidth\": 0, \"ticks\": \"\"}}, \"type\": \"scatterpolargl\"}], \"scatterternary\": [{\"marker\": {\"colorbar\": {\"outlinewidth\": 0, \"ticks\": \"\"}}, \"type\": \"scatterternary\"}], \"surface\": [{\"colorbar\": {\"outlinewidth\": 0, \"ticks\": \"\"}, \"colorscale\": [[0.0, \"#0d0887\"], [0.1111111111111111, \"#46039f\"], [0.2222222222222222, \"#7201a8\"], [0.3333333333333333, \"#9c179e\"], [0.4444444444444444, \"#bd3786\"], [0.5555555555555556, \"#d8576b\"], [0.6666666666666666, \"#ed7953\"], [0.7777777777777778, \"#fb9f3a\"], [0.8888888888888888, \"#fdca26\"], [1.0, \"#f0f921\"]], \"type\": \"surface\"}], \"table\": [{\"cells\": {\"fill\": {\"color\": \"#EBF0F8\"}, \"line\": {\"color\": \"white\"}}, \"header\": {\"fill\": {\"color\": \"#C8D4E3\"}, \"line\": {\"color\": \"white\"}}, \"type\": \"table\"}]}, \"layout\": {\"annotationdefaults\": {\"arrowcolor\": \"#2a3f5f\", \"arrowhead\": 0, \"arrowwidth\": 1}, \"coloraxis\": {\"colorbar\": {\"outlinewidth\": 0, \"ticks\": \"\"}}, \"colorscale\": {\"diverging\": [[0, \"#8e0152\"], [0.1, \"#c51b7d\"], [0.2, \"#de77ae\"], [0.3, \"#f1b6da\"], [0.4, \"#fde0ef\"], [0.5, \"#f7f7f7\"], [0.6, \"#e6f5d0\"], [0.7, \"#b8e186\"], [0.8, \"#7fbc41\"], [0.9, \"#4d9221\"], [1, \"#276419\"]], \"sequential\": [[0.0, \"#0d0887\"], [0.1111111111111111, \"#46039f\"], [0.2222222222222222, \"#7201a8\"], [0.3333333333333333, \"#9c179e\"], [0.4444444444444444, \"#bd3786\"], [0.5555555555555556, \"#d8576b\"], [0.6666666666666666, \"#ed7953\"], [0.7777777777777778, \"#fb9f3a\"], [0.8888888888888888, \"#fdca26\"], [1.0, \"#f0f921\"]], \"sequentialminus\": [[0.0, \"#0d0887\"], [0.1111111111111111, \"#46039f\"], [0.2222222222222222, \"#7201a8\"], [0.3333333333333333, \"#9c179e\"], [0.4444444444444444, \"#bd3786\"], [0.5555555555555556, \"#d8576b\"], [0.6666666666666666, \"#ed7953\"], [0.7777777777777778, \"#fb9f3a\"], [0.8888888888888888, \"#fdca26\"], [1.0, \"#f0f921\"]]}, \"colorway\": [\"#636efa\", \"#EF553B\", \"#00cc96\", \"#ab63fa\", \"#FFA15A\", \"#19d3f3\", \"#FF6692\", \"#B6E880\", \"#FF97FF\", \"#FECB52\"], \"font\": {\"color\": \"#2a3f5f\"}, \"geo\": {\"bgcolor\": \"white\", \"lakecolor\": \"white\", \"landcolor\": \"#E5ECF6\", \"showlakes\": true, \"showland\": true, \"subunitcolor\": \"white\"}, \"hoverlabel\": {\"align\": \"left\"}, \"hovermode\": \"closest\", \"mapbox\": {\"style\": \"light\"}, \"paper_bgcolor\": \"white\", \"plot_bgcolor\": \"#E5ECF6\", \"polar\": {\"angularaxis\": {\"gridcolor\": \"white\", \"linecolor\": \"white\", \"ticks\": \"\"}, \"bgcolor\": \"#E5ECF6\", \"radialaxis\": {\"gridcolor\": \"white\", \"linecolor\": \"white\", \"ticks\": \"\"}}, \"scene\": {\"xaxis\": {\"backgroundcolor\": \"#E5ECF6\", \"gridcolor\": \"white\", \"gridwidth\": 2, \"linecolor\": \"white\", \"showbackground\": true, \"ticks\": \"\", \"zerolinecolor\": \"white\"}, \"yaxis\": {\"backgroundcolor\": \"#E5ECF6\", \"gridcolor\": \"white\", \"gridwidth\": 2, \"linecolor\": \"white\", \"showbackground\": true, \"ticks\": \"\", \"zerolinecolor\": \"white\"}, \"zaxis\": {\"backgroundcolor\": \"#E5ECF6\", \"gridcolor\": \"white\", \"gridwidth\": 2, \"linecolor\": \"white\", \"showbackground\": true, \"ticks\": \"\", \"zerolinecolor\": \"white\"}}, \"shapedefaults\": {\"line\": {\"color\": \"#2a3f5f\"}}, \"ternary\": {\"aaxis\": {\"gridcolor\": \"white\", \"linecolor\": \"white\", \"ticks\": \"\"}, \"baxis\": {\"gridcolor\": \"white\", \"linecolor\": \"white\", \"ticks\": \"\"}, \"bgcolor\": \"#E5ECF6\", \"caxis\": {\"gridcolor\": \"white\", \"linecolor\": \"white\", \"ticks\": \"\"}}, \"title\": {\"x\": 0.05}, \"xaxis\": {\"automargin\": true, \"gridcolor\": \"white\", \"linecolor\": \"white\", \"ticks\": \"\", \"title\": {\"standoff\": 15}, \"zerolinecolor\": \"white\", \"zerolinewidth\": 2}, \"yaxis\": {\"automargin\": true, \"gridcolor\": \"white\", \"linecolor\": \"white\", \"ticks\": \"\", \"title\": {\"standoff\": 15}, \"zerolinecolor\": \"white\", \"zerolinewidth\": 2}}}, \"title\": {\"text\": \"Top 10 richest regions & countries\"}, \"updatemenus\": [{\"active\": 0, \"buttons\": [{\"args\": [{\"visible\": [true, false, false, false]}], \"label\": \"GDP / Capita per region\", \"method\": \"update\"}, {\"args\": [{\"visible\": [false, true, false, false]}], \"label\": \"Current GDP per region\", \"method\": \"update\"}, {\"args\": [{\"visible\": [false, false, true, false]}], \"label\": \"GDP / Capita per country\", \"method\": \"update\"}, {\"args\": [{\"visible\": [false, false, false, true]}], \"label\": \"Current GDP per country\", \"method\": \"update\"}], \"showactive\": true, \"type\": \"buttons\"}]},\n",
              "                        {\"responsive\": true}\n",
              "                    ).then(function(){\n",
              "                            \n",
              "var gd = document.getElementById('327dce4a-60ec-40ff-9708-71973013e4b2');\n",
              "var x = new MutationObserver(function (mutations, observer) {{\n",
              "        var display = window.getComputedStyle(gd).display;\n",
              "        if (!display || display === 'none') {{\n",
              "            console.log([gd, 'removed!']);\n",
              "            Plotly.purge(gd);\n",
              "            observer.disconnect();\n",
              "        }}\n",
              "}});\n",
              "\n",
              "// Listen for the removal of the full notebook cells\n",
              "var notebookContainer = gd.closest('#notebook-container');\n",
              "if (notebookContainer) {{\n",
              "    x.observe(notebookContainer, {childList: true});\n",
              "}}\n",
              "\n",
              "// Listen for the clearing of the current output cell\n",
              "var outputEl = gd.closest('.output');\n",
              "if (outputEl) {{\n",
              "    x.observe(outputEl, {childList: true});\n",
              "}}\n",
              "\n",
              "                        })\n",
              "                };\n",
              "                \n",
              "            </script>\n",
              "        </div>\n",
              "</body>\n",
              "</html>"
            ]
          },
          "metadata": {
            "tags": []
          }
        }
      ]
    }
  ]
}