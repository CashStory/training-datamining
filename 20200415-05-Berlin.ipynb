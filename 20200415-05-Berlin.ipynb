{
  "nbformat": 4,
  "nbformat_minor": 0,
  "metadata": {
    "colab": {
      "name": "20200415_05",
      "provenance": [],
      "collapsed_sections": []
    },
    "kernelspec": {
      "name": "python3",
      "display_name": "Python 3"
    }
  },
  "cells": [
    {
      "cell_type": "markdown",
      "metadata": {
        "id": "GAqP42SS4yPD",
        "colab_type": "text"
      },
      "source": [
        "**Goal**\n",
        "\n",
        "Top 10 richest regions & countries in GDP per capita (wealth created per habitant) and in GDP current (total wealth created by the country)\n",
        "\n",
        "**Data**\n",
        "\n",
        "GDP CURRENT\n",
        "\n",
        "GDP PER CAPITA\n",
        "\n",
        "by countries, agregated by region\n",
        "\n",
        "**Sources**\n",
        "\n",
        "World Bank national accounts data,\n",
        "\n",
        "OECD National Accounts data files.\n",
        "\n",
        "**Notes**\n",
        "\n",
        "The top 10 for GDP current is including the G8, should the European Union be included in this ranking, it would come up 2nd biggest economy after the USA. \n",
        "\n",
        "In the top 10 for GDP per capita, the ranking include smaller countries, only the USA remains in this ranking from the GDP current ranking."
      ]
    },
    {
      "cell_type": "markdown",
      "metadata": {
        "id": "AU6Q5S9jTKGd",
        "colab_type": "text"
      },
      "source": [
        "**Step 1 : Import**"
      ]
    },
    {
      "cell_type": "code",
      "metadata": {
        "id": "7hqFGyx_377x",
        "colab_type": "code",
        "colab": {
          "base_uri": "https://localhost:8080/",
          "height": 51
        },
        "outputId": "91a1e245-64fc-41cf-9839-1bb8849f575f"
      },
      "source": [
        "import pandas as pd\n",
        "from pandas_datareader import wb"
      ],
      "execution_count": 1,
      "outputs": [
        {
          "output_type": "stream",
          "text": [
            "/usr/local/lib/python3.6/dist-packages/pandas_datareader/compat/__init__.py:7: FutureWarning: pandas.util.testing is deprecated. Use the functions in the public API at pandas.testing instead.\n",
            "  from pandas.util.testing import assert_frame_equal\n"
          ],
          "name": "stderr"
        }
      ]
    },
    {
      "cell_type": "markdown",
      "metadata": {
        "id": "yeUkoHbGTNVy",
        "colab_type": "text"
      },
      "source": [
        "**Step 2 : Get all countries**"
      ]
    },
    {
      "cell_type": "code",
      "metadata": {
        "id": "NrJlRC2cREYP",
        "colab_type": "code",
        "colab": {
          "base_uri": "https://localhost:8080/",
          "height": 450
        },
        "outputId": "3c79086d-610a-44af-9649-6f69f9b5f157"
      },
      "source": [
        "countries = wb.get_countries()\n",
        "countries = countries.set_index('name')\n",
        "countries"
      ],
      "execution_count": 2,
      "outputs": [
        {
          "output_type": "execute_result",
          "data": {
            "text/html": [
              "<div>\n",
              "<style scoped>\n",
              "    .dataframe tbody tr th:only-of-type {\n",
              "        vertical-align: middle;\n",
              "    }\n",
              "\n",
              "    .dataframe tbody tr th {\n",
              "        vertical-align: top;\n",
              "    }\n",
              "\n",
              "    .dataframe thead th {\n",
              "        text-align: right;\n",
              "    }\n",
              "</style>\n",
              "<table border=\"1\" class=\"dataframe\">\n",
              "  <thead>\n",
              "    <tr style=\"text-align: right;\">\n",
              "      <th></th>\n",
              "      <th>iso3c</th>\n",
              "      <th>iso2c</th>\n",
              "      <th>region</th>\n",
              "      <th>adminregion</th>\n",
              "      <th>incomeLevel</th>\n",
              "      <th>lendingType</th>\n",
              "      <th>capitalCity</th>\n",
              "      <th>longitude</th>\n",
              "      <th>latitude</th>\n",
              "    </tr>\n",
              "    <tr>\n",
              "      <th>name</th>\n",
              "      <th></th>\n",
              "      <th></th>\n",
              "      <th></th>\n",
              "      <th></th>\n",
              "      <th></th>\n",
              "      <th></th>\n",
              "      <th></th>\n",
              "      <th></th>\n",
              "      <th></th>\n",
              "    </tr>\n",
              "  </thead>\n",
              "  <tbody>\n",
              "    <tr>\n",
              "      <th>Aruba</th>\n",
              "      <td>ABW</td>\n",
              "      <td>AW</td>\n",
              "      <td>Latin America &amp; Caribbean</td>\n",
              "      <td></td>\n",
              "      <td>High income</td>\n",
              "      <td>Not classified</td>\n",
              "      <td>Oranjestad</td>\n",
              "      <td>-70.0167</td>\n",
              "      <td>12.51670</td>\n",
              "    </tr>\n",
              "    <tr>\n",
              "      <th>Afghanistan</th>\n",
              "      <td>AFG</td>\n",
              "      <td>AF</td>\n",
              "      <td>South Asia</td>\n",
              "      <td>South Asia</td>\n",
              "      <td>Low income</td>\n",
              "      <td>IDA</td>\n",
              "      <td>Kabul</td>\n",
              "      <td>69.1761</td>\n",
              "      <td>34.52280</td>\n",
              "    </tr>\n",
              "    <tr>\n",
              "      <th>Africa</th>\n",
              "      <td>AFR</td>\n",
              "      <td>A9</td>\n",
              "      <td>Aggregates</td>\n",
              "      <td></td>\n",
              "      <td>Aggregates</td>\n",
              "      <td>Aggregates</td>\n",
              "      <td></td>\n",
              "      <td>NaN</td>\n",
              "      <td>NaN</td>\n",
              "    </tr>\n",
              "    <tr>\n",
              "      <th>Angola</th>\n",
              "      <td>AGO</td>\n",
              "      <td>AO</td>\n",
              "      <td>Sub-Saharan Africa</td>\n",
              "      <td>Sub-Saharan Africa (excluding high income)</td>\n",
              "      <td>Lower middle income</td>\n",
              "      <td>IBRD</td>\n",
              "      <td>Luanda</td>\n",
              "      <td>13.2420</td>\n",
              "      <td>-8.81155</td>\n",
              "    </tr>\n",
              "    <tr>\n",
              "      <th>Albania</th>\n",
              "      <td>ALB</td>\n",
              "      <td>AL</td>\n",
              "      <td>Europe &amp; Central Asia</td>\n",
              "      <td>Europe &amp; Central Asia (excluding high income)</td>\n",
              "      <td>Upper middle income</td>\n",
              "      <td>IBRD</td>\n",
              "      <td>Tirane</td>\n",
              "      <td>19.8172</td>\n",
              "      <td>41.33170</td>\n",
              "    </tr>\n",
              "    <tr>\n",
              "      <th>...</th>\n",
              "      <td>...</td>\n",
              "      <td>...</td>\n",
              "      <td>...</td>\n",
              "      <td>...</td>\n",
              "      <td>...</td>\n",
              "      <td>...</td>\n",
              "      <td>...</td>\n",
              "      <td>...</td>\n",
              "      <td>...</td>\n",
              "    </tr>\n",
              "    <tr>\n",
              "      <th>Sub-Saharan Africa excluding South Africa and Nigeria</th>\n",
              "      <td>XZN</td>\n",
              "      <td>A5</td>\n",
              "      <td>Aggregates</td>\n",
              "      <td></td>\n",
              "      <td>Aggregates</td>\n",
              "      <td>Aggregates</td>\n",
              "      <td></td>\n",
              "      <td>NaN</td>\n",
              "      <td>NaN</td>\n",
              "    </tr>\n",
              "    <tr>\n",
              "      <th>Yemen, Rep.</th>\n",
              "      <td>YEM</td>\n",
              "      <td>YE</td>\n",
              "      <td>Middle East &amp; North Africa</td>\n",
              "      <td>Middle East &amp; North Africa (excluding high inc...</td>\n",
              "      <td>Low income</td>\n",
              "      <td>IDA</td>\n",
              "      <td>Sana'a</td>\n",
              "      <td>44.2075</td>\n",
              "      <td>15.35200</td>\n",
              "    </tr>\n",
              "    <tr>\n",
              "      <th>South Africa</th>\n",
              "      <td>ZAF</td>\n",
              "      <td>ZA</td>\n",
              "      <td>Sub-Saharan Africa</td>\n",
              "      <td>Sub-Saharan Africa (excluding high income)</td>\n",
              "      <td>Upper middle income</td>\n",
              "      <td>IBRD</td>\n",
              "      <td>Pretoria</td>\n",
              "      <td>28.1871</td>\n",
              "      <td>-25.74600</td>\n",
              "    </tr>\n",
              "    <tr>\n",
              "      <th>Zambia</th>\n",
              "      <td>ZMB</td>\n",
              "      <td>ZM</td>\n",
              "      <td>Sub-Saharan Africa</td>\n",
              "      <td>Sub-Saharan Africa (excluding high income)</td>\n",
              "      <td>Lower middle income</td>\n",
              "      <td>IDA</td>\n",
              "      <td>Lusaka</td>\n",
              "      <td>28.2937</td>\n",
              "      <td>-15.39820</td>\n",
              "    </tr>\n",
              "    <tr>\n",
              "      <th>Zimbabwe</th>\n",
              "      <td>ZWE</td>\n",
              "      <td>ZW</td>\n",
              "      <td>Sub-Saharan Africa</td>\n",
              "      <td>Sub-Saharan Africa (excluding high income)</td>\n",
              "      <td>Lower middle income</td>\n",
              "      <td>Blend</td>\n",
              "      <td>Harare</td>\n",
              "      <td>31.0672</td>\n",
              "      <td>-17.83120</td>\n",
              "    </tr>\n",
              "  </tbody>\n",
              "</table>\n",
              "<p>304 rows × 9 columns</p>\n",
              "</div>"
            ],
            "text/plain": [
              "                                                   iso3c  ...  latitude\n",
              "name                                                      ...          \n",
              "Aruba                                                ABW  ...  12.51670\n",
              "Afghanistan                                          AFG  ...  34.52280\n",
              "Africa                                               AFR  ...       NaN\n",
              "Angola                                               AGO  ...  -8.81155\n",
              "Albania                                              ALB  ...  41.33170\n",
              "...                                                  ...  ...       ...\n",
              "Sub-Saharan Africa excluding South Africa and N...   XZN  ...       NaN\n",
              "Yemen, Rep.                                          YEM  ...  15.35200\n",
              "South Africa                                         ZAF  ... -25.74600\n",
              "Zambia                                               ZMB  ... -15.39820\n",
              "Zimbabwe                                             ZWE  ... -17.83120\n",
              "\n",
              "[304 rows x 9 columns]"
            ]
          },
          "metadata": {
            "tags": []
          },
          "execution_count": 2
        }
      ]
    },
    {
      "cell_type": "markdown",
      "metadata": {
        "id": "RAUtg6PuTTGn",
        "colab_type": "text"
      },
      "source": [
        "**Step 3 : Get GDP per capita data and keep top 10**\n"
      ]
    },
    {
      "cell_type": "code",
      "metadata": {
        "id": "TdXvSnfB4IMc",
        "colab_type": "code",
        "outputId": "e27e2a65-6a39-4ef4-9258-d1531c924188",
        "colab": {
          "base_uri": "https://localhost:8080/",
          "height": 359
        }
      },
      "source": [
        "data_gdp_capita = wb.download(indicator=['NY.GDP.PCAP.CD'], country='all', start=2018, end=2018)\n",
        "data_gdp_capita.index = data_gdp_capita.index.droplevel(1)\n",
        "data_gdp_capita = data_gdp_capita.dropna()\n",
        "data_gdp_capita.columns = ['GDP / capita']\n",
        "data_gdp_capita = data_gdp_capita.sort_values('GDP / capita', ascending=False)\n",
        "data_gdp_capita = data_gdp_capita.head(10)\n",
        "data_gdp_capita = pd.merge(data_gdp_capita, countries['region'], left_index=True, right_index=True)\n",
        "data_gdp_capita"
      ],
      "execution_count": 3,
      "outputs": [
        {
          "output_type": "execute_result",
          "data": {
            "text/html": [
              "<div>\n",
              "<style scoped>\n",
              "    .dataframe tbody tr th:only-of-type {\n",
              "        vertical-align: middle;\n",
              "    }\n",
              "\n",
              "    .dataframe tbody tr th {\n",
              "        vertical-align: top;\n",
              "    }\n",
              "\n",
              "    .dataframe thead th {\n",
              "        text-align: right;\n",
              "    }\n",
              "</style>\n",
              "<table border=\"1\" class=\"dataframe\">\n",
              "  <thead>\n",
              "    <tr style=\"text-align: right;\">\n",
              "      <th></th>\n",
              "      <th>GDP / capita</th>\n",
              "      <th>region</th>\n",
              "    </tr>\n",
              "  </thead>\n",
              "  <tbody>\n",
              "    <tr>\n",
              "      <th>Monaco</th>\n",
              "      <td>185741.279992</td>\n",
              "      <td>Europe &amp; Central Asia</td>\n",
              "    </tr>\n",
              "    <tr>\n",
              "      <th>Luxembourg</th>\n",
              "      <td>116639.888047</td>\n",
              "      <td>Europe &amp; Central Asia</td>\n",
              "    </tr>\n",
              "    <tr>\n",
              "      <th>Macao SAR, China</th>\n",
              "      <td>87208.535913</td>\n",
              "      <td>East Asia &amp; Pacific</td>\n",
              "    </tr>\n",
              "    <tr>\n",
              "      <th>Switzerland</th>\n",
              "      <td>82796.547163</td>\n",
              "      <td>Europe &amp; Central Asia</td>\n",
              "    </tr>\n",
              "    <tr>\n",
              "      <th>Norway</th>\n",
              "      <td>81697.245984</td>\n",
              "      <td>Europe &amp; Central Asia</td>\n",
              "    </tr>\n",
              "    <tr>\n",
              "      <th>Ireland</th>\n",
              "      <td>78806.431996</td>\n",
              "      <td>Europe &amp; Central Asia</td>\n",
              "    </tr>\n",
              "    <tr>\n",
              "      <th>Iceland</th>\n",
              "      <td>73191.116315</td>\n",
              "      <td>Europe &amp; Central Asia</td>\n",
              "    </tr>\n",
              "    <tr>\n",
              "      <th>Qatar</th>\n",
              "      <td>68793.784437</td>\n",
              "      <td>Middle East &amp; North Africa</td>\n",
              "    </tr>\n",
              "    <tr>\n",
              "      <th>Singapore</th>\n",
              "      <td>64581.944018</td>\n",
              "      <td>East Asia &amp; Pacific</td>\n",
              "    </tr>\n",
              "    <tr>\n",
              "      <th>United States</th>\n",
              "      <td>62794.585652</td>\n",
              "      <td>North America</td>\n",
              "    </tr>\n",
              "  </tbody>\n",
              "</table>\n",
              "</div>"
            ],
            "text/plain": [
              "                   GDP / capita                      region\n",
              "Monaco            185741.279992       Europe & Central Asia\n",
              "Luxembourg        116639.888047       Europe & Central Asia\n",
              "Macao SAR, China   87208.535913         East Asia & Pacific\n",
              "Switzerland        82796.547163       Europe & Central Asia\n",
              "Norway             81697.245984       Europe & Central Asia\n",
              "Ireland            78806.431996       Europe & Central Asia\n",
              "Iceland            73191.116315       Europe & Central Asia\n",
              "Qatar              68793.784437  Middle East & North Africa\n",
              "Singapore          64581.944018         East Asia & Pacific\n",
              "United States      62794.585652               North America"
            ]
          },
          "metadata": {
            "tags": []
          },
          "execution_count": 3
        }
      ]
    },
    {
      "cell_type": "markdown",
      "metadata": {
        "id": "QC222rrLUlXV",
        "colab_type": "text"
      },
      "source": [
        "**Step 4 : Get current  GDP and keep top 10**"
      ]
    },
    {
      "cell_type": "code",
      "metadata": {
        "colab_type": "code",
        "outputId": "95dee41a-e180-400a-a522-f40aea201f63",
        "id": "CFTaHs5JQlu_",
        "colab": {
          "base_uri": "https://localhost:8080/",
          "height": 359
        }
      },
      "source": [
        "data_current_gdp = wb.download(indicator=['NY.GDP.MKTP.CD'], country='all', start=2018, end=2018)\n",
        "data_current_gdp.index = data_current_gdp.index.droplevel(1)\n",
        "data_current_gdp = data_current_gdp.dropna()\n",
        "data_current_gdp.columns = ['Current GDP']\n",
        "data_current_gdp = pd.merge(data_current_gdp, countries['region'], left_index=True, right_index=True)\n",
        "data_current_gdp = data_current_gdp[data_current_gdp.region != 'Aggregates']\n",
        "data_current_gdp = data_current_gdp.sort_values('Current GDP', ascending=False)\n",
        "data_current_gdp = data_current_gdp.head(10)\n",
        "data_current_gdp"
      ],
      "execution_count": 4,
      "outputs": [
        {
          "output_type": "execute_result",
          "data": {
            "text/html": [
              "<div>\n",
              "<style scoped>\n",
              "    .dataframe tbody tr th:only-of-type {\n",
              "        vertical-align: middle;\n",
              "    }\n",
              "\n",
              "    .dataframe tbody tr th {\n",
              "        vertical-align: top;\n",
              "    }\n",
              "\n",
              "    .dataframe thead th {\n",
              "        text-align: right;\n",
              "    }\n",
              "</style>\n",
              "<table border=\"1\" class=\"dataframe\">\n",
              "  <thead>\n",
              "    <tr style=\"text-align: right;\">\n",
              "      <th></th>\n",
              "      <th>Current GDP</th>\n",
              "      <th>region</th>\n",
              "    </tr>\n",
              "  </thead>\n",
              "  <tbody>\n",
              "    <tr>\n",
              "      <th>United States</th>\n",
              "      <td>2.054434e+13</td>\n",
              "      <td>North America</td>\n",
              "    </tr>\n",
              "    <tr>\n",
              "      <th>China</th>\n",
              "      <td>1.360815e+13</td>\n",
              "      <td>East Asia &amp; Pacific</td>\n",
              "    </tr>\n",
              "    <tr>\n",
              "      <th>Japan</th>\n",
              "      <td>4.971323e+12</td>\n",
              "      <td>East Asia &amp; Pacific</td>\n",
              "    </tr>\n",
              "    <tr>\n",
              "      <th>Germany</th>\n",
              "      <td>3.947620e+12</td>\n",
              "      <td>Europe &amp; Central Asia</td>\n",
              "    </tr>\n",
              "    <tr>\n",
              "      <th>United Kingdom</th>\n",
              "      <td>2.855297e+12</td>\n",
              "      <td>Europe &amp; Central Asia</td>\n",
              "    </tr>\n",
              "    <tr>\n",
              "      <th>France</th>\n",
              "      <td>2.777535e+12</td>\n",
              "      <td>Europe &amp; Central Asia</td>\n",
              "    </tr>\n",
              "    <tr>\n",
              "      <th>India</th>\n",
              "      <td>2.718732e+12</td>\n",
              "      <td>South Asia</td>\n",
              "    </tr>\n",
              "    <tr>\n",
              "      <th>Italy</th>\n",
              "      <td>2.083864e+12</td>\n",
              "      <td>Europe &amp; Central Asia</td>\n",
              "    </tr>\n",
              "    <tr>\n",
              "      <th>Brazil</th>\n",
              "      <td>1.868626e+12</td>\n",
              "      <td>Latin America &amp; Caribbean</td>\n",
              "    </tr>\n",
              "    <tr>\n",
              "      <th>Canada</th>\n",
              "      <td>1.713342e+12</td>\n",
              "      <td>North America</td>\n",
              "    </tr>\n",
              "  </tbody>\n",
              "</table>\n",
              "</div>"
            ],
            "text/plain": [
              "                 Current GDP                      region\n",
              "United States   2.054434e+13               North America\n",
              "China           1.360815e+13         East Asia & Pacific\n",
              "Japan           4.971323e+12         East Asia & Pacific\n",
              "Germany         3.947620e+12       Europe & Central Asia\n",
              "United Kingdom  2.855297e+12       Europe & Central Asia\n",
              "France          2.777535e+12       Europe & Central Asia\n",
              "India           2.718732e+12                  South Asia\n",
              "Italy           2.083864e+12       Europe & Central Asia\n",
              "Brazil          1.868626e+12  Latin America & Caribbean \n",
              "Canada          1.713342e+12               North America"
            ]
          },
          "metadata": {
            "tags": []
          },
          "execution_count": 4
        }
      ]
    },
    {
      "cell_type": "markdown",
      "metadata": {
        "id": "CBCd2nU9T0nn",
        "colab_type": "text"
      },
      "source": [
        "**Step 4 : Visualize data with bar charts**"
      ]
    },
    {
      "cell_type": "code",
      "metadata": {
        "id": "Pmuhz88cTyya",
        "colab_type": "code",
        "colab": {
          "base_uri": "https://localhost:8080/",
          "height": 363
        },
        "outputId": "aa14138c-81a3-4116-d4c9-add52b0d8278"
      },
      "source": [
        "data_gdp_capita.plot(kind='bar')"
      ],
      "execution_count": 5,
      "outputs": [
        {
          "output_type": "execute_result",
          "data": {
            "text/plain": [
              "<matplotlib.axes._subplots.AxesSubplot at 0x7ff89adabb38>"
            ]
          },
          "metadata": {
            "tags": []
          },
          "execution_count": 5
        },
        {
          "output_type": "display_data",
          "data": {
            "image/png": "[encoded data removed]",
            "text/plain": [
              "<Figure size 432x288 with 1 Axes>"
            ]
          },
          "metadata": {
            "tags": [],
            "needs_background": "light"
          }
        }
      ]
    },
    {
      "cell_type": "code",
      "metadata": {
        "id": "Qt-G-gRxSsMc",
        "colab_type": "code",
        "colab": {
          "base_uri": "https://localhost:8080/",
          "height": 364
        },
        "outputId": "3568350b-5e4c-481d-bd71-d82965c7d4c0"
      },
      "source": [
        "data_current_gdp.plot(kind='bar')"
      ],
      "execution_count": 6,
      "outputs": [
        {
          "output_type": "execute_result",
          "data": {
            "text/plain": [
              "<matplotlib.axes._subplots.AxesSubplot at 0x7ff89adcf160>"
            ]
          },
          "metadata": {
            "tags": []
          },
          "execution_count": 6
        },
        {
          "output_type": "display_data",
          "data": {
            "image/png": "[encoded data removed]",
            "text/plain": [
              "<Figure size 432x288 with 1 Axes>"
            ]
          },
          "metadata": {
            "tags": [],
            "needs_background": "light"
          }
        }
      ]
    },
    {
      "cell_type": "markdown",
      "metadata": {
        "id": "fNro2qI-UvWH",
        "colab_type": "text"
      },
      "source": [
        "**Step 5 : Group by region**"
      ]
    },
    {
      "cell_type": "code",
      "metadata": {
        "id": "AuPcHyrIS1aA",
        "colab_type": "code",
        "colab": {
          "base_uri": "https://localhost:8080/",
          "height": 235
        },
        "outputId": "86608c2f-662f-4d63-b842-ab9cf4e366f2"
      },
      "source": [
        "data_regions = data_current_gdp.groupby(['region']).mean()\n",
        "data_regions['GDP / country'] = data_gdp_capita.groupby(['region']).mean()\n",
        "data_regions"
      ],
      "execution_count": 7,
      "outputs": [
        {
          "output_type": "execute_result",
          "data": {
            "text/html": [
              "<div>\n",
              "<style scoped>\n",
              "    .dataframe tbody tr th:only-of-type {\n",
              "        vertical-align: middle;\n",
              "    }\n",
              "\n",
              "    .dataframe tbody tr th {\n",
              "        vertical-align: top;\n",
              "    }\n",
              "\n",
              "    .dataframe thead th {\n",
              "        text-align: right;\n",
              "    }\n",
              "</style>\n",
              "<table border=\"1\" class=\"dataframe\">\n",
              "  <thead>\n",
              "    <tr style=\"text-align: right;\">\n",
              "      <th></th>\n",
              "      <th>Current GDP</th>\n",
              "      <th>GDP / country</th>\n",
              "    </tr>\n",
              "    <tr>\n",
              "      <th>region</th>\n",
              "      <th></th>\n",
              "      <th></th>\n",
              "    </tr>\n",
              "  </thead>\n",
              "  <tbody>\n",
              "    <tr>\n",
              "      <th>East Asia &amp; Pacific</th>\n",
              "      <td>9.289737e+12</td>\n",
              "      <td>75895.239966</td>\n",
              "    </tr>\n",
              "    <tr>\n",
              "      <th>Europe &amp; Central Asia</th>\n",
              "      <td>2.916079e+12</td>\n",
              "      <td>103145.418250</td>\n",
              "    </tr>\n",
              "    <tr>\n",
              "      <th>Latin America &amp; Caribbean</th>\n",
              "      <td>1.868626e+12</td>\n",
              "      <td>NaN</td>\n",
              "    </tr>\n",
              "    <tr>\n",
              "      <th>North America</th>\n",
              "      <td>1.112884e+13</td>\n",
              "      <td>62794.585652</td>\n",
              "    </tr>\n",
              "    <tr>\n",
              "      <th>South Asia</th>\n",
              "      <td>2.718732e+12</td>\n",
              "      <td>NaN</td>\n",
              "    </tr>\n",
              "  </tbody>\n",
              "</table>\n",
              "</div>"
            ],
            "text/plain": [
              "                             Current GDP  GDP / country\n",
              "region                                                 \n",
              "East Asia & Pacific         9.289737e+12   75895.239966\n",
              "Europe & Central Asia       2.916079e+12  103145.418250\n",
              "Latin America & Caribbean   1.868626e+12            NaN\n",
              "North America               1.112884e+13   62794.585652\n",
              "South Asia                  2.718732e+12            NaN"
            ]
          },
          "metadata": {
            "tags": []
          },
          "execution_count": 7
        }
      ]
    }
  ]
}
